{
 "cells": [
  {
   "cell_type": "code",
   "execution_count": 108,
   "metadata": {
    "collapsed": false
   },
   "outputs": [],
   "source": [
    "%matplotlib inline\n",
    "import pandas as pd\n",
    "import seaborn as sns\n",
    "import matplotlib.pyplot as plt\n",
    "import numpy as np\n",
    "import scipy as sp\n",
    "\n",
    "sns.set(style='ticks', font_scale=1.5)\n",
    "\n",
    "%load_ext rpy2.ipython"
   ]
  },
  {
   "cell_type": "code",
   "execution_count": 2,
   "metadata": {
    "collapsed": false
   },
   "outputs": [
    {
     "data": {
      "text/html": [
       "<div>\n",
       "<table border=\"1\" class=\"dataframe\">\n",
       "  <thead>\n",
       "    <tr style=\"text-align: right;\">\n",
       "      <th></th>\n",
       "      <th>subid</th>\n",
       "      <th>group</th>\n",
       "      <th>remove</th>\n",
       "    </tr>\n",
       "  </thead>\n",
       "  <tbody>\n",
       "    <tr>\n",
       "      <th>0</th>\n",
       "      <td>sst01</td>\n",
       "      <td>control</td>\n",
       "      <td>1.0</td>\n",
       "    </tr>\n",
       "    <tr>\n",
       "      <th>1</th>\n",
       "      <td>sst02</td>\n",
       "      <td>control</td>\n",
       "      <td>1.0</td>\n",
       "    </tr>\n",
       "    <tr>\n",
       "      <th>2</th>\n",
       "      <td>sst03</td>\n",
       "      <td>control</td>\n",
       "      <td>NaN</td>\n",
       "    </tr>\n",
       "    <tr>\n",
       "      <th>3</th>\n",
       "      <td>sst04</td>\n",
       "      <td>control</td>\n",
       "      <td>NaN</td>\n",
       "    </tr>\n",
       "    <tr>\n",
       "      <th>4</th>\n",
       "      <td>sst05</td>\n",
       "      <td>control</td>\n",
       "      <td>NaN</td>\n",
       "    </tr>\n",
       "  </tbody>\n",
       "</table>\n",
       "</div>"
      ],
      "text/plain": [
       "   subid    group  remove\n",
       "0  sst01  control     1.0\n",
       "1  sst02  control     1.0\n",
       "2  sst03  control     NaN\n",
       "3  sst04  control     NaN\n",
       "4  sst05  control     NaN"
      ]
     },
     "execution_count": 2,
     "metadata": {},
     "output_type": "execute_result"
    }
   ],
   "source": [
    "group_info = pd.read_csv('/Volumes/group/awagner/sgagnon/SST/scripts/subjects_groups.csv')\n",
    "group_info.head()"
   ]
  },
  {
   "cell_type": "code",
   "execution_count": 285,
   "metadata": {
    "collapsed": false
   },
   "outputs": [
    {
     "data": {
      "text/html": [
       "<div>\n",
       "<table border=\"1\" class=\"dataframe\">\n",
       "  <thead>\n",
       "    <tr style=\"text-align: right;\">\n",
       "      <th></th>\n",
       "      <th>subid</th>\n",
       "      <th>env</th>\n",
       "      <th>run_type</th>\n",
       "      <th>rep</th>\n",
       "      <th>code1</th>\n",
       "      <th>coder</th>\n",
       "    </tr>\n",
       "  </thead>\n",
       "  <tbody>\n",
       "    <tr>\n",
       "      <th>0</th>\n",
       "      <td>sst01</td>\n",
       "      <td>1</td>\n",
       "      <td>habit</td>\n",
       "      <td>1</td>\n",
       "      <td>habit</td>\n",
       "      <td>sm</td>\n",
       "    </tr>\n",
       "    <tr>\n",
       "      <th>1</th>\n",
       "      <td>sst01</td>\n",
       "      <td>2</td>\n",
       "      <td>habit</td>\n",
       "      <td>1</td>\n",
       "      <td>habit</td>\n",
       "      <td>sm</td>\n",
       "    </tr>\n",
       "    <tr>\n",
       "      <th>2</th>\n",
       "      <td>sst01</td>\n",
       "      <td>3</td>\n",
       "      <td>habit</td>\n",
       "      <td>1</td>\n",
       "      <td>other</td>\n",
       "      <td>sm</td>\n",
       "    </tr>\n",
       "    <tr>\n",
       "      <th>3</th>\n",
       "      <td>sst01</td>\n",
       "      <td>4</td>\n",
       "      <td>habit</td>\n",
       "      <td>1</td>\n",
       "      <td>other</td>\n",
       "      <td>sm</td>\n",
       "    </tr>\n",
       "    <tr>\n",
       "      <th>4</th>\n",
       "      <td>sst01</td>\n",
       "      <td>5</td>\n",
       "      <td>habit</td>\n",
       "      <td>1</td>\n",
       "      <td>other</td>\n",
       "      <td>sm</td>\n",
       "    </tr>\n",
       "  </tbody>\n",
       "</table>\n",
       "</div>"
      ],
      "text/plain": [
       "   subid  env run_type  rep  code1 coder\n",
       "0  sst01    1    habit    1  habit    sm\n",
       "1  sst01    2    habit    1  habit    sm\n",
       "2  sst01    3    habit    1  other    sm\n",
       "3  sst01    4    habit    1  other    sm\n",
       "4  sst01    5    habit    1  other    sm"
      ]
     },
     "execution_count": 285,
     "metadata": {},
     "output_type": "execute_result"
    }
   ],
   "source": [
    "filepath='/Volumes/group/awagner/sgagnon/SST/nav_data/analysis/route_coding_sm.csv'\n",
    "d = pd.read_csv(filepath)\n",
    "d.head()"
   ]
  },
  {
   "cell_type": "code",
   "execution_count": 286,
   "metadata": {
    "collapsed": false
   },
   "outputs": [
    {
     "name": "stdout",
     "output_type": "stream",
     "text": [
      "     subid  env  run_type  rep code1 coder\n",
      "331  sst11    8     habit    1   NaN    sm\n",
      "332  sst11    9     habit    1   NaN    sm\n",
      "440  sst14    9     habit    1   NaN    sm\n",
      "643  sst20   10  shortcut    2   NaN    sm\n",
      "645  sst20   11  shortcut    2   NaN    sm\n",
      "647  sst20   12  shortcut    2   NaN    sm\n"
     ]
    }
   ],
   "source": [
    "# Remove subjs w/bad coding\n",
    "remove_subjs = ['sst01', 'sst02', 'sst39']\n",
    "d = d.loc[~d.subid.isin(remove_subjs)]\n",
    "\n",
    "print d[d.code1.isnull()]"
   ]
  },
  {
   "cell_type": "code",
   "execution_count": 287,
   "metadata": {
    "collapsed": false
   },
   "outputs": [
    {
     "data": {
      "text/plain": [
       "array(['habit', 'other', 'shortcut', 'backtrack'], dtype=object)"
      ]
     },
     "execution_count": 287,
     "metadata": {},
     "output_type": "execute_result"
    }
   ],
   "source": [
    "# Remove uncoded trials (usually not run)\n",
    "d = d.loc[~d.code1.isnull()]\n",
    "\n",
    "d.loc[d.code1 == 'NO MAP SHOWN',:]\n",
    "\n",
    "d = d.loc[d.code1 != 'NO MAP SHOWN',:]\n",
    "codes = d.code1.unique(); codes"
   ]
  },
  {
   "cell_type": "markdown",
   "metadata": {},
   "source": [
    "### Merge data from Sarah + Morgan"
   ]
  },
  {
   "cell_type": "code",
   "execution_count": 288,
   "metadata": {
    "collapsed": false
   },
   "outputs": [
    {
     "data": {
      "text/html": [
       "<div>\n",
       "<table border=\"1\" class=\"dataframe\">\n",
       "  <thead>\n",
       "    <tr style=\"text-align: right;\">\n",
       "      <th></th>\n",
       "      <th>subid</th>\n",
       "      <th>env</th>\n",
       "      <th>run_type</th>\n",
       "      <th>rep</th>\n",
       "      <th>code1</th>\n",
       "      <th>coder</th>\n",
       "    </tr>\n",
       "  </thead>\n",
       "  <tbody>\n",
       "    <tr>\n",
       "      <th>0</th>\n",
       "      <td>sst01</td>\n",
       "      <td>1</td>\n",
       "      <td>habit</td>\n",
       "      <td>1</td>\n",
       "      <td>habit</td>\n",
       "      <td>mg</td>\n",
       "    </tr>\n",
       "    <tr>\n",
       "      <th>1</th>\n",
       "      <td>sst01</td>\n",
       "      <td>2</td>\n",
       "      <td>habit</td>\n",
       "      <td>1</td>\n",
       "      <td>habit</td>\n",
       "      <td>mg</td>\n",
       "    </tr>\n",
       "    <tr>\n",
       "      <th>2</th>\n",
       "      <td>sst01</td>\n",
       "      <td>3</td>\n",
       "      <td>habit</td>\n",
       "      <td>1</td>\n",
       "      <td>other</td>\n",
       "      <td>mg</td>\n",
       "    </tr>\n",
       "    <tr>\n",
       "      <th>3</th>\n",
       "      <td>sst01</td>\n",
       "      <td>4</td>\n",
       "      <td>habit</td>\n",
       "      <td>1</td>\n",
       "      <td>other</td>\n",
       "      <td>mg</td>\n",
       "    </tr>\n",
       "    <tr>\n",
       "      <th>4</th>\n",
       "      <td>sst01</td>\n",
       "      <td>5</td>\n",
       "      <td>habit</td>\n",
       "      <td>1</td>\n",
       "      <td>other</td>\n",
       "      <td>mg</td>\n",
       "    </tr>\n",
       "  </tbody>\n",
       "</table>\n",
       "</div>"
      ],
      "text/plain": [
       "   subid  env run_type  rep  code1 coder\n",
       "0  sst01    1    habit    1  habit    mg\n",
       "1  sst01    2    habit    1  habit    mg\n",
       "2  sst01    3    habit    1  other    mg\n",
       "3  sst01    4    habit    1  other    mg\n",
       "4  sst01    5    habit    1  other    mg"
      ]
     },
     "execution_count": 288,
     "metadata": {},
     "output_type": "execute_result"
    }
   ],
   "source": [
    "filepath ='/Volumes/group/awagner/sgagnon/SST/nav_data/analysis/route_coding_mg.csv'\n",
    "dm = pd.read_csv(filepath)\n",
    "dm.head()"
   ]
  },
  {
   "cell_type": "code",
   "execution_count": 289,
   "metadata": {
    "collapsed": false
   },
   "outputs": [
    {
     "name": "stdout",
     "output_type": "stream",
     "text": [
      "     subid  env  run_type  rep code1 coder\n",
      "331  sst11    8     habit    1   NaN    mg\n",
      "332  sst11    9     habit    1   NaN    mg\n",
      "440  sst14    9     habit    1   NaN    mg\n",
      "645  sst20   10  shortcut    2   NaN    mg\n",
      "646  sst20   11  shortcut    2   NaN    mg\n",
      "647  sst20   12  shortcut    2   NaN    mg\n"
     ]
    },
    {
     "data": {
      "text/plain": [
       "array(['habit', 'other', 'shortcut', 'backtrack'], dtype=object)"
      ]
     },
     "execution_count": 289,
     "metadata": {},
     "output_type": "execute_result"
    }
   ],
   "source": [
    "dm = dm.loc[~dm.subid.isin(remove_subjs)]\n",
    "\n",
    "print dm[dm.code1.isnull()]\n",
    "dm = dm.loc[~dm.code1.isnull()]\n",
    "\n",
    "codes = d.code1.unique(); codes"
   ]
  },
  {
   "cell_type": "code",
   "execution_count": 290,
   "metadata": {
    "collapsed": false
   },
   "outputs": [],
   "source": [
    "d['sm'] = d.code1\n",
    "d.drop(['code1', 'coder'], axis=1, inplace=True)\n",
    "dm['mg'] = dm.code1\n",
    "dm.drop(['code1', 'coder'], axis=1, inplace=True)"
   ]
  },
  {
   "cell_type": "code",
   "execution_count": 280,
   "metadata": {
    "collapsed": false
   },
   "outputs": [
    {
     "name": "stdout",
     "output_type": "stream",
     "text": [
      "(1434, 6)\n"
     ]
    }
   ],
   "source": [
    "dmerged = d.merge(dm)\n",
    "print dmerged.shape"
   ]
  },
  {
   "cell_type": "code",
   "execution_count": 292,
   "metadata": {
    "collapsed": false
   },
   "outputs": [
    {
     "data": {
      "text/plain": [
       "False"
      ]
     },
     "execution_count": 292,
     "metadata": {},
     "output_type": "execute_result"
    }
   ],
   "source": [
    "dmerged.isnull().values.any()"
   ]
  },
  {
   "cell_type": "code",
   "execution_count": 282,
   "metadata": {
    "collapsed": false
   },
   "outputs": [
    {
     "data": {
      "text/html": [
       "<div>\n",
       "<table border=\"1\" class=\"dataframe\">\n",
       "  <thead>\n",
       "    <tr style=\"text-align: right;\">\n",
       "      <th></th>\n",
       "      <th>subid</th>\n",
       "      <th>env</th>\n",
       "      <th>run_type</th>\n",
       "      <th>rep</th>\n",
       "      <th>sm</th>\n",
       "      <th>mg</th>\n",
       "      <th>conflict</th>\n",
       "    </tr>\n",
       "  </thead>\n",
       "  <tbody>\n",
       "    <tr>\n",
       "      <th>0</th>\n",
       "      <td>sst03</td>\n",
       "      <td>1</td>\n",
       "      <td>habit</td>\n",
       "      <td>1</td>\n",
       "      <td>habit</td>\n",
       "      <td>habit</td>\n",
       "      <td>0</td>\n",
       "    </tr>\n",
       "    <tr>\n",
       "      <th>1</th>\n",
       "      <td>sst03</td>\n",
       "      <td>2</td>\n",
       "      <td>habit</td>\n",
       "      <td>1</td>\n",
       "      <td>habit</td>\n",
       "      <td>habit</td>\n",
       "      <td>0</td>\n",
       "    </tr>\n",
       "    <tr>\n",
       "      <th>2</th>\n",
       "      <td>sst03</td>\n",
       "      <td>3</td>\n",
       "      <td>habit</td>\n",
       "      <td>1</td>\n",
       "      <td>other</td>\n",
       "      <td>other</td>\n",
       "      <td>0</td>\n",
       "    </tr>\n",
       "    <tr>\n",
       "      <th>3</th>\n",
       "      <td>sst03</td>\n",
       "      <td>4</td>\n",
       "      <td>habit</td>\n",
       "      <td>1</td>\n",
       "      <td>habit</td>\n",
       "      <td>habit</td>\n",
       "      <td>0</td>\n",
       "    </tr>\n",
       "    <tr>\n",
       "      <th>4</th>\n",
       "      <td>sst03</td>\n",
       "      <td>5</td>\n",
       "      <td>habit</td>\n",
       "      <td>1</td>\n",
       "      <td>habit</td>\n",
       "      <td>habit</td>\n",
       "      <td>0</td>\n",
       "    </tr>\n",
       "  </tbody>\n",
       "</table>\n",
       "</div>"
      ],
      "text/plain": [
       "   subid  env run_type  rep     sm     mg  conflict\n",
       "0  sst03    1    habit    1  habit  habit         0\n",
       "1  sst03    2    habit    1  habit  habit         0\n",
       "2  sst03    3    habit    1  other  other         0\n",
       "3  sst03    4    habit    1  habit  habit         0\n",
       "4  sst03    5    habit    1  habit  habit         0"
      ]
     },
     "execution_count": 282,
     "metadata": {},
     "output_type": "execute_result"
    }
   ],
   "source": [
    "dmerged['conflict'] = 0\n",
    "dmerged.loc[dmerged.sm != dmerged.mg, 'conflict'] = 1\n",
    "dmerged.to_csv('/Volumes/group/awagner/sgagnon/SST/nav_data/analysis/route_coding_merged.csv')\n",
    "dmerged.head()"
   ]
  },
  {
   "cell_type": "markdown",
   "metadata": {},
   "source": [
    "#### Examine conflicts & calculate Cohen's $\\kappa$"
   ]
  },
  {
   "cell_type": "code",
   "execution_count": 121,
   "metadata": {
    "collapsed": false
   },
   "outputs": [
    {
     "data": {
      "text/plain": [
       "(63, 7)"
      ]
     },
     "execution_count": 121,
     "metadata": {},
     "output_type": "execute_result"
    }
   ],
   "source": [
    "dmerged.loc[dmerged.conflict == 1].shape"
   ]
  },
  {
   "cell_type": "code",
   "execution_count": 145,
   "metadata": {
    "collapsed": false
   },
   "outputs": [
    {
     "data": {
      "text/html": [
       "<div>\n",
       "<table border=\"1\" class=\"dataframe\">\n",
       "  <thead>\n",
       "    <tr style=\"text-align: right;\">\n",
       "      <th></th>\n",
       "      <th>subid</th>\n",
       "      <th>env</th>\n",
       "      <th>run_type</th>\n",
       "      <th>rep</th>\n",
       "      <th>sm</th>\n",
       "      <th>mg</th>\n",
       "      <th>conflict</th>\n",
       "      <th>group</th>\n",
       "      <th>remove</th>\n",
       "    </tr>\n",
       "  </thead>\n",
       "  <tbody>\n",
       "    <tr>\n",
       "      <th>0</th>\n",
       "      <td>sst03</td>\n",
       "      <td>3</td>\n",
       "      <td>shortcut</td>\n",
       "      <td>1</td>\n",
       "      <td>shortcut</td>\n",
       "      <td>habit</td>\n",
       "      <td>1</td>\n",
       "      <td>control</td>\n",
       "      <td>NaN</td>\n",
       "    </tr>\n",
       "    <tr>\n",
       "      <th>1</th>\n",
       "      <td>sst04</td>\n",
       "      <td>1</td>\n",
       "      <td>shortcut</td>\n",
       "      <td>1</td>\n",
       "      <td>shortcut</td>\n",
       "      <td>backtrack</td>\n",
       "      <td>1</td>\n",
       "      <td>control</td>\n",
       "      <td>NaN</td>\n",
       "    </tr>\n",
       "    <tr>\n",
       "      <th>2</th>\n",
       "      <td>sst10</td>\n",
       "      <td>1</td>\n",
       "      <td>shortcut</td>\n",
       "      <td>1</td>\n",
       "      <td>shortcut</td>\n",
       "      <td>backtrack</td>\n",
       "      <td>1</td>\n",
       "      <td>control</td>\n",
       "      <td>NaN</td>\n",
       "    </tr>\n",
       "    <tr>\n",
       "      <th>3</th>\n",
       "      <td>sst13</td>\n",
       "      <td>1</td>\n",
       "      <td>shortcut</td>\n",
       "      <td>1</td>\n",
       "      <td>shortcut</td>\n",
       "      <td>backtrack</td>\n",
       "      <td>1</td>\n",
       "      <td>control</td>\n",
       "      <td>NaN</td>\n",
       "    </tr>\n",
       "    <tr>\n",
       "      <th>4</th>\n",
       "      <td>sst14</td>\n",
       "      <td>1</td>\n",
       "      <td>shortcut</td>\n",
       "      <td>1</td>\n",
       "      <td>shortcut</td>\n",
       "      <td>backtrack</td>\n",
       "      <td>1</td>\n",
       "      <td>stress</td>\n",
       "      <td>NaN</td>\n",
       "    </tr>\n",
       "    <tr>\n",
       "      <th>5</th>\n",
       "      <td>sst20</td>\n",
       "      <td>4</td>\n",
       "      <td>shortcut</td>\n",
       "      <td>1</td>\n",
       "      <td>habit</td>\n",
       "      <td>other</td>\n",
       "      <td>1</td>\n",
       "      <td>stress</td>\n",
       "      <td>NaN</td>\n",
       "    </tr>\n",
       "    <tr>\n",
       "      <th>6</th>\n",
       "      <td>sst20</td>\n",
       "      <td>5</td>\n",
       "      <td>shortcut</td>\n",
       "      <td>1</td>\n",
       "      <td>habit</td>\n",
       "      <td>other</td>\n",
       "      <td>1</td>\n",
       "      <td>stress</td>\n",
       "      <td>NaN</td>\n",
       "    </tr>\n",
       "    <tr>\n",
       "      <th>7</th>\n",
       "      <td>sst20</td>\n",
       "      <td>6</td>\n",
       "      <td>shortcut</td>\n",
       "      <td>1</td>\n",
       "      <td>backtrack</td>\n",
       "      <td>other</td>\n",
       "      <td>1</td>\n",
       "      <td>stress</td>\n",
       "      <td>NaN</td>\n",
       "    </tr>\n",
       "    <tr>\n",
       "      <th>8</th>\n",
       "      <td>sst29</td>\n",
       "      <td>7</td>\n",
       "      <td>shortcut</td>\n",
       "      <td>1</td>\n",
       "      <td>other</td>\n",
       "      <td>habit</td>\n",
       "      <td>1</td>\n",
       "      <td>stress</td>\n",
       "      <td>NaN</td>\n",
       "    </tr>\n",
       "    <tr>\n",
       "      <th>9</th>\n",
       "      <td>sst46</td>\n",
       "      <td>12</td>\n",
       "      <td>shortcut</td>\n",
       "      <td>1</td>\n",
       "      <td>shortcut</td>\n",
       "      <td>other</td>\n",
       "      <td>1</td>\n",
       "      <td>stress</td>\n",
       "      <td>NaN</td>\n",
       "    </tr>\n",
       "    <tr>\n",
       "      <th>10</th>\n",
       "      <td>sst56</td>\n",
       "      <td>10</td>\n",
       "      <td>shortcut</td>\n",
       "      <td>1</td>\n",
       "      <td>backtrack</td>\n",
       "      <td>other</td>\n",
       "      <td>1</td>\n",
       "      <td>stress</td>\n",
       "      <td>NaN</td>\n",
       "    </tr>\n",
       "    <tr>\n",
       "      <th>11</th>\n",
       "      <td>sst57</td>\n",
       "      <td>2</td>\n",
       "      <td>shortcut</td>\n",
       "      <td>1</td>\n",
       "      <td>habit</td>\n",
       "      <td>other</td>\n",
       "      <td>1</td>\n",
       "      <td>control</td>\n",
       "      <td>NaN</td>\n",
       "    </tr>\n",
       "  </tbody>\n",
       "</table>\n",
       "</div>"
      ],
      "text/plain": [
       "    subid  env  run_type  rep         sm         mg  conflict    group  remove\n",
       "0   sst03    3  shortcut    1   shortcut      habit         1  control     NaN\n",
       "1   sst04    1  shortcut    1   shortcut  backtrack         1  control     NaN\n",
       "2   sst10    1  shortcut    1   shortcut  backtrack         1  control     NaN\n",
       "3   sst13    1  shortcut    1   shortcut  backtrack         1  control     NaN\n",
       "4   sst14    1  shortcut    1   shortcut  backtrack         1   stress     NaN\n",
       "5   sst20    4  shortcut    1      habit      other         1   stress     NaN\n",
       "6   sst20    5  shortcut    1      habit      other         1   stress     NaN\n",
       "7   sst20    6  shortcut    1  backtrack      other         1   stress     NaN\n",
       "8   sst29    7  shortcut    1      other      habit         1   stress     NaN\n",
       "9   sst46   12  shortcut    1   shortcut      other         1   stress     NaN\n",
       "10  sst56   10  shortcut    1  backtrack      other         1   stress     NaN\n",
       "11  sst57    2  shortcut    1      habit      other         1  control     NaN"
      ]
     },
     "execution_count": 145,
     "metadata": {},
     "output_type": "execute_result"
    }
   ],
   "source": [
    "dmerged.loc[(dmerged.conflict == 1) & \n",
    "            (dmerged.run_type == 'shortcut') &\n",
    "            (dmerged.rep == 1)].merge(group_info)"
   ]
  },
  {
   "cell_type": "code",
   "execution_count": 123,
   "metadata": {
    "collapsed": false
   },
   "outputs": [
    {
     "data": {
      "text/plain": [
       "0.93317790674108603"
      ]
     },
     "execution_count": 123,
     "metadata": {},
     "output_type": "execute_result"
    }
   ],
   "source": [
    "from sklearn.metrics import cohen_kappa_score\n",
    "cohen_kappa_score(dmerged.sm, dmerged.mg)"
   ]
  },
  {
   "cell_type": "code",
   "execution_count": 130,
   "metadata": {
    "collapsed": false
   },
   "outputs": [
    {
     "data": {
      "text/html": [
       "<div>\n",
       "<table border=\"1\" class=\"dataframe\">\n",
       "  <thead>\n",
       "    <tr style=\"text-align: right;\">\n",
       "      <th>mg</th>\n",
       "      <th>habit</th>\n",
       "      <th>other</th>\n",
       "    </tr>\n",
       "    <tr>\n",
       "      <th>sm</th>\n",
       "      <th></th>\n",
       "      <th></th>\n",
       "    </tr>\n",
       "  </thead>\n",
       "  <tbody>\n",
       "    <tr>\n",
       "      <th>habit</th>\n",
       "      <td>404</td>\n",
       "      <td>2</td>\n",
       "    </tr>\n",
       "    <tr>\n",
       "      <th>other</th>\n",
       "      <td>2</td>\n",
       "      <td>39</td>\n",
       "    </tr>\n",
       "    <tr>\n",
       "      <th>shortcut</th>\n",
       "      <td>1</td>\n",
       "      <td>29</td>\n",
       "    </tr>\n",
       "  </tbody>\n",
       "</table>\n",
       "</div>"
      ],
      "text/plain": [
       "mg        habit  other\n",
       "sm                    \n",
       "habit       404      2\n",
       "other         2     39\n",
       "shortcut      1     29"
      ]
     },
     "execution_count": 130,
     "metadata": {},
     "output_type": "execute_result"
    }
   ],
   "source": [
    "data = dmerged.loc[dmerged.run_type == 'habit']\n",
    "pd.crosstab(data.sm, data.mg)"
   ]
  },
  {
   "cell_type": "code",
   "execution_count": 129,
   "metadata": {
    "collapsed": false
   },
   "outputs": [
    {
     "data": {
      "text/html": [
       "<div>\n",
       "<table border=\"1\" class=\"dataframe\">\n",
       "  <thead>\n",
       "    <tr style=\"text-align: right;\">\n",
       "      <th>mg</th>\n",
       "      <th>backtrack</th>\n",
       "      <th>habit</th>\n",
       "      <th>other</th>\n",
       "      <th>shortcut</th>\n",
       "    </tr>\n",
       "    <tr>\n",
       "      <th>sm</th>\n",
       "      <th></th>\n",
       "      <th></th>\n",
       "      <th></th>\n",
       "      <th></th>\n",
       "    </tr>\n",
       "  </thead>\n",
       "  <tbody>\n",
       "    <tr>\n",
       "      <th>backtrack</th>\n",
       "      <td>94</td>\n",
       "      <td>2</td>\n",
       "      <td>2</td>\n",
       "      <td>1</td>\n",
       "    </tr>\n",
       "    <tr>\n",
       "      <th>habit</th>\n",
       "      <td>2</td>\n",
       "      <td>253</td>\n",
       "      <td>4</td>\n",
       "      <td>0</td>\n",
       "    </tr>\n",
       "    <tr>\n",
       "      <th>other</th>\n",
       "      <td>0</td>\n",
       "      <td>2</td>\n",
       "      <td>150</td>\n",
       "      <td>2</td>\n",
       "    </tr>\n",
       "    <tr>\n",
       "      <th>shortcut</th>\n",
       "      <td>6</td>\n",
       "      <td>2</td>\n",
       "      <td>6</td>\n",
       "      <td>431</td>\n",
       "    </tr>\n",
       "  </tbody>\n",
       "</table>\n",
       "</div>"
      ],
      "text/plain": [
       "mg         backtrack  habit  other  shortcut\n",
       "sm                                          \n",
       "backtrack         94      2      2         1\n",
       "habit              2    253      4         0\n",
       "other              0      2    150         2\n",
       "shortcut           6      2      6       431"
      ]
     },
     "execution_count": 129,
     "metadata": {},
     "output_type": "execute_result"
    }
   ],
   "source": [
    "data = dmerged.loc[dmerged.run_type == 'shortcut']\n",
    "pd.crosstab(data.sm, data.mg)"
   ]
  },
  {
   "cell_type": "code",
   "execution_count": 124,
   "metadata": {
    "collapsed": true
   },
   "outputs": [],
   "source": [
    "from statsmodels.stats.inter_rater import cohens_kappa, to_table"
   ]
  },
  {
   "cell_type": "code",
   "execution_count": 161,
   "metadata": {
    "collapsed": false
   },
   "outputs": [
    {
     "data": {
      "text/plain": [
       "{'alpha': 0.025,\n",
       " 'alpha_ci': '  95',\n",
       " 'distribution_kappa': <scipy.stats._distn_infrastructure.rv_frozen at 0x11bb4f890>,\n",
       " 'distribution_zero_null': <scipy.stats._distn_infrastructure.rv_frozen at 0x11c29c150>,\n",
       " 'kappa': 0.72704781459851553,\n",
       " 'kappa_low': 0.65949583058936323,\n",
       " 'kappa_max': 0.75915983641045504,\n",
       " 'kappa_upp': 0.79459979860766783,\n",
       " 'kind': 'Simple',\n",
       " 'pvalue_one_sided': 3.0862081621648331e-87,\n",
       " 'pvalue_two_sided': 6.1724163243296661e-87,\n",
       " 'std_kappa': 0.034465931283428515,\n",
       " 'std_kappa0': 0.036787902069529151,\n",
       " 'var_kappa': 0.0011879004192340162,\n",
       " 'var_kappa0': 0.0013533497386772674,\n",
       " 'weights': None,\n",
       " 'z_value': 19.763231217273407}"
      ]
     },
     "execution_count": 161,
     "metadata": {},
     "output_type": "execute_result"
    }
   ],
   "source": [
    "data = dmerged.loc[dmerged.run_type == 'habit']\n",
    "ct = pd.crosstab(data.sm, data.mg)\n",
    "ct['shortcut'] = 0\n",
    "\n",
    "cohens_kappa(ct)"
   ]
  },
  {
   "cell_type": "code",
   "execution_count": 131,
   "metadata": {
    "collapsed": false
   },
   "outputs": [
    {
     "data": {
      "text/plain": [
       "{'alpha': 0.025,\n",
       " 'alpha_ci': '  95',\n",
       " 'distribution_kappa': <scipy.stats._distn_infrastructure.rv_frozen at 0x11a444cd0>,\n",
       " 'distribution_zero_null': <scipy.stats._distn_infrastructure.rv_frozen at 0x11b367590>,\n",
       " 'kappa': 0.95527979735478386,\n",
       " 'kappa_low': 0.93930843421719856,\n",
       " 'kappa_max': 0.98303716451388334,\n",
       " 'kappa_upp': 0.97125116049236915,\n",
       " 'kind': 'Simple',\n",
       " 'pvalue_one_sided': 0.0,\n",
       " 'pvalue_two_sided': 0.0,\n",
       " 'std_kappa': 0.0081488043982263763,\n",
       " 'std_kappa0': 0.020333364659780823,\n",
       " 'var_kappa': 6.6403013120553547e-05,\n",
       " 'var_kappa0': 0.00041344571838762372,\n",
       " 'weights': None,\n",
       " 'z_value': 46.980901259510532}"
      ]
     },
     "execution_count": 131,
     "metadata": {},
     "output_type": "execute_result"
    }
   ],
   "source": [
    "data = dmerged.loc[dmerged.run_type == 'shortcut']\n",
    "cohens_kappa(pd.crosstab(data.sm, data.mg))"
   ]
  },
  {
   "cell_type": "markdown",
   "metadata": {},
   "source": [
    "### Load in re-coded (resolved) data"
   ]
  },
  {
   "cell_type": "code",
   "execution_count": 267,
   "metadata": {
    "collapsed": false
   },
   "outputs": [],
   "source": [
    "d = pd.read_csv('/Volumes/group/awagner/sgagnon/SST/nav_data/analysis/fmri_route_coding.csv')"
   ]
  },
  {
   "cell_type": "code",
   "execution_count": 268,
   "metadata": {
    "collapsed": false
   },
   "outputs": [
    {
     "data": {
      "text/html": [
       "<div>\n",
       "<table border=\"1\" class=\"dataframe\">\n",
       "  <thead>\n",
       "    <tr style=\"text-align: right;\">\n",
       "      <th></th>\n",
       "      <th>subid</th>\n",
       "      <th>env</th>\n",
       "      <th>run_type</th>\n",
       "      <th>rep</th>\n",
       "      <th>sm</th>\n",
       "      <th>mg</th>\n",
       "      <th>conflict</th>\n",
       "      <th>final_code</th>\n",
       "      <th>Any other info</th>\n",
       "    </tr>\n",
       "  </thead>\n",
       "  <tbody>\n",
       "    <tr>\n",
       "      <th>1</th>\n",
       "      <td>sst03</td>\n",
       "      <td>3</td>\n",
       "      <td>shortcut</td>\n",
       "      <td>1</td>\n",
       "      <td>shortcut</td>\n",
       "      <td>habit</td>\n",
       "      <td>1</td>\n",
       "      <td>shortcut</td>\n",
       "      <td>NaN</td>\n",
       "    </tr>\n",
       "    <tr>\n",
       "      <th>2</th>\n",
       "      <td>sst03</td>\n",
       "      <td>3</td>\n",
       "      <td>shortcut</td>\n",
       "      <td>2</td>\n",
       "      <td>shortcut</td>\n",
       "      <td>habit</td>\n",
       "      <td>1</td>\n",
       "      <td>shortcut</td>\n",
       "      <td>NaN</td>\n",
       "    </tr>\n",
       "    <tr>\n",
       "      <th>5</th>\n",
       "      <td>sst06</td>\n",
       "      <td>12</td>\n",
       "      <td>shortcut</td>\n",
       "      <td>2</td>\n",
       "      <td>other</td>\n",
       "      <td>shortcut</td>\n",
       "      <td>1</td>\n",
       "      <td>shortcut</td>\n",
       "      <td>wander/turnaround/take shortcut</td>\n",
       "    </tr>\n",
       "    <tr>\n",
       "      <th>21</th>\n",
       "      <td>sst20</td>\n",
       "      <td>5</td>\n",
       "      <td>shortcut</td>\n",
       "      <td>2</td>\n",
       "      <td>shortcut</td>\n",
       "      <td>other</td>\n",
       "      <td>1</td>\n",
       "      <td>shortcut</td>\n",
       "      <td>NaN</td>\n",
       "    </tr>\n",
       "    <tr>\n",
       "      <th>48</th>\n",
       "      <td>sst46</td>\n",
       "      <td>12</td>\n",
       "      <td>shortcut</td>\n",
       "      <td>1</td>\n",
       "      <td>shortcut</td>\n",
       "      <td>other</td>\n",
       "      <td>1</td>\n",
       "      <td>shortcut</td>\n",
       "      <td>NaN</td>\n",
       "    </tr>\n",
       "  </tbody>\n",
       "</table>\n",
       "</div>"
      ],
      "text/plain": [
       "    subid  env  run_type  rep        sm        mg  conflict final_code  \\\n",
       "1   sst03    3  shortcut    1  shortcut     habit         1   shortcut   \n",
       "2   sst03    3  shortcut    2  shortcut     habit         1   shortcut   \n",
       "5   sst06   12  shortcut    2     other  shortcut         1   shortcut   \n",
       "21  sst20    5  shortcut    2  shortcut     other         1   shortcut   \n",
       "48  sst46   12  shortcut    1  shortcut     other         1   shortcut   \n",
       "\n",
       "                     Any other info  \n",
       "1                               NaN  \n",
       "2                               NaN  \n",
       "5   wander/turnaround/take shortcut  \n",
       "21                              NaN  \n",
       "48                              NaN  "
      ]
     },
     "execution_count": 268,
     "metadata": {},
     "output_type": "execute_result"
    }
   ],
   "source": [
    "d.loc[(d.run_type == 'shortcut') &\n",
    "      (d.final_code == 'shortcut') & \n",
    "      (d.conflict == 1)]"
   ]
  },
  {
   "cell_type": "code",
   "execution_count": 269,
   "metadata": {
    "collapsed": false
   },
   "outputs": [
    {
     "data": {
      "text/html": [
       "<div>\n",
       "<table border=\"1\" class=\"dataframe\">\n",
       "  <thead>\n",
       "    <tr style=\"text-align: right;\">\n",
       "      <th></th>\n",
       "      <th>subid</th>\n",
       "      <th>env</th>\n",
       "      <th>run_type</th>\n",
       "      <th>rep</th>\n",
       "      <th>sm</th>\n",
       "      <th>mg</th>\n",
       "      <th>conflict</th>\n",
       "      <th>final_code</th>\n",
       "      <th>Any other info</th>\n",
       "    </tr>\n",
       "  </thead>\n",
       "  <tbody>\n",
       "    <tr>\n",
       "      <th>0</th>\n",
       "      <td>sst03</td>\n",
       "      <td>1</td>\n",
       "      <td>shortcut</td>\n",
       "      <td>2</td>\n",
       "      <td>shortcut</td>\n",
       "      <td>other</td>\n",
       "      <td>1</td>\n",
       "      <td>other</td>\n",
       "      <td>NaN</td>\n",
       "    </tr>\n",
       "    <tr>\n",
       "      <th>1</th>\n",
       "      <td>sst03</td>\n",
       "      <td>3</td>\n",
       "      <td>shortcut</td>\n",
       "      <td>1</td>\n",
       "      <td>shortcut</td>\n",
       "      <td>habit</td>\n",
       "      <td>1</td>\n",
       "      <td>shortcut</td>\n",
       "      <td>NaN</td>\n",
       "    </tr>\n",
       "    <tr>\n",
       "      <th>2</th>\n",
       "      <td>sst03</td>\n",
       "      <td>3</td>\n",
       "      <td>shortcut</td>\n",
       "      <td>2</td>\n",
       "      <td>shortcut</td>\n",
       "      <td>habit</td>\n",
       "      <td>1</td>\n",
       "      <td>shortcut</td>\n",
       "      <td>NaN</td>\n",
       "    </tr>\n",
       "    <tr>\n",
       "      <th>3</th>\n",
       "      <td>sst04</td>\n",
       "      <td>1</td>\n",
       "      <td>shortcut</td>\n",
       "      <td>1</td>\n",
       "      <td>shortcut</td>\n",
       "      <td>backtrack</td>\n",
       "      <td>1</td>\n",
       "      <td>backtrack</td>\n",
       "      <td>NaN</td>\n",
       "    </tr>\n",
       "    <tr>\n",
       "      <th>4</th>\n",
       "      <td>sst04</td>\n",
       "      <td>12</td>\n",
       "      <td>shortcut</td>\n",
       "      <td>2</td>\n",
       "      <td>shortcut</td>\n",
       "      <td>other</td>\n",
       "      <td>1</td>\n",
       "      <td>other</td>\n",
       "      <td>NaN</td>\n",
       "    </tr>\n",
       "  </tbody>\n",
       "</table>\n",
       "</div>"
      ],
      "text/plain": [
       "   subid  env  run_type  rep        sm         mg  conflict final_code  \\\n",
       "0  sst03    1  shortcut    2  shortcut      other         1      other   \n",
       "1  sst03    3  shortcut    1  shortcut      habit         1   shortcut   \n",
       "2  sst03    3  shortcut    2  shortcut      habit         1   shortcut   \n",
       "3  sst04    1  shortcut    1  shortcut  backtrack         1  backtrack   \n",
       "4  sst04   12  shortcut    2  shortcut      other         1      other   \n",
       "\n",
       "  Any other info  \n",
       "0            NaN  \n",
       "1            NaN  \n",
       "2            NaN  \n",
       "3            NaN  \n",
       "4            NaN  "
      ]
     },
     "execution_count": 269,
     "metadata": {},
     "output_type": "execute_result"
    }
   ],
   "source": [
    "d.head()"
   ]
  },
  {
   "cell_type": "code",
   "execution_count": 270,
   "metadata": {
    "collapsed": false
   },
   "outputs": [],
   "source": [
    "d.rename(columns={'final_code': 'code1'}, inplace=True)"
   ]
  },
  {
   "cell_type": "code",
   "execution_count": 271,
   "metadata": {
    "collapsed": false
   },
   "outputs": [
    {
     "data": {
      "text/html": [
       "<div>\n",
       "<table border=\"1\" class=\"dataframe\">\n",
       "  <thead>\n",
       "    <tr style=\"text-align: right;\">\n",
       "      <th></th>\n",
       "      <th>subid</th>\n",
       "      <th>env</th>\n",
       "      <th>run_type</th>\n",
       "      <th>rep</th>\n",
       "      <th>sm</th>\n",
       "      <th>mg</th>\n",
       "      <th>conflict</th>\n",
       "      <th>code1</th>\n",
       "      <th>Any other info</th>\n",
       "    </tr>\n",
       "  </thead>\n",
       "  <tbody>\n",
       "    <tr>\n",
       "      <th>0</th>\n",
       "      <td>sst03</td>\n",
       "      <td>1</td>\n",
       "      <td>shortcut</td>\n",
       "      <td>2</td>\n",
       "      <td>shortcut</td>\n",
       "      <td>other</td>\n",
       "      <td>1</td>\n",
       "      <td>other</td>\n",
       "      <td>NaN</td>\n",
       "    </tr>\n",
       "    <tr>\n",
       "      <th>1</th>\n",
       "      <td>sst03</td>\n",
       "      <td>3</td>\n",
       "      <td>shortcut</td>\n",
       "      <td>1</td>\n",
       "      <td>shortcut</td>\n",
       "      <td>habit</td>\n",
       "      <td>1</td>\n",
       "      <td>shortcut</td>\n",
       "      <td>NaN</td>\n",
       "    </tr>\n",
       "    <tr>\n",
       "      <th>2</th>\n",
       "      <td>sst03</td>\n",
       "      <td>3</td>\n",
       "      <td>shortcut</td>\n",
       "      <td>2</td>\n",
       "      <td>shortcut</td>\n",
       "      <td>habit</td>\n",
       "      <td>1</td>\n",
       "      <td>shortcut</td>\n",
       "      <td>NaN</td>\n",
       "    </tr>\n",
       "    <tr>\n",
       "      <th>3</th>\n",
       "      <td>sst04</td>\n",
       "      <td>1</td>\n",
       "      <td>shortcut</td>\n",
       "      <td>1</td>\n",
       "      <td>shortcut</td>\n",
       "      <td>backtrack</td>\n",
       "      <td>1</td>\n",
       "      <td>backtrack</td>\n",
       "      <td>NaN</td>\n",
       "    </tr>\n",
       "    <tr>\n",
       "      <th>4</th>\n",
       "      <td>sst04</td>\n",
       "      <td>12</td>\n",
       "      <td>shortcut</td>\n",
       "      <td>2</td>\n",
       "      <td>shortcut</td>\n",
       "      <td>other</td>\n",
       "      <td>1</td>\n",
       "      <td>other</td>\n",
       "      <td>NaN</td>\n",
       "    </tr>\n",
       "  </tbody>\n",
       "</table>\n",
       "</div>"
      ],
      "text/plain": [
       "   subid  env  run_type  rep        sm         mg  conflict      code1  \\\n",
       "0  sst03    1  shortcut    2  shortcut      other         1      other   \n",
       "1  sst03    3  shortcut    1  shortcut      habit         1   shortcut   \n",
       "2  sst03    3  shortcut    2  shortcut      habit         1   shortcut   \n",
       "3  sst04    1  shortcut    1  shortcut  backtrack         1  backtrack   \n",
       "4  sst04   12  shortcut    2  shortcut      other         1      other   \n",
       "\n",
       "  Any other info  \n",
       "0            NaN  \n",
       "1            NaN  \n",
       "2            NaN  \n",
       "3            NaN  \n",
       "4            NaN  "
      ]
     },
     "execution_count": 271,
     "metadata": {},
     "output_type": "execute_result"
    }
   ],
   "source": [
    "d.head()"
   ]
  },
  {
   "cell_type": "code",
   "execution_count": 227,
   "metadata": {
    "collapsed": false
   },
   "outputs": [
    {
     "name": "stdout",
     "output_type": "stream",
     "text": [
      "(120, 7)\n"
     ]
    },
    {
     "data": {
      "text/html": [
       "<div>\n",
       "<table border=\"1\" class=\"dataframe\">\n",
       "  <thead>\n",
       "    <tr style=\"text-align: right;\">\n",
       "      <th>code1</th>\n",
       "      <th>subid</th>\n",
       "      <th>run_type</th>\n",
       "      <th>rep</th>\n",
       "      <th>backtrack</th>\n",
       "      <th>habit</th>\n",
       "      <th>other</th>\n",
       "      <th>shortcut</th>\n",
       "    </tr>\n",
       "  </thead>\n",
       "  <tbody>\n",
       "    <tr>\n",
       "      <th>0</th>\n",
       "      <td>sst03</td>\n",
       "      <td>habit</td>\n",
       "      <td>1</td>\n",
       "      <td>0</td>\n",
       "      <td>10</td>\n",
       "      <td>2</td>\n",
       "      <td>0</td>\n",
       "    </tr>\n",
       "    <tr>\n",
       "      <th>1</th>\n",
       "      <td>sst03</td>\n",
       "      <td>shortcut</td>\n",
       "      <td>1</td>\n",
       "      <td>1</td>\n",
       "      <td>1</td>\n",
       "      <td>3</td>\n",
       "      <td>7</td>\n",
       "    </tr>\n",
       "    <tr>\n",
       "      <th>2</th>\n",
       "      <td>sst03</td>\n",
       "      <td>shortcut</td>\n",
       "      <td>2</td>\n",
       "      <td>1</td>\n",
       "      <td>1</td>\n",
       "      <td>2</td>\n",
       "      <td>8</td>\n",
       "    </tr>\n",
       "    <tr>\n",
       "      <th>3</th>\n",
       "      <td>sst04</td>\n",
       "      <td>habit</td>\n",
       "      <td>1</td>\n",
       "      <td>0</td>\n",
       "      <td>12</td>\n",
       "      <td>0</td>\n",
       "      <td>0</td>\n",
       "    </tr>\n",
       "    <tr>\n",
       "      <th>4</th>\n",
       "      <td>sst04</td>\n",
       "      <td>shortcut</td>\n",
       "      <td>1</td>\n",
       "      <td>1</td>\n",
       "      <td>1</td>\n",
       "      <td>2</td>\n",
       "      <td>8</td>\n",
       "    </tr>\n",
       "  </tbody>\n",
       "</table>\n",
       "</div>"
      ],
      "text/plain": [
       "code1  subid  run_type  rep  backtrack  habit  other  shortcut\n",
       "0      sst03     habit    1          0     10      2         0\n",
       "1      sst03  shortcut    1          1      1      3         7\n",
       "2      sst03  shortcut    2          1      1      2         8\n",
       "3      sst04     habit    1          0     12      0         0\n",
       "4      sst04  shortcut    1          1      1      2         8"
      ]
     },
     "execution_count": 227,
     "metadata": {},
     "output_type": "execute_result"
    }
   ],
   "source": [
    "data = d.groupby(['subid', 'run_type', 'rep', 'code1']).count().reset_index()\n",
    "data = pd.pivot_table(data, index=['subid', 'run_type', 'rep'], \n",
    "                      columns='code1', values='env', fill_value=0).reset_index()\n",
    "print data.shape\n",
    "data.head()"
   ]
  },
  {
   "cell_type": "code",
   "execution_count": 228,
   "metadata": {
    "collapsed": false
   },
   "outputs": [
    {
     "name": "stdout",
     "output_type": "stream",
     "text": [
      "(120, 9)\n"
     ]
    },
    {
     "data": {
      "text/html": [
       "<div>\n",
       "<table border=\"1\" class=\"dataframe\">\n",
       "  <thead>\n",
       "    <tr style=\"text-align: right;\">\n",
       "      <th></th>\n",
       "      <th>subid</th>\n",
       "      <th>run_type</th>\n",
       "      <th>rep</th>\n",
       "      <th>env</th>\n",
       "      <th>sm</th>\n",
       "      <th>mg</th>\n",
       "      <th>conflict</th>\n",
       "      <th>code1</th>\n",
       "      <th>Any other info</th>\n",
       "    </tr>\n",
       "  </thead>\n",
       "  <tbody>\n",
       "    <tr>\n",
       "      <th>0</th>\n",
       "      <td>sst03</td>\n",
       "      <td>habit</td>\n",
       "      <td>1</td>\n",
       "      <td>12</td>\n",
       "      <td>12</td>\n",
       "      <td>12</td>\n",
       "      <td>12</td>\n",
       "      <td>12</td>\n",
       "      <td>0</td>\n",
       "    </tr>\n",
       "    <tr>\n",
       "      <th>1</th>\n",
       "      <td>sst03</td>\n",
       "      <td>shortcut</td>\n",
       "      <td>1</td>\n",
       "      <td>12</td>\n",
       "      <td>12</td>\n",
       "      <td>12</td>\n",
       "      <td>12</td>\n",
       "      <td>12</td>\n",
       "      <td>0</td>\n",
       "    </tr>\n",
       "    <tr>\n",
       "      <th>2</th>\n",
       "      <td>sst03</td>\n",
       "      <td>shortcut</td>\n",
       "      <td>2</td>\n",
       "      <td>12</td>\n",
       "      <td>12</td>\n",
       "      <td>12</td>\n",
       "      <td>12</td>\n",
       "      <td>12</td>\n",
       "      <td>0</td>\n",
       "    </tr>\n",
       "    <tr>\n",
       "      <th>3</th>\n",
       "      <td>sst04</td>\n",
       "      <td>habit</td>\n",
       "      <td>1</td>\n",
       "      <td>12</td>\n",
       "      <td>12</td>\n",
       "      <td>12</td>\n",
       "      <td>12</td>\n",
       "      <td>12</td>\n",
       "      <td>0</td>\n",
       "    </tr>\n",
       "    <tr>\n",
       "      <th>4</th>\n",
       "      <td>sst04</td>\n",
       "      <td>shortcut</td>\n",
       "      <td>1</td>\n",
       "      <td>12</td>\n",
       "      <td>12</td>\n",
       "      <td>12</td>\n",
       "      <td>12</td>\n",
       "      <td>12</td>\n",
       "      <td>0</td>\n",
       "    </tr>\n",
       "  </tbody>\n",
       "</table>\n",
       "</div>"
      ],
      "text/plain": [
       "   subid  run_type  rep  env  sm  mg  conflict  code1  Any other info\n",
       "0  sst03     habit    1   12  12  12        12     12               0\n",
       "1  sst03  shortcut    1   12  12  12        12     12               0\n",
       "2  sst03  shortcut    2   12  12  12        12     12               0\n",
       "3  sst04     habit    1   12  12  12        12     12               0\n",
       "4  sst04  shortcut    1   12  12  12        12     12               0"
      ]
     },
     "execution_count": 228,
     "metadata": {},
     "output_type": "execute_result"
    }
   ],
   "source": [
    "data_counts = d.groupby(['subid', 'run_type', 'rep']).count().reset_index()\n",
    "print data_counts.shape\n",
    "data_counts.head()"
   ]
  },
  {
   "cell_type": "code",
   "execution_count": 229,
   "metadata": {
    "collapsed": false
   },
   "outputs": [
    {
     "data": {
      "text/plain": [
       "40"
      ]
     },
     "execution_count": 229,
     "metadata": {},
     "output_type": "execute_result"
    }
   ],
   "source": [
    "len(data.subid.unique())"
   ]
  },
  {
   "cell_type": "code",
   "execution_count": 230,
   "metadata": {
    "collapsed": false
   },
   "outputs": [
    {
     "data": {
      "text/html": [
       "<div>\n",
       "<table border=\"1\" class=\"dataframe\">\n",
       "  <thead>\n",
       "    <tr style=\"text-align: right;\">\n",
       "      <th>code1</th>\n",
       "      <th>subid</th>\n",
       "      <th>run_type</th>\n",
       "      <th>rep</th>\n",
       "      <th>backtrack</th>\n",
       "      <th>habit</th>\n",
       "      <th>other</th>\n",
       "      <th>shortcut</th>\n",
       "      <th>total_trials</th>\n",
       "    </tr>\n",
       "  </thead>\n",
       "  <tbody>\n",
       "    <tr>\n",
       "      <th>0</th>\n",
       "      <td>sst03</td>\n",
       "      <td>habit</td>\n",
       "      <td>1</td>\n",
       "      <td>0</td>\n",
       "      <td>10</td>\n",
       "      <td>2</td>\n",
       "      <td>0</td>\n",
       "      <td>12</td>\n",
       "    </tr>\n",
       "    <tr>\n",
       "      <th>1</th>\n",
       "      <td>sst03</td>\n",
       "      <td>shortcut</td>\n",
       "      <td>1</td>\n",
       "      <td>1</td>\n",
       "      <td>1</td>\n",
       "      <td>3</td>\n",
       "      <td>7</td>\n",
       "      <td>12</td>\n",
       "    </tr>\n",
       "    <tr>\n",
       "      <th>2</th>\n",
       "      <td>sst03</td>\n",
       "      <td>shortcut</td>\n",
       "      <td>2</td>\n",
       "      <td>1</td>\n",
       "      <td>1</td>\n",
       "      <td>2</td>\n",
       "      <td>8</td>\n",
       "      <td>12</td>\n",
       "    </tr>\n",
       "    <tr>\n",
       "      <th>3</th>\n",
       "      <td>sst04</td>\n",
       "      <td>habit</td>\n",
       "      <td>1</td>\n",
       "      <td>0</td>\n",
       "      <td>12</td>\n",
       "      <td>0</td>\n",
       "      <td>0</td>\n",
       "      <td>12</td>\n",
       "    </tr>\n",
       "    <tr>\n",
       "      <th>4</th>\n",
       "      <td>sst04</td>\n",
       "      <td>shortcut</td>\n",
       "      <td>1</td>\n",
       "      <td>1</td>\n",
       "      <td>1</td>\n",
       "      <td>2</td>\n",
       "      <td>8</td>\n",
       "      <td>12</td>\n",
       "    </tr>\n",
       "  </tbody>\n",
       "</table>\n",
       "</div>"
      ],
      "text/plain": [
       "code1  subid  run_type  rep  backtrack  habit  other  shortcut  total_trials\n",
       "0      sst03     habit    1          0     10      2         0            12\n",
       "1      sst03  shortcut    1          1      1      3         7            12\n",
       "2      sst03  shortcut    2          1      1      2         8            12\n",
       "3      sst04     habit    1          0     12      0         0            12\n",
       "4      sst04  shortcut    1          1      1      2         8            12"
      ]
     },
     "execution_count": 230,
     "metadata": {},
     "output_type": "execute_result"
    }
   ],
   "source": [
    "data['total_trials'] = data_counts.env\n",
    "data.head()"
   ]
  },
  {
   "cell_type": "code",
   "execution_count": 231,
   "metadata": {
    "collapsed": false
   },
   "outputs": [
    {
     "data": {
      "text/html": [
       "<div>\n",
       "<table border=\"1\" class=\"dataframe\">\n",
       "  <thead>\n",
       "    <tr style=\"text-align: right;\">\n",
       "      <th>code1</th>\n",
       "      <th>subid</th>\n",
       "      <th>run_type</th>\n",
       "      <th>rep</th>\n",
       "      <th>backtrack</th>\n",
       "      <th>habit</th>\n",
       "      <th>other</th>\n",
       "      <th>shortcut</th>\n",
       "      <th>total_trials</th>\n",
       "    </tr>\n",
       "  </thead>\n",
       "  <tbody>\n",
       "    <tr>\n",
       "      <th>25</th>\n",
       "      <td>sst12</td>\n",
       "      <td>shortcut</td>\n",
       "      <td>1</td>\n",
       "      <td>1</td>\n",
       "      <td>5</td>\n",
       "      <td>5</td>\n",
       "      <td>1</td>\n",
       "      <td>12</td>\n",
       "    </tr>\n",
       "    <tr>\n",
       "      <th>50</th>\n",
       "      <td>sst21</td>\n",
       "      <td>shortcut</td>\n",
       "      <td>2</td>\n",
       "      <td>2</td>\n",
       "      <td>4</td>\n",
       "      <td>5</td>\n",
       "      <td>1</td>\n",
       "      <td>12</td>\n",
       "    </tr>\n",
       "    <tr>\n",
       "      <th>118</th>\n",
       "      <td>sst57</td>\n",
       "      <td>shortcut</td>\n",
       "      <td>1</td>\n",
       "      <td>0</td>\n",
       "      <td>6</td>\n",
       "      <td>5</td>\n",
       "      <td>1</td>\n",
       "      <td>12</td>\n",
       "    </tr>\n",
       "  </tbody>\n",
       "</table>\n",
       "</div>"
      ],
      "text/plain": [
       "code1  subid  run_type  rep  backtrack  habit  other  shortcut  total_trials\n",
       "25     sst12  shortcut    1          1      5      5         1            12\n",
       "50     sst21  shortcut    2          2      4      5         1            12\n",
       "118    sst57  shortcut    1          0      6      5         1            12"
      ]
     },
     "execution_count": 231,
     "metadata": {},
     "output_type": "execute_result"
    }
   ],
   "source": [
    "data.loc[(data.run_type == 'shortcut') & \n",
    "         (data.other >4)]"
   ]
  },
  {
   "cell_type": "code",
   "execution_count": 232,
   "metadata": {
    "collapsed": false
   },
   "outputs": [
    {
     "data": {
      "text/html": [
       "<div>\n",
       "<table border=\"1\" class=\"dataframe\">\n",
       "  <thead>\n",
       "    <tr style=\"text-align: right;\">\n",
       "      <th>code1</th>\n",
       "      <th>habit</th>\n",
       "      <th>other</th>\n",
       "      <th>shortcut</th>\n",
       "      <th>backtrack</th>\n",
       "    </tr>\n",
       "  </thead>\n",
       "  <tbody>\n",
       "    <tr>\n",
       "      <th>0</th>\n",
       "      <td>0.833333</td>\n",
       "      <td>0.166667</td>\n",
       "      <td>0.000000</td>\n",
       "      <td>0.000000</td>\n",
       "    </tr>\n",
       "    <tr>\n",
       "      <th>1</th>\n",
       "      <td>0.083333</td>\n",
       "      <td>0.250000</td>\n",
       "      <td>0.583333</td>\n",
       "      <td>0.083333</td>\n",
       "    </tr>\n",
       "    <tr>\n",
       "      <th>2</th>\n",
       "      <td>0.083333</td>\n",
       "      <td>0.166667</td>\n",
       "      <td>0.666667</td>\n",
       "      <td>0.083333</td>\n",
       "    </tr>\n",
       "    <tr>\n",
       "      <th>3</th>\n",
       "      <td>1.000000</td>\n",
       "      <td>0.000000</td>\n",
       "      <td>0.000000</td>\n",
       "      <td>0.000000</td>\n",
       "    </tr>\n",
       "    <tr>\n",
       "      <th>4</th>\n",
       "      <td>0.083333</td>\n",
       "      <td>0.166667</td>\n",
       "      <td>0.666667</td>\n",
       "      <td>0.083333</td>\n",
       "    </tr>\n",
       "  </tbody>\n",
       "</table>\n",
       "</div>"
      ],
      "text/plain": [
       "code1     habit     other  shortcut  backtrack\n",
       "0      0.833333  0.166667  0.000000   0.000000\n",
       "1      0.083333  0.250000  0.583333   0.083333\n",
       "2      0.083333  0.166667  0.666667   0.083333\n",
       "3      1.000000  0.000000  0.000000   0.000000\n",
       "4      0.083333  0.166667  0.666667   0.083333"
      ]
     },
     "execution_count": 232,
     "metadata": {},
     "output_type": "execute_result"
    }
   ],
   "source": [
    "d1 = data.loc[:,codes[:4]]\n",
    "d2 = data.loc[:,'total_trials']\n",
    "proportions = d1.divide(d2, axis='rows')\n",
    "proportions.head()"
   ]
  },
  {
   "cell_type": "code",
   "execution_count": 233,
   "metadata": {
    "collapsed": false
   },
   "outputs": [
    {
     "data": {
      "text/html": [
       "<div>\n",
       "<table border=\"1\" class=\"dataframe\">\n",
       "  <thead>\n",
       "    <tr style=\"text-align: right;\">\n",
       "      <th>code1</th>\n",
       "      <th>habit</th>\n",
       "      <th>other</th>\n",
       "      <th>shortcut</th>\n",
       "      <th>backtrack</th>\n",
       "      <th>subid</th>\n",
       "      <th>run_type</th>\n",
       "      <th>rep</th>\n",
       "    </tr>\n",
       "  </thead>\n",
       "  <tbody>\n",
       "    <tr>\n",
       "      <th>0</th>\n",
       "      <td>0.833333</td>\n",
       "      <td>0.166667</td>\n",
       "      <td>0.000000</td>\n",
       "      <td>0.000000</td>\n",
       "      <td>sst03</td>\n",
       "      <td>habit</td>\n",
       "      <td>1</td>\n",
       "    </tr>\n",
       "    <tr>\n",
       "      <th>1</th>\n",
       "      <td>0.083333</td>\n",
       "      <td>0.250000</td>\n",
       "      <td>0.583333</td>\n",
       "      <td>0.083333</td>\n",
       "      <td>sst03</td>\n",
       "      <td>shortcut</td>\n",
       "      <td>1</td>\n",
       "    </tr>\n",
       "    <tr>\n",
       "      <th>2</th>\n",
       "      <td>0.083333</td>\n",
       "      <td>0.166667</td>\n",
       "      <td>0.666667</td>\n",
       "      <td>0.083333</td>\n",
       "      <td>sst03</td>\n",
       "      <td>shortcut</td>\n",
       "      <td>2</td>\n",
       "    </tr>\n",
       "    <tr>\n",
       "      <th>3</th>\n",
       "      <td>1.000000</td>\n",
       "      <td>0.000000</td>\n",
       "      <td>0.000000</td>\n",
       "      <td>0.000000</td>\n",
       "      <td>sst04</td>\n",
       "      <td>habit</td>\n",
       "      <td>1</td>\n",
       "    </tr>\n",
       "    <tr>\n",
       "      <th>4</th>\n",
       "      <td>0.083333</td>\n",
       "      <td>0.166667</td>\n",
       "      <td>0.666667</td>\n",
       "      <td>0.083333</td>\n",
       "      <td>sst04</td>\n",
       "      <td>shortcut</td>\n",
       "      <td>1</td>\n",
       "    </tr>\n",
       "  </tbody>\n",
       "</table>\n",
       "</div>"
      ],
      "text/plain": [
       "code1     habit     other  shortcut  backtrack  subid  run_type  rep\n",
       "0      0.833333  0.166667  0.000000   0.000000  sst03     habit    1\n",
       "1      0.083333  0.250000  0.583333   0.083333  sst03  shortcut    1\n",
       "2      0.083333  0.166667  0.666667   0.083333  sst03  shortcut    2\n",
       "3      1.000000  0.000000  0.000000   0.000000  sst04     habit    1\n",
       "4      0.083333  0.166667  0.666667   0.083333  sst04  shortcut    1"
      ]
     },
     "execution_count": 233,
     "metadata": {},
     "output_type": "execute_result"
    }
   ],
   "source": [
    "proportions[['subid', 'run_type', 'rep']] = data[['subid', 'run_type', 'rep']]\n",
    "proportions.head()"
   ]
  },
  {
   "cell_type": "code",
   "execution_count": 234,
   "metadata": {
    "collapsed": false
   },
   "outputs": [
    {
     "data": {
      "text/html": [
       "<div>\n",
       "<table border=\"1\" class=\"dataframe\">\n",
       "  <thead>\n",
       "    <tr style=\"text-align: right;\">\n",
       "      <th></th>\n",
       "      <th>subid</th>\n",
       "      <th>run_type</th>\n",
       "      <th>rep</th>\n",
       "      <th>code1</th>\n",
       "      <th>value</th>\n",
       "    </tr>\n",
       "  </thead>\n",
       "  <tbody>\n",
       "    <tr>\n",
       "      <th>0</th>\n",
       "      <td>sst03</td>\n",
       "      <td>habit</td>\n",
       "      <td>1</td>\n",
       "      <td>habit</td>\n",
       "      <td>0.833333</td>\n",
       "    </tr>\n",
       "    <tr>\n",
       "      <th>1</th>\n",
       "      <td>sst03</td>\n",
       "      <td>shortcut</td>\n",
       "      <td>1</td>\n",
       "      <td>habit</td>\n",
       "      <td>0.083333</td>\n",
       "    </tr>\n",
       "    <tr>\n",
       "      <th>2</th>\n",
       "      <td>sst03</td>\n",
       "      <td>shortcut</td>\n",
       "      <td>2</td>\n",
       "      <td>habit</td>\n",
       "      <td>0.083333</td>\n",
       "    </tr>\n",
       "    <tr>\n",
       "      <th>3</th>\n",
       "      <td>sst04</td>\n",
       "      <td>habit</td>\n",
       "      <td>1</td>\n",
       "      <td>habit</td>\n",
       "      <td>1.000000</td>\n",
       "    </tr>\n",
       "    <tr>\n",
       "      <th>4</th>\n",
       "      <td>sst04</td>\n",
       "      <td>shortcut</td>\n",
       "      <td>1</td>\n",
       "      <td>habit</td>\n",
       "      <td>0.083333</td>\n",
       "    </tr>\n",
       "  </tbody>\n",
       "</table>\n",
       "</div>"
      ],
      "text/plain": [
       "   subid  run_type  rep  code1     value\n",
       "0  sst03     habit    1  habit  0.833333\n",
       "1  sst03  shortcut    1  habit  0.083333\n",
       "2  sst03  shortcut    2  habit  0.083333\n",
       "3  sst04     habit    1  habit  1.000000\n",
       "4  sst04  shortcut    1  habit  0.083333"
      ]
     },
     "execution_count": 234,
     "metadata": {},
     "output_type": "execute_result"
    }
   ],
   "source": [
    "proportions = pd.melt(proportions, id_vars=['subid', 'run_type', 'rep'])\n",
    "proportions.head()"
   ]
  },
  {
   "cell_type": "code",
   "execution_count": 235,
   "metadata": {
    "collapsed": false
   },
   "outputs": [
    {
     "data": {
      "text/html": [
       "<div>\n",
       "<table border=\"1\" class=\"dataframe\">\n",
       "  <thead>\n",
       "    <tr style=\"text-align: right;\">\n",
       "      <th></th>\n",
       "      <th>subid</th>\n",
       "      <th>group</th>\n",
       "      <th>remove</th>\n",
       "    </tr>\n",
       "  </thead>\n",
       "  <tbody>\n",
       "    <tr>\n",
       "      <th>0</th>\n",
       "      <td>sst01</td>\n",
       "      <td>control</td>\n",
       "      <td>1.0</td>\n",
       "    </tr>\n",
       "    <tr>\n",
       "      <th>1</th>\n",
       "      <td>sst02</td>\n",
       "      <td>control</td>\n",
       "      <td>1.0</td>\n",
       "    </tr>\n",
       "    <tr>\n",
       "      <th>29</th>\n",
       "      <td>sst39</td>\n",
       "      <td>stress</td>\n",
       "      <td>1.0</td>\n",
       "    </tr>\n",
       "  </tbody>\n",
       "</table>\n",
       "</div>"
      ],
      "text/plain": [
       "    subid    group  remove\n",
       "0   sst01  control     1.0\n",
       "1   sst02  control     1.0\n",
       "29  sst39   stress     1.0"
      ]
     },
     "execution_count": 235,
     "metadata": {},
     "output_type": "execute_result"
    }
   ],
   "source": [
    "group_info.loc[group_info.remove == 1]"
   ]
  },
  {
   "cell_type": "code",
   "execution_count": 236,
   "metadata": {
    "collapsed": false
   },
   "outputs": [],
   "source": [
    "proportions = proportions.merge(group_info)\n",
    "proportions = proportions.loc[(proportions.remove!=1)]"
   ]
  },
  {
   "cell_type": "code",
   "execution_count": 237,
   "metadata": {
    "collapsed": false
   },
   "outputs": [
    {
     "data": {
      "text/html": [
       "<div>\n",
       "<table border=\"1\" class=\"dataframe\">\n",
       "  <thead>\n",
       "    <tr style=\"text-align: right;\">\n",
       "      <th></th>\n",
       "      <th>subid</th>\n",
       "      <th>run_type</th>\n",
       "      <th>rep</th>\n",
       "      <th>code1</th>\n",
       "      <th>value</th>\n",
       "      <th>group</th>\n",
       "      <th>remove</th>\n",
       "    </tr>\n",
       "  </thead>\n",
       "  <tbody>\n",
       "    <tr>\n",
       "      <th>0</th>\n",
       "      <td>sst03</td>\n",
       "      <td>habit</td>\n",
       "      <td>1</td>\n",
       "      <td>habit</td>\n",
       "      <td>0.833333</td>\n",
       "      <td>control</td>\n",
       "      <td>NaN</td>\n",
       "    </tr>\n",
       "    <tr>\n",
       "      <th>1</th>\n",
       "      <td>sst03</td>\n",
       "      <td>shortcut</td>\n",
       "      <td>1</td>\n",
       "      <td>habit</td>\n",
       "      <td>0.083333</td>\n",
       "      <td>control</td>\n",
       "      <td>NaN</td>\n",
       "    </tr>\n",
       "    <tr>\n",
       "      <th>2</th>\n",
       "      <td>sst03</td>\n",
       "      <td>shortcut</td>\n",
       "      <td>2</td>\n",
       "      <td>habit</td>\n",
       "      <td>0.083333</td>\n",
       "      <td>control</td>\n",
       "      <td>NaN</td>\n",
       "    </tr>\n",
       "    <tr>\n",
       "      <th>3</th>\n",
       "      <td>sst03</td>\n",
       "      <td>habit</td>\n",
       "      <td>1</td>\n",
       "      <td>other</td>\n",
       "      <td>0.166667</td>\n",
       "      <td>control</td>\n",
       "      <td>NaN</td>\n",
       "    </tr>\n",
       "    <tr>\n",
       "      <th>4</th>\n",
       "      <td>sst03</td>\n",
       "      <td>shortcut</td>\n",
       "      <td>1</td>\n",
       "      <td>other</td>\n",
       "      <td>0.250000</td>\n",
       "      <td>control</td>\n",
       "      <td>NaN</td>\n",
       "    </tr>\n",
       "  </tbody>\n",
       "</table>\n",
       "</div>"
      ],
      "text/plain": [
       "   subid  run_type  rep  code1     value    group  remove\n",
       "0  sst03     habit    1  habit  0.833333  control     NaN\n",
       "1  sst03  shortcut    1  habit  0.083333  control     NaN\n",
       "2  sst03  shortcut    2  habit  0.083333  control     NaN\n",
       "3  sst03     habit    1  other  0.166667  control     NaN\n",
       "4  sst03  shortcut    1  other  0.250000  control     NaN"
      ]
     },
     "execution_count": 237,
     "metadata": {},
     "output_type": "execute_result"
    }
   ],
   "source": [
    "proportions.head()"
   ]
  },
  {
   "cell_type": "code",
   "execution_count": 238,
   "metadata": {
    "collapsed": false
   },
   "outputs": [
    {
     "data": {
      "text/html": [
       "<div>\n",
       "<table border=\"1\" class=\"dataframe\">\n",
       "  <thead>\n",
       "    <tr style=\"text-align: right;\">\n",
       "      <th></th>\n",
       "      <th>subid</th>\n",
       "      <th>run_type</th>\n",
       "      <th>rep</th>\n",
       "      <th>code1</th>\n",
       "      <th>value</th>\n",
       "      <th>group</th>\n",
       "      <th>remove</th>\n",
       "    </tr>\n",
       "  </thead>\n",
       "  <tbody>\n",
       "    <tr>\n",
       "      <th>192</th>\n",
       "      <td>sst21</td>\n",
       "      <td>habit</td>\n",
       "      <td>1</td>\n",
       "      <td>habit</td>\n",
       "      <td>0.333333</td>\n",
       "      <td>control</td>\n",
       "      <td>NaN</td>\n",
       "    </tr>\n",
       "  </tbody>\n",
       "</table>\n",
       "</div>"
      ],
      "text/plain": [
       "     subid run_type  rep  code1     value    group  remove\n",
       "192  sst21    habit    1  habit  0.333333  control     NaN"
      ]
     },
     "execution_count": 238,
     "metadata": {},
     "output_type": "execute_result"
    }
   ],
   "source": [
    "proportions.loc[(proportions.run_type == 'habit') & \n",
    "                (proportions.code1 == 'habit') & \n",
    "                (proportions.value < .5)]"
   ]
  },
  {
   "cell_type": "code",
   "execution_count": 239,
   "metadata": {
    "collapsed": false
   },
   "outputs": [
    {
     "data": {
      "text/html": [
       "<div>\n",
       "<table border=\"1\" class=\"dataframe\">\n",
       "  <thead>\n",
       "    <tr style=\"text-align: right;\">\n",
       "      <th></th>\n",
       "      <th>subid</th>\n",
       "      <th>run_type</th>\n",
       "      <th>rep</th>\n",
       "      <th>code1</th>\n",
       "      <th>value</th>\n",
       "      <th>group</th>\n",
       "      <th>remove</th>\n",
       "    </tr>\n",
       "  </thead>\n",
       "  <tbody>\n",
       "    <tr>\n",
       "      <th>192</th>\n",
       "      <td>sst21</td>\n",
       "      <td>habit</td>\n",
       "      <td>1</td>\n",
       "      <td>habit</td>\n",
       "      <td>0.333333</td>\n",
       "      <td>control</td>\n",
       "      <td>NaN</td>\n",
       "    </tr>\n",
       "    <tr>\n",
       "      <th>193</th>\n",
       "      <td>sst21</td>\n",
       "      <td>shortcut</td>\n",
       "      <td>1</td>\n",
       "      <td>habit</td>\n",
       "      <td>0.250000</td>\n",
       "      <td>control</td>\n",
       "      <td>NaN</td>\n",
       "    </tr>\n",
       "    <tr>\n",
       "      <th>194</th>\n",
       "      <td>sst21</td>\n",
       "      <td>shortcut</td>\n",
       "      <td>2</td>\n",
       "      <td>habit</td>\n",
       "      <td>0.333333</td>\n",
       "      <td>control</td>\n",
       "      <td>NaN</td>\n",
       "    </tr>\n",
       "    <tr>\n",
       "      <th>195</th>\n",
       "      <td>sst21</td>\n",
       "      <td>habit</td>\n",
       "      <td>1</td>\n",
       "      <td>other</td>\n",
       "      <td>0.333333</td>\n",
       "      <td>control</td>\n",
       "      <td>NaN</td>\n",
       "    </tr>\n",
       "    <tr>\n",
       "      <th>196</th>\n",
       "      <td>sst21</td>\n",
       "      <td>shortcut</td>\n",
       "      <td>1</td>\n",
       "      <td>other</td>\n",
       "      <td>0.250000</td>\n",
       "      <td>control</td>\n",
       "      <td>NaN</td>\n",
       "    </tr>\n",
       "    <tr>\n",
       "      <th>197</th>\n",
       "      <td>sst21</td>\n",
       "      <td>shortcut</td>\n",
       "      <td>2</td>\n",
       "      <td>other</td>\n",
       "      <td>0.416667</td>\n",
       "      <td>control</td>\n",
       "      <td>NaN</td>\n",
       "    </tr>\n",
       "    <tr>\n",
       "      <th>198</th>\n",
       "      <td>sst21</td>\n",
       "      <td>habit</td>\n",
       "      <td>1</td>\n",
       "      <td>shortcut</td>\n",
       "      <td>0.333333</td>\n",
       "      <td>control</td>\n",
       "      <td>NaN</td>\n",
       "    </tr>\n",
       "    <tr>\n",
       "      <th>199</th>\n",
       "      <td>sst21</td>\n",
       "      <td>shortcut</td>\n",
       "      <td>1</td>\n",
       "      <td>shortcut</td>\n",
       "      <td>0.416667</td>\n",
       "      <td>control</td>\n",
       "      <td>NaN</td>\n",
       "    </tr>\n",
       "    <tr>\n",
       "      <th>200</th>\n",
       "      <td>sst21</td>\n",
       "      <td>shortcut</td>\n",
       "      <td>2</td>\n",
       "      <td>shortcut</td>\n",
       "      <td>0.083333</td>\n",
       "      <td>control</td>\n",
       "      <td>NaN</td>\n",
       "    </tr>\n",
       "    <tr>\n",
       "      <th>201</th>\n",
       "      <td>sst21</td>\n",
       "      <td>habit</td>\n",
       "      <td>1</td>\n",
       "      <td>backtrack</td>\n",
       "      <td>0.000000</td>\n",
       "      <td>control</td>\n",
       "      <td>NaN</td>\n",
       "    </tr>\n",
       "    <tr>\n",
       "      <th>202</th>\n",
       "      <td>sst21</td>\n",
       "      <td>shortcut</td>\n",
       "      <td>1</td>\n",
       "      <td>backtrack</td>\n",
       "      <td>0.083333</td>\n",
       "      <td>control</td>\n",
       "      <td>NaN</td>\n",
       "    </tr>\n",
       "    <tr>\n",
       "      <th>203</th>\n",
       "      <td>sst21</td>\n",
       "      <td>shortcut</td>\n",
       "      <td>2</td>\n",
       "      <td>backtrack</td>\n",
       "      <td>0.166667</td>\n",
       "      <td>control</td>\n",
       "      <td>NaN</td>\n",
       "    </tr>\n",
       "  </tbody>\n",
       "</table>\n",
       "</div>"
      ],
      "text/plain": [
       "     subid  run_type  rep      code1     value    group  remove\n",
       "192  sst21     habit    1      habit  0.333333  control     NaN\n",
       "193  sst21  shortcut    1      habit  0.250000  control     NaN\n",
       "194  sst21  shortcut    2      habit  0.333333  control     NaN\n",
       "195  sst21     habit    1      other  0.333333  control     NaN\n",
       "196  sst21  shortcut    1      other  0.250000  control     NaN\n",
       "197  sst21  shortcut    2      other  0.416667  control     NaN\n",
       "198  sst21     habit    1   shortcut  0.333333  control     NaN\n",
       "199  sst21  shortcut    1   shortcut  0.416667  control     NaN\n",
       "200  sst21  shortcut    2   shortcut  0.083333  control     NaN\n",
       "201  sst21     habit    1  backtrack  0.000000  control     NaN\n",
       "202  sst21  shortcut    1  backtrack  0.083333  control     NaN\n",
       "203  sst21  shortcut    2  backtrack  0.166667  control     NaN"
      ]
     },
     "execution_count": 239,
     "metadata": {},
     "output_type": "execute_result"
    }
   ],
   "source": [
    "proportions.loc[proportions.subid == 'sst21']"
   ]
  },
  {
   "cell_type": "code",
   "execution_count": 241,
   "metadata": {
    "collapsed": false
   },
   "outputs": [
    {
     "data": {
      "text/html": [
       "<div>\n",
       "<table border=\"1\" class=\"dataframe\">\n",
       "  <thead>\n",
       "    <tr style=\"text-align: right;\">\n",
       "      <th></th>\n",
       "      <th>subid</th>\n",
       "      <th>run_type</th>\n",
       "      <th>rep</th>\n",
       "      <th>code1</th>\n",
       "      <th>value</th>\n",
       "      <th>group</th>\n",
       "      <th>remove</th>\n",
       "    </tr>\n",
       "  </thead>\n",
       "  <tbody>\n",
       "    <tr>\n",
       "      <th>7</th>\n",
       "      <td>sst03</td>\n",
       "      <td>shortcut</td>\n",
       "      <td>1</td>\n",
       "      <td>shortcut</td>\n",
       "      <td>0.583333</td>\n",
       "      <td>control</td>\n",
       "      <td>NaN</td>\n",
       "    </tr>\n",
       "    <tr>\n",
       "      <th>8</th>\n",
       "      <td>sst03</td>\n",
       "      <td>shortcut</td>\n",
       "      <td>2</td>\n",
       "      <td>shortcut</td>\n",
       "      <td>0.666667</td>\n",
       "      <td>control</td>\n",
       "      <td>NaN</td>\n",
       "    </tr>\n",
       "    <tr>\n",
       "      <th>19</th>\n",
       "      <td>sst04</td>\n",
       "      <td>shortcut</td>\n",
       "      <td>1</td>\n",
       "      <td>shortcut</td>\n",
       "      <td>0.666667</td>\n",
       "      <td>control</td>\n",
       "      <td>NaN</td>\n",
       "    </tr>\n",
       "    <tr>\n",
       "      <th>20</th>\n",
       "      <td>sst04</td>\n",
       "      <td>shortcut</td>\n",
       "      <td>2</td>\n",
       "      <td>shortcut</td>\n",
       "      <td>0.750000</td>\n",
       "      <td>control</td>\n",
       "      <td>NaN</td>\n",
       "    </tr>\n",
       "    <tr>\n",
       "      <th>31</th>\n",
       "      <td>sst05</td>\n",
       "      <td>shortcut</td>\n",
       "      <td>1</td>\n",
       "      <td>shortcut</td>\n",
       "      <td>0.333333</td>\n",
       "      <td>control</td>\n",
       "      <td>NaN</td>\n",
       "    </tr>\n",
       "  </tbody>\n",
       "</table>\n",
       "</div>"
      ],
      "text/plain": [
       "    subid  run_type  rep     code1     value    group  remove\n",
       "7   sst03  shortcut    1  shortcut  0.583333  control     NaN\n",
       "8   sst03  shortcut    2  shortcut  0.666667  control     NaN\n",
       "19  sst04  shortcut    1  shortcut  0.666667  control     NaN\n",
       "20  sst04  shortcut    2  shortcut  0.750000  control     NaN\n",
       "31  sst05  shortcut    1  shortcut  0.333333  control     NaN"
      ]
     },
     "execution_count": 241,
     "metadata": {},
     "output_type": "execute_result"
    }
   ],
   "source": [
    "proportions.loc[(proportions.run_type == 'shortcut') & \n",
    "                (proportions.code1 == 'shortcut')].head()"
   ]
  },
  {
   "cell_type": "code",
   "execution_count": 209,
   "metadata": {
    "collapsed": false
   },
   "outputs": [
    {
     "data": {
      "text/plain": [
       "<matplotlib.text.Text at 0x124c7add0>"
      ]
     },
     "execution_count": 209,
     "metadata": {},
     "output_type": "execute_result"
    },
    {
     "data": {
      "image/png": "[encoded data removed]",
      "text/plain": [
       "<matplotlib.figure.Figure at 0x124c2d2d0>"
      ]
     },
     "metadata": {},
     "output_type": "display_data"
    }
   ],
   "source": [
    "data = proportions.loc[(proportions.run_type =='shortcut') & (proportions.rep == 1)]\n",
    "\n",
    "sns.boxplot(x='code1', y='value', hue='group',\n",
    "            data=data, palette=['white'])\n",
    "sns.swarmplot(x='code1', y='value', hue='group', split=True,\n",
    "              palette=['dodgerblue', 'orange'],size=7,linewidth=1,\n",
    "               data=data)\n",
    "\n",
    "plt.ylabel('Proportion habit trials')"
   ]
  },
  {
   "cell_type": "code",
   "execution_count": 178,
   "metadata": {
    "collapsed": false
   },
   "outputs": [
    {
     "data": {
      "text/plain": [
       "<matplotlib.text.Text at 0x11777e690>"
      ]
     },
     "execution_count": 178,
     "metadata": {},
     "output_type": "execute_result"
    },
    {
     "data": {
      "image/png": "[encoded data removed]",
      "text/plain": [
       "<matplotlib.figure.Figure at 0x117677d50>"
      ]
     },
     "metadata": {},
     "output_type": "display_data"
    }
   ],
   "source": [
    "data = proportions.loc[(proportions.run_type =='habit')]\n",
    "\n",
    "sns.factorplot(x='code1', y='value', \n",
    "               ci=68, units='subid', data=data, aspect=2)\n",
    "sns.stripplot(x='code1', y='value', jitter=True, hue='group', \n",
    "              palette=['dodgerblue', 'orange'],size=7,linewidth=1,\n",
    "               data=data)\n",
    "\n",
    "plt.ylabel('Proportion habit trials')"
   ]
  },
  {
   "cell_type": "code",
   "execution_count": 179,
   "metadata": {
    "collapsed": false
   },
   "outputs": [
    {
     "data": {
      "text/plain": [
       "<matplotlib.axes._subplots.AxesSubplot at 0x119fdd950>"
      ]
     },
     "execution_count": 179,
     "metadata": {},
     "output_type": "execute_result"
    },
    {
     "data": {
      "image/png": "[encoded data removed]",
      "text/plain": [
       "<matplotlib.figure.Figure at 0x11ba6cb90>"
      ]
     },
     "metadata": {},
     "output_type": "display_data"
    }
   ],
   "source": [
    "proportions.loc[(proportions.run_type=='habit') & \n",
    "                (proportions.code1 == 'habit'), 'value'].hist()"
   ]
  },
  {
   "cell_type": "code",
   "execution_count": 180,
   "metadata": {
    "collapsed": false
   },
   "outputs": [
    {
     "data": {
      "text/html": [
       "<div>\n",
       "<table border=\"1\" class=\"dataframe\">\n",
       "  <thead>\n",
       "    <tr style=\"text-align: right;\">\n",
       "      <th></th>\n",
       "      <th>subid</th>\n",
       "      <th>run_type</th>\n",
       "      <th>rep</th>\n",
       "      <th>code1</th>\n",
       "      <th>value</th>\n",
       "      <th>group</th>\n",
       "      <th>remove</th>\n",
       "    </tr>\n",
       "  </thead>\n",
       "  <tbody>\n",
       "    <tr>\n",
       "      <th>192</th>\n",
       "      <td>sst21</td>\n",
       "      <td>habit</td>\n",
       "      <td>1</td>\n",
       "      <td>habit</td>\n",
       "      <td>0.333333</td>\n",
       "      <td>control</td>\n",
       "      <td>NaN</td>\n",
       "    </tr>\n",
       "  </tbody>\n",
       "</table>\n",
       "</div>"
      ],
      "text/plain": [
       "     subid run_type  rep  code1     value    group  remove\n",
       "192  sst21    habit    1  habit  0.333333  control     NaN"
      ]
     },
     "execution_count": 180,
     "metadata": {},
     "output_type": "execute_result"
    }
   ],
   "source": [
    "proportions.loc[(proportions.run_type=='habit') & \n",
    "                (proportions.code1 == 'habit') & \n",
    "                (proportions.value < .5)]"
   ]
  },
  {
   "cell_type": "code",
   "execution_count": 181,
   "metadata": {
    "collapsed": false
   },
   "outputs": [
    {
     "data": {
      "text/html": [
       "<div>\n",
       "<table border=\"1\" class=\"dataframe\">\n",
       "  <thead>\n",
       "    <tr style=\"text-align: right;\">\n",
       "      <th></th>\n",
       "      <th>subid</th>\n",
       "      <th>run_type</th>\n",
       "      <th>rep</th>\n",
       "      <th>code1</th>\n",
       "      <th>value</th>\n",
       "      <th>group</th>\n",
       "      <th>remove</th>\n",
       "    </tr>\n",
       "  </thead>\n",
       "  <tbody>\n",
       "    <tr>\n",
       "      <th>192</th>\n",
       "      <td>sst21</td>\n",
       "      <td>habit</td>\n",
       "      <td>1</td>\n",
       "      <td>habit</td>\n",
       "      <td>0.333333</td>\n",
       "      <td>control</td>\n",
       "      <td>NaN</td>\n",
       "    </tr>\n",
       "    <tr>\n",
       "      <th>195</th>\n",
       "      <td>sst21</td>\n",
       "      <td>habit</td>\n",
       "      <td>1</td>\n",
       "      <td>other</td>\n",
       "      <td>0.333333</td>\n",
       "      <td>control</td>\n",
       "      <td>NaN</td>\n",
       "    </tr>\n",
       "    <tr>\n",
       "      <th>198</th>\n",
       "      <td>sst21</td>\n",
       "      <td>habit</td>\n",
       "      <td>1</td>\n",
       "      <td>shortcut</td>\n",
       "      <td>0.333333</td>\n",
       "      <td>control</td>\n",
       "      <td>NaN</td>\n",
       "    </tr>\n",
       "    <tr>\n",
       "      <th>201</th>\n",
       "      <td>sst21</td>\n",
       "      <td>habit</td>\n",
       "      <td>1</td>\n",
       "      <td>backtrack</td>\n",
       "      <td>0.000000</td>\n",
       "      <td>control</td>\n",
       "      <td>NaN</td>\n",
       "    </tr>\n",
       "  </tbody>\n",
       "</table>\n",
       "</div>"
      ],
      "text/plain": [
       "     subid run_type  rep      code1     value    group  remove\n",
       "192  sst21    habit    1      habit  0.333333  control     NaN\n",
       "195  sst21    habit    1      other  0.333333  control     NaN\n",
       "198  sst21    habit    1   shortcut  0.333333  control     NaN\n",
       "201  sst21    habit    1  backtrack  0.000000  control     NaN"
      ]
     },
     "execution_count": 181,
     "metadata": {},
     "output_type": "execute_result"
    }
   ],
   "source": [
    "proportions.loc[(proportions.subid == 'sst21') & \n",
    "                (proportions.run_type=='habit')]"
   ]
  },
  {
   "cell_type": "code",
   "execution_count": 182,
   "metadata": {
    "collapsed": false
   },
   "outputs": [
    {
     "data": {
      "text/plain": [
       "stress     20\n",
       "control    20\n",
       "Name: group, dtype: int64"
      ]
     },
     "execution_count": 182,
     "metadata": {},
     "output_type": "execute_result"
    }
   ],
   "source": [
    "data.groupby(['subid', 'group']).mean().reset_index().group.value_counts()"
   ]
  },
  {
   "cell_type": "code",
   "execution_count": 183,
   "metadata": {
    "collapsed": false
   },
   "outputs": [
    {
     "data": {
      "image/png": "[encoded data removed]",
      "text/plain": [
       "<matplotlib.figure.Figure at 0x11a6796d0>"
      ]
     },
     "metadata": {},
     "output_type": "display_data"
    }
   ],
   "source": [
    "x_order = ['shortcut', 'backtrack', 'other', 'habit']\n",
    "\n",
    "p = sns.factorplot(x='code1', y='value', col='run_type',\n",
    "                   order=x_order, aspect=1.2,\n",
    "                   ci=68, units='subid', data=proportions, \n",
    "                   kind='bar')\n",
    "\n",
    "p.set_xlabels('')\n",
    "p.set_ylabels('proportion of trials')\n",
    "sns.despine(trim=True)"
   ]
  },
  {
   "cell_type": "code",
   "execution_count": 190,
   "metadata": {
    "collapsed": false
   },
   "outputs": [
    {
     "data": {
      "image/png": "[encoded data removed]",
      "text/plain": [
       "<matplotlib.figure.Figure at 0x119fd86d0>"
      ]
     },
     "metadata": {},
     "output_type": "display_data"
    }
   ],
   "source": [
    "data = proportions.loc[proportions.run_type == 'habit']\n",
    "data = data.merge(group_info)\n",
    "\n",
    "p = sns.factorplot(x='code1', y='value', hue='group',\n",
    "                   ci=68, units='subid', order=x_order, kind='bar',\n",
    "                   aspect=1.5, dodge=.1, palette=['dodgerblue', 'orange'],\n",
    "                   data=data)\n",
    "p.set_xlabels('')\n",
    "plt.ylim(0,1)\n",
    "p.set_ylabels('proportion of trials')\n",
    "sns.despine(trim=True)"
   ]
  },
  {
   "cell_type": "code",
   "execution_count": 185,
   "metadata": {
    "collapsed": false
   },
   "outputs": [
    {
     "data": {
      "image/png": "[encoded data removed]",
      "text/plain": [
       "<matplotlib.figure.Figure at 0x11a58b1d0>"
      ]
     },
     "metadata": {},
     "output_type": "display_data"
    }
   ],
   "source": [
    "x_order = ['shortcut', 'backtrack', 'other', 'habit']\n",
    "\n",
    "p = sns.factorplot(x='code1', y='value', order=x_order, hue='rep',\n",
    "                   ci=68, units='subid', aspect=1.5, kind='bar',\n",
    "                   data=proportions.loc[proportions.run_type == 'shortcut'])\n",
    "p.set_xlabels('')\n",
    "p.set_ylabels('proportion of trials')\n",
    "sns.despine(trim=True)\n",
    "\n",
    "plt.savefig('/Volumes/group/awagner/sgagnon/SST/results/figures/route_coding/shortcut_choices.png', dpi=300)"
   ]
  },
  {
   "cell_type": "code",
   "execution_count": 186,
   "metadata": {
    "collapsed": false
   },
   "outputs": [
    {
     "data": {
      "image/png": "[encoded data removed]",
      "text/plain": [
       "<matplotlib.figure.Figure at 0x11a696e90>"
      ]
     },
     "metadata": {},
     "output_type": "display_data"
    }
   ],
   "source": [
    "data = proportions.loc[proportions.run_type == 'shortcut']\n",
    "data = data.merge(group_info)\n",
    "\n",
    "p = sns.factorplot(x='code1', y='value', hue='group',col='rep',\n",
    "                   ci=68, units='subid', order=x_order, kind='bar',\n",
    "                   aspect=1.5, dodge=.1, palette=['dodgerblue', 'orange'],\n",
    "                   data=data)\n",
    "p.set_xlabels('')\n",
    "p.set_ylabels('proportion of trials')\n",
    "sns.despine(trim=True)\n",
    "plt.savefig('/Volumes/group/awagner/sgagnon/SST/results/figures/route_coding/shortcut_choices_bygroup.png', dpi=300)"
   ]
  },
  {
   "cell_type": "code",
   "execution_count": 265,
   "metadata": {
    "collapsed": false
   },
   "outputs": [
    {
     "data": {
      "image/png": "[encoded data removed]",
      "text/plain": [
       "<matplotlib.figure.Figure at 0x1265ef7d0>"
      ]
     },
     "metadata": {},
     "output_type": "display_data"
    }
   ],
   "source": [
    "data = proportions.loc[(proportions.run_type == 'shortcut') & \n",
    "                       (proportions.rep == 1)]\n",
    "data = data.merge(group_info)\n",
    "\n",
    "p = sns.violinplot(x='code1', y='value', hue='group', inner='quartile',\n",
    "                   order=x_order, split=True,\n",
    "                   aspect=1.5, palette=['white'],\n",
    "                   data=data)\n",
    "sns.stripplot(x='code1', y='value', hue='group', data=data, split=True, \n",
    "              order=x_order, jitter=.2, alpha=.5, size=8,\n",
    "              palette=['dodgerblue', 'orange'])\n",
    "\n",
    "handles, labels = p.get_legend_handles_labels()\n",
    "p.legend(handles[2:], labels[2:], loc=9)\n",
    "\n",
    "p.set_xlabel('')\n",
    "p.set_ylabel('proportion of trials')\n",
    "sns.despine(trim=True)\n",
    "\n",
    "plt.savefig('/Users/sgagnon/Desktop/shortcut_choices_rep1_bygroup.png', dpi=300)"
   ]
  },
  {
   "cell_type": "code",
   "execution_count": 266,
   "metadata": {
    "collapsed": false
   },
   "outputs": [
    {
     "data": {
      "image/png": "[encoded data removed]",
      "text/plain": [
       "<matplotlib.figure.Figure at 0x12650a710>"
      ]
     },
     "metadata": {},
     "output_type": "display_data"
    }
   ],
   "source": [
    "data = proportions.loc[(proportions.run_type == 'habit')]\n",
    "data = data.merge(group_info)\n",
    "\n",
    "p = sns.violinplot(x='code1', y='value', hue='group', inner='quartile',\n",
    "                   order=x_order, split=True,\n",
    "                   aspect=1.5, palette=['white'],\n",
    "                   data=data)\n",
    "sns.stripplot(x='code1', y='value', hue='group', data=data, split=True, \n",
    "              order=x_order, jitter=.2, alpha=.5, size=8,\n",
    "              palette=['dodgerblue', 'orange'])\n",
    "\n",
    "handles, labels = p.get_legend_handles_labels()\n",
    "p.legend(handles[2:], labels[2:], loc=9)\n",
    "\n",
    "p.set_xlabel('')\n",
    "p.set_ylabel('proportion of trials')\n",
    "sns.despine(trim=True)\n",
    "\n",
    "plt.savefig('/Users/sgagnon/Desktop/habit_choices_rep1_bygroup.png', dpi=300)"
   ]
  },
  {
   "cell_type": "code",
   "execution_count": 197,
   "metadata": {
    "collapsed": false
   },
   "outputs": [
    {
     "data": {
      "text/html": [
       "<div>\n",
       "<table border=\"1\" class=\"dataframe\">\n",
       "  <thead>\n",
       "    <tr style=\"text-align: right;\">\n",
       "      <th></th>\n",
       "      <th>subid</th>\n",
       "      <th>run_type</th>\n",
       "      <th>rep</th>\n",
       "      <th>code1</th>\n",
       "      <th>value</th>\n",
       "      <th>group</th>\n",
       "      <th>remove</th>\n",
       "    </tr>\n",
       "  </thead>\n",
       "  <tbody>\n",
       "    <tr>\n",
       "      <th>0</th>\n",
       "      <td>sst03</td>\n",
       "      <td>shortcut</td>\n",
       "      <td>1</td>\n",
       "      <td>habit</td>\n",
       "      <td>0.083333</td>\n",
       "      <td>control</td>\n",
       "      <td>NaN</td>\n",
       "    </tr>\n",
       "    <tr>\n",
       "      <th>1</th>\n",
       "      <td>sst03</td>\n",
       "      <td>shortcut</td>\n",
       "      <td>2</td>\n",
       "      <td>habit</td>\n",
       "      <td>0.083333</td>\n",
       "      <td>control</td>\n",
       "      <td>NaN</td>\n",
       "    </tr>\n",
       "    <tr>\n",
       "      <th>2</th>\n",
       "      <td>sst03</td>\n",
       "      <td>shortcut</td>\n",
       "      <td>1</td>\n",
       "      <td>other</td>\n",
       "      <td>0.250000</td>\n",
       "      <td>control</td>\n",
       "      <td>NaN</td>\n",
       "    </tr>\n",
       "    <tr>\n",
       "      <th>3</th>\n",
       "      <td>sst03</td>\n",
       "      <td>shortcut</td>\n",
       "      <td>2</td>\n",
       "      <td>other</td>\n",
       "      <td>0.166667</td>\n",
       "      <td>control</td>\n",
       "      <td>NaN</td>\n",
       "    </tr>\n",
       "    <tr>\n",
       "      <th>4</th>\n",
       "      <td>sst03</td>\n",
       "      <td>shortcut</td>\n",
       "      <td>1</td>\n",
       "      <td>shortcut</td>\n",
       "      <td>0.583333</td>\n",
       "      <td>control</td>\n",
       "      <td>NaN</td>\n",
       "    </tr>\n",
       "    <tr>\n",
       "      <th>5</th>\n",
       "      <td>sst03</td>\n",
       "      <td>shortcut</td>\n",
       "      <td>2</td>\n",
       "      <td>shortcut</td>\n",
       "      <td>0.666667</td>\n",
       "      <td>control</td>\n",
       "      <td>NaN</td>\n",
       "    </tr>\n",
       "    <tr>\n",
       "      <th>6</th>\n",
       "      <td>sst03</td>\n",
       "      <td>shortcut</td>\n",
       "      <td>1</td>\n",
       "      <td>backtrack</td>\n",
       "      <td>0.083333</td>\n",
       "      <td>control</td>\n",
       "      <td>NaN</td>\n",
       "    </tr>\n",
       "    <tr>\n",
       "      <th>7</th>\n",
       "      <td>sst03</td>\n",
       "      <td>shortcut</td>\n",
       "      <td>2</td>\n",
       "      <td>backtrack</td>\n",
       "      <td>0.083333</td>\n",
       "      <td>control</td>\n",
       "      <td>NaN</td>\n",
       "    </tr>\n",
       "    <tr>\n",
       "      <th>8</th>\n",
       "      <td>sst04</td>\n",
       "      <td>shortcut</td>\n",
       "      <td>1</td>\n",
       "      <td>habit</td>\n",
       "      <td>0.083333</td>\n",
       "      <td>control</td>\n",
       "      <td>NaN</td>\n",
       "    </tr>\n",
       "    <tr>\n",
       "      <th>9</th>\n",
       "      <td>sst04</td>\n",
       "      <td>shortcut</td>\n",
       "      <td>2</td>\n",
       "      <td>habit</td>\n",
       "      <td>0.000000</td>\n",
       "      <td>control</td>\n",
       "      <td>NaN</td>\n",
       "    </tr>\n",
       "    <tr>\n",
       "      <th>10</th>\n",
       "      <td>sst04</td>\n",
       "      <td>shortcut</td>\n",
       "      <td>1</td>\n",
       "      <td>other</td>\n",
       "      <td>0.166667</td>\n",
       "      <td>control</td>\n",
       "      <td>NaN</td>\n",
       "    </tr>\n",
       "    <tr>\n",
       "      <th>11</th>\n",
       "      <td>sst04</td>\n",
       "      <td>shortcut</td>\n",
       "      <td>2</td>\n",
       "      <td>other</td>\n",
       "      <td>0.166667</td>\n",
       "      <td>control</td>\n",
       "      <td>NaN</td>\n",
       "    </tr>\n",
       "    <tr>\n",
       "      <th>12</th>\n",
       "      <td>sst04</td>\n",
       "      <td>shortcut</td>\n",
       "      <td>1</td>\n",
       "      <td>shortcut</td>\n",
       "      <td>0.666667</td>\n",
       "      <td>control</td>\n",
       "      <td>NaN</td>\n",
       "    </tr>\n",
       "    <tr>\n",
       "      <th>13</th>\n",
       "      <td>sst04</td>\n",
       "      <td>shortcut</td>\n",
       "      <td>2</td>\n",
       "      <td>shortcut</td>\n",
       "      <td>0.750000</td>\n",
       "      <td>control</td>\n",
       "      <td>NaN</td>\n",
       "    </tr>\n",
       "    <tr>\n",
       "      <th>14</th>\n",
       "      <td>sst04</td>\n",
       "      <td>shortcut</td>\n",
       "      <td>1</td>\n",
       "      <td>backtrack</td>\n",
       "      <td>0.083333</td>\n",
       "      <td>control</td>\n",
       "      <td>NaN</td>\n",
       "    </tr>\n",
       "    <tr>\n",
       "      <th>15</th>\n",
       "      <td>sst04</td>\n",
       "      <td>shortcut</td>\n",
       "      <td>2</td>\n",
       "      <td>backtrack</td>\n",
       "      <td>0.083333</td>\n",
       "      <td>control</td>\n",
       "      <td>NaN</td>\n",
       "    </tr>\n",
       "    <tr>\n",
       "      <th>16</th>\n",
       "      <td>sst05</td>\n",
       "      <td>shortcut</td>\n",
       "      <td>1</td>\n",
       "      <td>habit</td>\n",
       "      <td>0.500000</td>\n",
       "      <td>control</td>\n",
       "      <td>NaN</td>\n",
       "    </tr>\n",
       "    <tr>\n",
       "      <th>17</th>\n",
       "      <td>sst05</td>\n",
       "      <td>shortcut</td>\n",
       "      <td>2</td>\n",
       "      <td>habit</td>\n",
       "      <td>0.250000</td>\n",
       "      <td>control</td>\n",
       "      <td>NaN</td>\n",
       "    </tr>\n",
       "    <tr>\n",
       "      <th>18</th>\n",
       "      <td>sst05</td>\n",
       "      <td>shortcut</td>\n",
       "      <td>1</td>\n",
       "      <td>other</td>\n",
       "      <td>0.083333</td>\n",
       "      <td>control</td>\n",
       "      <td>NaN</td>\n",
       "    </tr>\n",
       "    <tr>\n",
       "      <th>19</th>\n",
       "      <td>sst05</td>\n",
       "      <td>shortcut</td>\n",
       "      <td>2</td>\n",
       "      <td>other</td>\n",
       "      <td>0.166667</td>\n",
       "      <td>control</td>\n",
       "      <td>NaN</td>\n",
       "    </tr>\n",
       "    <tr>\n",
       "      <th>20</th>\n",
       "      <td>sst05</td>\n",
       "      <td>shortcut</td>\n",
       "      <td>1</td>\n",
       "      <td>shortcut</td>\n",
       "      <td>0.333333</td>\n",
       "      <td>control</td>\n",
       "      <td>NaN</td>\n",
       "    </tr>\n",
       "    <tr>\n",
       "      <th>21</th>\n",
       "      <td>sst05</td>\n",
       "      <td>shortcut</td>\n",
       "      <td>2</td>\n",
       "      <td>shortcut</td>\n",
       "      <td>0.333333</td>\n",
       "      <td>control</td>\n",
       "      <td>NaN</td>\n",
       "    </tr>\n",
       "    <tr>\n",
       "      <th>22</th>\n",
       "      <td>sst05</td>\n",
       "      <td>shortcut</td>\n",
       "      <td>1</td>\n",
       "      <td>backtrack</td>\n",
       "      <td>0.083333</td>\n",
       "      <td>control</td>\n",
       "      <td>NaN</td>\n",
       "    </tr>\n",
       "    <tr>\n",
       "      <th>23</th>\n",
       "      <td>sst05</td>\n",
       "      <td>shortcut</td>\n",
       "      <td>2</td>\n",
       "      <td>backtrack</td>\n",
       "      <td>0.250000</td>\n",
       "      <td>control</td>\n",
       "      <td>NaN</td>\n",
       "    </tr>\n",
       "    <tr>\n",
       "      <th>24</th>\n",
       "      <td>sst06</td>\n",
       "      <td>shortcut</td>\n",
       "      <td>1</td>\n",
       "      <td>habit</td>\n",
       "      <td>0.333333</td>\n",
       "      <td>control</td>\n",
       "      <td>NaN</td>\n",
       "    </tr>\n",
       "    <tr>\n",
       "      <th>25</th>\n",
       "      <td>sst06</td>\n",
       "      <td>shortcut</td>\n",
       "      <td>2</td>\n",
       "      <td>habit</td>\n",
       "      <td>0.083333</td>\n",
       "      <td>control</td>\n",
       "      <td>NaN</td>\n",
       "    </tr>\n",
       "    <tr>\n",
       "      <th>26</th>\n",
       "      <td>sst06</td>\n",
       "      <td>shortcut</td>\n",
       "      <td>1</td>\n",
       "      <td>other</td>\n",
       "      <td>0.000000</td>\n",
       "      <td>control</td>\n",
       "      <td>NaN</td>\n",
       "    </tr>\n",
       "    <tr>\n",
       "      <th>27</th>\n",
       "      <td>sst06</td>\n",
       "      <td>shortcut</td>\n",
       "      <td>2</td>\n",
       "      <td>other</td>\n",
       "      <td>0.166667</td>\n",
       "      <td>control</td>\n",
       "      <td>NaN</td>\n",
       "    </tr>\n",
       "    <tr>\n",
       "      <th>28</th>\n",
       "      <td>sst06</td>\n",
       "      <td>shortcut</td>\n",
       "      <td>1</td>\n",
       "      <td>shortcut</td>\n",
       "      <td>0.583333</td>\n",
       "      <td>control</td>\n",
       "      <td>NaN</td>\n",
       "    </tr>\n",
       "    <tr>\n",
       "      <th>29</th>\n",
       "      <td>sst06</td>\n",
       "      <td>shortcut</td>\n",
       "      <td>2</td>\n",
       "      <td>shortcut</td>\n",
       "      <td>0.750000</td>\n",
       "      <td>control</td>\n",
       "      <td>NaN</td>\n",
       "    </tr>\n",
       "    <tr>\n",
       "      <th>...</th>\n",
       "      <td>...</td>\n",
       "      <td>...</td>\n",
       "      <td>...</td>\n",
       "      <td>...</td>\n",
       "      <td>...</td>\n",
       "      <td>...</td>\n",
       "      <td>...</td>\n",
       "    </tr>\n",
       "    <tr>\n",
       "      <th>290</th>\n",
       "      <td>sst54</td>\n",
       "      <td>shortcut</td>\n",
       "      <td>1</td>\n",
       "      <td>other</td>\n",
       "      <td>0.250000</td>\n",
       "      <td>stress</td>\n",
       "      <td>NaN</td>\n",
       "    </tr>\n",
       "    <tr>\n",
       "      <th>291</th>\n",
       "      <td>sst54</td>\n",
       "      <td>shortcut</td>\n",
       "      <td>2</td>\n",
       "      <td>other</td>\n",
       "      <td>0.083333</td>\n",
       "      <td>stress</td>\n",
       "      <td>NaN</td>\n",
       "    </tr>\n",
       "    <tr>\n",
       "      <th>292</th>\n",
       "      <td>sst54</td>\n",
       "      <td>shortcut</td>\n",
       "      <td>1</td>\n",
       "      <td>shortcut</td>\n",
       "      <td>0.166667</td>\n",
       "      <td>stress</td>\n",
       "      <td>NaN</td>\n",
       "    </tr>\n",
       "    <tr>\n",
       "      <th>293</th>\n",
       "      <td>sst54</td>\n",
       "      <td>shortcut</td>\n",
       "      <td>2</td>\n",
       "      <td>shortcut</td>\n",
       "      <td>0.416667</td>\n",
       "      <td>stress</td>\n",
       "      <td>NaN</td>\n",
       "    </tr>\n",
       "    <tr>\n",
       "      <th>294</th>\n",
       "      <td>sst54</td>\n",
       "      <td>shortcut</td>\n",
       "      <td>1</td>\n",
       "      <td>backtrack</td>\n",
       "      <td>0.250000</td>\n",
       "      <td>stress</td>\n",
       "      <td>NaN</td>\n",
       "    </tr>\n",
       "    <tr>\n",
       "      <th>295</th>\n",
       "      <td>sst54</td>\n",
       "      <td>shortcut</td>\n",
       "      <td>2</td>\n",
       "      <td>backtrack</td>\n",
       "      <td>0.083333</td>\n",
       "      <td>stress</td>\n",
       "      <td>NaN</td>\n",
       "    </tr>\n",
       "    <tr>\n",
       "      <th>296</th>\n",
       "      <td>sst55</td>\n",
       "      <td>shortcut</td>\n",
       "      <td>1</td>\n",
       "      <td>habit</td>\n",
       "      <td>0.166667</td>\n",
       "      <td>stress</td>\n",
       "      <td>NaN</td>\n",
       "    </tr>\n",
       "    <tr>\n",
       "      <th>297</th>\n",
       "      <td>sst55</td>\n",
       "      <td>shortcut</td>\n",
       "      <td>2</td>\n",
       "      <td>habit</td>\n",
       "      <td>0.083333</td>\n",
       "      <td>stress</td>\n",
       "      <td>NaN</td>\n",
       "    </tr>\n",
       "    <tr>\n",
       "      <th>298</th>\n",
       "      <td>sst55</td>\n",
       "      <td>shortcut</td>\n",
       "      <td>1</td>\n",
       "      <td>other</td>\n",
       "      <td>0.083333</td>\n",
       "      <td>stress</td>\n",
       "      <td>NaN</td>\n",
       "    </tr>\n",
       "    <tr>\n",
       "      <th>299</th>\n",
       "      <td>sst55</td>\n",
       "      <td>shortcut</td>\n",
       "      <td>2</td>\n",
       "      <td>other</td>\n",
       "      <td>0.166667</td>\n",
       "      <td>stress</td>\n",
       "      <td>NaN</td>\n",
       "    </tr>\n",
       "    <tr>\n",
       "      <th>300</th>\n",
       "      <td>sst55</td>\n",
       "      <td>shortcut</td>\n",
       "      <td>1</td>\n",
       "      <td>shortcut</td>\n",
       "      <td>0.750000</td>\n",
       "      <td>stress</td>\n",
       "      <td>NaN</td>\n",
       "    </tr>\n",
       "    <tr>\n",
       "      <th>301</th>\n",
       "      <td>sst55</td>\n",
       "      <td>shortcut</td>\n",
       "      <td>2</td>\n",
       "      <td>shortcut</td>\n",
       "      <td>0.666667</td>\n",
       "      <td>stress</td>\n",
       "      <td>NaN</td>\n",
       "    </tr>\n",
       "    <tr>\n",
       "      <th>302</th>\n",
       "      <td>sst55</td>\n",
       "      <td>shortcut</td>\n",
       "      <td>1</td>\n",
       "      <td>backtrack</td>\n",
       "      <td>0.000000</td>\n",
       "      <td>stress</td>\n",
       "      <td>NaN</td>\n",
       "    </tr>\n",
       "    <tr>\n",
       "      <th>303</th>\n",
       "      <td>sst55</td>\n",
       "      <td>shortcut</td>\n",
       "      <td>2</td>\n",
       "      <td>backtrack</td>\n",
       "      <td>0.083333</td>\n",
       "      <td>stress</td>\n",
       "      <td>NaN</td>\n",
       "    </tr>\n",
       "    <tr>\n",
       "      <th>304</th>\n",
       "      <td>sst56</td>\n",
       "      <td>shortcut</td>\n",
       "      <td>1</td>\n",
       "      <td>habit</td>\n",
       "      <td>0.583333</td>\n",
       "      <td>stress</td>\n",
       "      <td>NaN</td>\n",
       "    </tr>\n",
       "    <tr>\n",
       "      <th>305</th>\n",
       "      <td>sst56</td>\n",
       "      <td>shortcut</td>\n",
       "      <td>2</td>\n",
       "      <td>habit</td>\n",
       "      <td>0.416667</td>\n",
       "      <td>stress</td>\n",
       "      <td>NaN</td>\n",
       "    </tr>\n",
       "    <tr>\n",
       "      <th>306</th>\n",
       "      <td>sst56</td>\n",
       "      <td>shortcut</td>\n",
       "      <td>1</td>\n",
       "      <td>other</td>\n",
       "      <td>0.166667</td>\n",
       "      <td>stress</td>\n",
       "      <td>NaN</td>\n",
       "    </tr>\n",
       "    <tr>\n",
       "      <th>307</th>\n",
       "      <td>sst56</td>\n",
       "      <td>shortcut</td>\n",
       "      <td>2</td>\n",
       "      <td>other</td>\n",
       "      <td>0.166667</td>\n",
       "      <td>stress</td>\n",
       "      <td>NaN</td>\n",
       "    </tr>\n",
       "    <tr>\n",
       "      <th>308</th>\n",
       "      <td>sst56</td>\n",
       "      <td>shortcut</td>\n",
       "      <td>1</td>\n",
       "      <td>shortcut</td>\n",
       "      <td>0.083333</td>\n",
       "      <td>stress</td>\n",
       "      <td>NaN</td>\n",
       "    </tr>\n",
       "    <tr>\n",
       "      <th>309</th>\n",
       "      <td>sst56</td>\n",
       "      <td>shortcut</td>\n",
       "      <td>2</td>\n",
       "      <td>shortcut</td>\n",
       "      <td>0.333333</td>\n",
       "      <td>stress</td>\n",
       "      <td>NaN</td>\n",
       "    </tr>\n",
       "    <tr>\n",
       "      <th>310</th>\n",
       "      <td>sst56</td>\n",
       "      <td>shortcut</td>\n",
       "      <td>1</td>\n",
       "      <td>backtrack</td>\n",
       "      <td>0.166667</td>\n",
       "      <td>stress</td>\n",
       "      <td>NaN</td>\n",
       "    </tr>\n",
       "    <tr>\n",
       "      <th>311</th>\n",
       "      <td>sst56</td>\n",
       "      <td>shortcut</td>\n",
       "      <td>2</td>\n",
       "      <td>backtrack</td>\n",
       "      <td>0.083333</td>\n",
       "      <td>stress</td>\n",
       "      <td>NaN</td>\n",
       "    </tr>\n",
       "    <tr>\n",
       "      <th>312</th>\n",
       "      <td>sst57</td>\n",
       "      <td>shortcut</td>\n",
       "      <td>1</td>\n",
       "      <td>habit</td>\n",
       "      <td>0.500000</td>\n",
       "      <td>control</td>\n",
       "      <td>NaN</td>\n",
       "    </tr>\n",
       "    <tr>\n",
       "      <th>313</th>\n",
       "      <td>sst57</td>\n",
       "      <td>shortcut</td>\n",
       "      <td>2</td>\n",
       "      <td>habit</td>\n",
       "      <td>0.083333</td>\n",
       "      <td>control</td>\n",
       "      <td>NaN</td>\n",
       "    </tr>\n",
       "    <tr>\n",
       "      <th>314</th>\n",
       "      <td>sst57</td>\n",
       "      <td>shortcut</td>\n",
       "      <td>1</td>\n",
       "      <td>other</td>\n",
       "      <td>0.416667</td>\n",
       "      <td>control</td>\n",
       "      <td>NaN</td>\n",
       "    </tr>\n",
       "    <tr>\n",
       "      <th>315</th>\n",
       "      <td>sst57</td>\n",
       "      <td>shortcut</td>\n",
       "      <td>2</td>\n",
       "      <td>other</td>\n",
       "      <td>0.166667</td>\n",
       "      <td>control</td>\n",
       "      <td>NaN</td>\n",
       "    </tr>\n",
       "    <tr>\n",
       "      <th>316</th>\n",
       "      <td>sst57</td>\n",
       "      <td>shortcut</td>\n",
       "      <td>1</td>\n",
       "      <td>shortcut</td>\n",
       "      <td>0.083333</td>\n",
       "      <td>control</td>\n",
       "      <td>NaN</td>\n",
       "    </tr>\n",
       "    <tr>\n",
       "      <th>317</th>\n",
       "      <td>sst57</td>\n",
       "      <td>shortcut</td>\n",
       "      <td>2</td>\n",
       "      <td>shortcut</td>\n",
       "      <td>0.583333</td>\n",
       "      <td>control</td>\n",
       "      <td>NaN</td>\n",
       "    </tr>\n",
       "    <tr>\n",
       "      <th>318</th>\n",
       "      <td>sst57</td>\n",
       "      <td>shortcut</td>\n",
       "      <td>1</td>\n",
       "      <td>backtrack</td>\n",
       "      <td>0.000000</td>\n",
       "      <td>control</td>\n",
       "      <td>NaN</td>\n",
       "    </tr>\n",
       "    <tr>\n",
       "      <th>319</th>\n",
       "      <td>sst57</td>\n",
       "      <td>shortcut</td>\n",
       "      <td>2</td>\n",
       "      <td>backtrack</td>\n",
       "      <td>0.166667</td>\n",
       "      <td>control</td>\n",
       "      <td>NaN</td>\n",
       "    </tr>\n",
       "  </tbody>\n",
       "</table>\n",
       "<p>320 rows × 7 columns</p>\n",
       "</div>"
      ],
      "text/plain": [
       "     subid  run_type  rep      code1     value    group  remove\n",
       "0    sst03  shortcut    1      habit  0.083333  control     NaN\n",
       "1    sst03  shortcut    2      habit  0.083333  control     NaN\n",
       "2    sst03  shortcut    1      other  0.250000  control     NaN\n",
       "3    sst03  shortcut    2      other  0.166667  control     NaN\n",
       "4    sst03  shortcut    1   shortcut  0.583333  control     NaN\n",
       "5    sst03  shortcut    2   shortcut  0.666667  control     NaN\n",
       "6    sst03  shortcut    1  backtrack  0.083333  control     NaN\n",
       "7    sst03  shortcut    2  backtrack  0.083333  control     NaN\n",
       "8    sst04  shortcut    1      habit  0.083333  control     NaN\n",
       "9    sst04  shortcut    2      habit  0.000000  control     NaN\n",
       "10   sst04  shortcut    1      other  0.166667  control     NaN\n",
       "11   sst04  shortcut    2      other  0.166667  control     NaN\n",
       "12   sst04  shortcut    1   shortcut  0.666667  control     NaN\n",
       "13   sst04  shortcut    2   shortcut  0.750000  control     NaN\n",
       "14   sst04  shortcut    1  backtrack  0.083333  control     NaN\n",
       "15   sst04  shortcut    2  backtrack  0.083333  control     NaN\n",
       "16   sst05  shortcut    1      habit  0.500000  control     NaN\n",
       "17   sst05  shortcut    2      habit  0.250000  control     NaN\n",
       "18   sst05  shortcut    1      other  0.083333  control     NaN\n",
       "19   sst05  shortcut    2      other  0.166667  control     NaN\n",
       "20   sst05  shortcut    1   shortcut  0.333333  control     NaN\n",
       "21   sst05  shortcut    2   shortcut  0.333333  control     NaN\n",
       "22   sst05  shortcut    1  backtrack  0.083333  control     NaN\n",
       "23   sst05  shortcut    2  backtrack  0.250000  control     NaN\n",
       "24   sst06  shortcut    1      habit  0.333333  control     NaN\n",
       "25   sst06  shortcut    2      habit  0.083333  control     NaN\n",
       "26   sst06  shortcut    1      other  0.000000  control     NaN\n",
       "27   sst06  shortcut    2      other  0.166667  control     NaN\n",
       "28   sst06  shortcut    1   shortcut  0.583333  control     NaN\n",
       "29   sst06  shortcut    2   shortcut  0.750000  control     NaN\n",
       "..     ...       ...  ...        ...       ...      ...     ...\n",
       "290  sst54  shortcut    1      other  0.250000   stress     NaN\n",
       "291  sst54  shortcut    2      other  0.083333   stress     NaN\n",
       "292  sst54  shortcut    1   shortcut  0.166667   stress     NaN\n",
       "293  sst54  shortcut    2   shortcut  0.416667   stress     NaN\n",
       "294  sst54  shortcut    1  backtrack  0.250000   stress     NaN\n",
       "295  sst54  shortcut    2  backtrack  0.083333   stress     NaN\n",
       "296  sst55  shortcut    1      habit  0.166667   stress     NaN\n",
       "297  sst55  shortcut    2      habit  0.083333   stress     NaN\n",
       "298  sst55  shortcut    1      other  0.083333   stress     NaN\n",
       "299  sst55  shortcut    2      other  0.166667   stress     NaN\n",
       "300  sst55  shortcut    1   shortcut  0.750000   stress     NaN\n",
       "301  sst55  shortcut    2   shortcut  0.666667   stress     NaN\n",
       "302  sst55  shortcut    1  backtrack  0.000000   stress     NaN\n",
       "303  sst55  shortcut    2  backtrack  0.083333   stress     NaN\n",
       "304  sst56  shortcut    1      habit  0.583333   stress     NaN\n",
       "305  sst56  shortcut    2      habit  0.416667   stress     NaN\n",
       "306  sst56  shortcut    1      other  0.166667   stress     NaN\n",
       "307  sst56  shortcut    2      other  0.166667   stress     NaN\n",
       "308  sst56  shortcut    1   shortcut  0.083333   stress     NaN\n",
       "309  sst56  shortcut    2   shortcut  0.333333   stress     NaN\n",
       "310  sst56  shortcut    1  backtrack  0.166667   stress     NaN\n",
       "311  sst56  shortcut    2  backtrack  0.083333   stress     NaN\n",
       "312  sst57  shortcut    1      habit  0.500000  control     NaN\n",
       "313  sst57  shortcut    2      habit  0.083333  control     NaN\n",
       "314  sst57  shortcut    1      other  0.416667  control     NaN\n",
       "315  sst57  shortcut    2      other  0.166667  control     NaN\n",
       "316  sst57  shortcut    1   shortcut  0.083333  control     NaN\n",
       "317  sst57  shortcut    2   shortcut  0.583333  control     NaN\n",
       "318  sst57  shortcut    1  backtrack  0.000000  control     NaN\n",
       "319  sst57  shortcut    2  backtrack  0.166667  control     NaN\n",
       "\n",
       "[320 rows x 7 columns]"
      ]
     },
     "execution_count": 197,
     "metadata": {},
     "output_type": "execute_result"
    }
   ],
   "source": [
    "data = proportions.loc[proportions.run_type == 'shortcut']\n",
    "data = data.merge(group_info)\n",
    "data"
   ]
  },
  {
   "cell_type": "code",
   "execution_count": 188,
   "metadata": {
    "collapsed": false
   },
   "outputs": [
    {
     "data": {
      "image/png": "[encoded data removed]",
      "text/plain": [
       "<matplotlib.figure.Figure at 0x119f37250>"
      ]
     },
     "metadata": {},
     "output_type": "display_data"
    }
   ],
   "source": [
    "g = sns.FacetGrid(data.loc[data.rep == 1], \n",
    "                  col=\"code1\",  row=\"group\", \n",
    "                  size=4, margin_titles=True)\n",
    "g = g.map(plt.hist, \"value\")"
   ]
  },
  {
   "cell_type": "code",
   "execution_count": 189,
   "metadata": {
    "collapsed": false
   },
   "outputs": [
    {
     "data": {
      "image/png": "[encoded data removed]",
      "text/plain": [
       "<matplotlib.figure.Figure at 0x11c1ea290>"
      ]
     },
     "metadata": {},
     "output_type": "display_data"
    }
   ],
   "source": [
    "g = sns.FacetGrid(data.loc[data.rep == 2], \n",
    "                  col=\"code1\",  row=\"group\", \n",
    "                  size=4, margin_titles=True)\n",
    "g = g.map(plt.hist, \"value\")"
   ]
  },
  {
   "cell_type": "code",
   "execution_count": null,
   "metadata": {
    "collapsed": true
   },
   "outputs": [],
   "source": []
  },
  {
   "cell_type": "code",
   "execution_count": null,
   "metadata": {
    "collapsed": true
   },
   "outputs": [],
   "source": []
  }
 ],
 "metadata": {
  "kernelspec": {
   "display_name": "Python 2",
   "language": "python",
   "name": "python2"
  },
  "language_info": {
   "codemirror_mode": {
    "name": "ipython",
    "version": 2
   },
   "file_extension": ".py",
   "mimetype": "text/x-python",
   "name": "python",
   "nbconvert_exporter": "python",
   "pygments_lexer": "ipython2",
   "version": "2.7.12"
  }
 },
 "nbformat": 4,
 "nbformat_minor": 0
}
