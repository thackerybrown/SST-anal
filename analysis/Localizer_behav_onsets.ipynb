{
 "cells": [
  {
   "cell_type": "markdown",
   "metadata": {},
   "source": [
    "# Localizer Behavioral Data & Onset Generation"
   ]
  },
  {
   "cell_type": "code",
   "execution_count": 83,
   "metadata": {
    "collapsed": false
   },
   "outputs": [],
   "source": [
    "import pandas as pd\n",
    "import moss\n",
    "from scipy import stats\n",
    "import scipy as sp\n",
    "import seaborn as sns\n",
    "import numpy as np\n",
    "import matplotlib\n",
    "import matplotlib.pyplot as plt\n",
    "import os.path as op\n",
    "import os\n",
    "\n",
    "from scipy.stats import norm\n",
    "Z = norm.ppf\n",
    "\n",
    "# for plotting\n",
    "sns.set(style='whitegrid', context='poster')\n",
    "%matplotlib inline\n",
    "\n",
    "# R for stats\n",
    "%load_ext rpy2.ipython\n",
    "# %R require(lme4)\n",
    "# %R require(lmerTest)"
   ]
  },
  {
   "cell_type": "markdown",
   "metadata": {},
   "source": [
    "## Gather experiment info"
   ]
  },
  {
   "cell_type": "code",
   "execution_count": 2,
   "metadata": {
    "collapsed": false
   },
   "outputs": [],
   "source": [
    "dirs = dict()\n",
    "dirs['basedir'] = op.join(op.expanduser('~'), 'Experiments/SST')\n",
    "dirs['datadir'] = op.join(dirs['basedir'], 'data/')\n",
    "dirs['analydir'] = op.join(dirs['basedir'], 'analysis')\n",
    "dirs['subj_info_file'] = op.join(dirs['datadir'], 'subj_info.csv')"
   ]
  },
  {
   "cell_type": "code",
   "execution_count": 3,
   "metadata": {
    "collapsed": false
   },
   "outputs": [
    {
     "data": {
      "text/plain": [
       "stress     20\n",
       "control    20\n",
       "Name: group, dtype: int64"
      ]
     },
     "execution_count": 3,
     "metadata": {},
     "output_type": "execute_result"
    }
   ],
   "source": [
    "subj_info = pd.read_csv(dirs['subj_info_file'])\n",
    "subj_info = subj_info[pd.isnull(subj_info.remove)]\n",
    "subj_info.group.value_counts()"
   ]
  },
  {
   "cell_type": "code",
   "execution_count": 7,
   "metadata": {
    "collapsed": false
   },
   "outputs": [
    {
     "data": {
      "text/plain": [
       "stress     20\n",
       "control    18\n",
       "Name: group, dtype: int64"
      ]
     },
     "execution_count": 7,
     "metadata": {},
     "output_type": "execute_result"
    }
   ],
   "source": [
    "# Remove bad performance subjs\n",
    "subj_info = subj_info.loc[~subj_info.subid.isin([10, 21])]\n",
    "subj_info.group.value_counts()"
   ]
  },
  {
   "cell_type": "markdown",
   "metadata": {},
   "source": [
    "## Load in data"
   ]
  },
  {
   "cell_type": "code",
   "execution_count": 17,
   "metadata": {
    "collapsed": false
   },
   "outputs": [
    {
     "name": "stdout",
     "output_type": "stream",
     "text": [
      "3\n",
      "4\n",
      "5\n",
      "6\n",
      "7\n",
      "9\n",
      "11\n",
      "12\n",
      "13\n",
      "14\n",
      "15\n",
      "16\n",
      "18\n",
      "19\n",
      "20\n",
      "22\n",
      "23\n",
      "24\n",
      "26\n",
      "29\n",
      "30\n",
      "31\n",
      "34\n",
      "35\n",
      "38\n",
      "40\n",
      "41\n",
      "43\n",
      "44\n",
      "45\n",
      "46\n",
      "48\n",
      "49\n",
      "50\n",
      "54\n",
      "55\n",
      "56\n",
      "57\n"
     ]
    }
   ],
   "source": [
    "dl = pd.DataFrame()\n",
    "\n",
    "for subid in subj_info.subid:\n",
    "    print subid\n",
    "    \n",
    "    # add study file\n",
    "    study_file = op.join(dirs['datadir'], str(subid), str(subid) + '_behav_localizer.csv')\n",
    "    d = pd.read_csv(study_file)\n",
    "    d['subid'] = subid\n",
    "    dl = dl.append(d, ignore_index=True)\n",
    "    \n",
    "# Merge with subj_info\n",
    "dl = dl.merge(subj_info, on='subid', how='outer')"
   ]
  },
  {
   "cell_type": "code",
   "execution_count": 18,
   "metadata": {
    "collapsed": false
   },
   "outputs": [
    {
     "data": {
      "text/html": [
       "<div>\n",
       "<style>\n",
       "    .dataframe thead tr:only-child th {\n",
       "        text-align: right;\n",
       "    }\n",
       "\n",
       "    .dataframe thead th {\n",
       "        text-align: left;\n",
       "    }\n",
       "\n",
       "    .dataframe tbody tr th {\n",
       "        vertical-align: top;\n",
       "    }\n",
       "</style>\n",
       "<table border=\"1\" class=\"dataframe\">\n",
       "  <thead>\n",
       "    <tr style=\"text-align: right;\">\n",
       "      <th></th>\n",
       "      <th>index</th>\n",
       "      <th>run</th>\n",
       "      <th>trial</th>\n",
       "      <th>onset</th>\n",
       "      <th>duration</th>\n",
       "      <th>cond</th>\n",
       "      <th>rep</th>\n",
       "      <th>resp</th>\n",
       "      <th>acc</th>\n",
       "      <th>respRT</th>\n",
       "      <th>ISIresp</th>\n",
       "      <th>ISIacc</th>\n",
       "      <th>ISIrespRT</th>\n",
       "      <th>subid</th>\n",
       "      <th>group</th>\n",
       "      <th>remove</th>\n",
       "    </tr>\n",
       "  </thead>\n",
       "  <tbody>\n",
       "    <tr>\n",
       "      <th>0</th>\n",
       "      <td>1</td>\n",
       "      <td>1</td>\n",
       "      <td>1</td>\n",
       "      <td>12.0018</td>\n",
       "      <td>1.6001</td>\n",
       "      <td>virtualtown</td>\n",
       "      <td>0</td>\n",
       "      <td>NR</td>\n",
       "      <td>0</td>\n",
       "      <td>999.0000</td>\n",
       "      <td>NR</td>\n",
       "      <td>0</td>\n",
       "      <td>999.0000</td>\n",
       "      <td>3</td>\n",
       "      <td>control</td>\n",
       "      <td>NaN</td>\n",
       "    </tr>\n",
       "    <tr>\n",
       "      <th>1</th>\n",
       "      <td>2</td>\n",
       "      <td>1</td>\n",
       "      <td>2</td>\n",
       "      <td>13.6022</td>\n",
       "      <td>1.5986</td>\n",
       "      <td>virtualtown</td>\n",
       "      <td>0</td>\n",
       "      <td>NR</td>\n",
       "      <td>0</td>\n",
       "      <td>999.0000</td>\n",
       "      <td>0</td>\n",
       "      <td>1</td>\n",
       "      <td>0.0579</td>\n",
       "      <td>3</td>\n",
       "      <td>control</td>\n",
       "      <td>NaN</td>\n",
       "    </tr>\n",
       "    <tr>\n",
       "      <th>2</th>\n",
       "      <td>3</td>\n",
       "      <td>1</td>\n",
       "      <td>3</td>\n",
       "      <td>15.2010</td>\n",
       "      <td>1.6000</td>\n",
       "      <td>virtualtown</td>\n",
       "      <td>0</td>\n",
       "      <td>NR</td>\n",
       "      <td>0</td>\n",
       "      <td>999.0000</td>\n",
       "      <td>0</td>\n",
       "      <td>1</td>\n",
       "      <td>0.0217</td>\n",
       "      <td>3</td>\n",
       "      <td>control</td>\n",
       "      <td>NaN</td>\n",
       "    </tr>\n",
       "    <tr>\n",
       "      <th>3</th>\n",
       "      <td>4</td>\n",
       "      <td>1</td>\n",
       "      <td>4</td>\n",
       "      <td>16.8012</td>\n",
       "      <td>1.6001</td>\n",
       "      <td>virtualtown</td>\n",
       "      <td>1</td>\n",
       "      <td>1</td>\n",
       "      <td>1</td>\n",
       "      <td>0.5156</td>\n",
       "      <td>NR</td>\n",
       "      <td>0</td>\n",
       "      <td>999.0000</td>\n",
       "      <td>3</td>\n",
       "      <td>control</td>\n",
       "      <td>NaN</td>\n",
       "    </tr>\n",
       "    <tr>\n",
       "      <th>4</th>\n",
       "      <td>5</td>\n",
       "      <td>1</td>\n",
       "      <td>5</td>\n",
       "      <td>18.4015</td>\n",
       "      <td>1.5996</td>\n",
       "      <td>virtualtown</td>\n",
       "      <td>0</td>\n",
       "      <td>NR</td>\n",
       "      <td>0</td>\n",
       "      <td>999.0000</td>\n",
       "      <td>0</td>\n",
       "      <td>1</td>\n",
       "      <td>0.0483</td>\n",
       "      <td>3</td>\n",
       "      <td>control</td>\n",
       "      <td>NaN</td>\n",
       "    </tr>\n",
       "  </tbody>\n",
       "</table>\n",
       "</div>"
      ],
      "text/plain": [
       "   index  run  trial    onset  duration         cond  rep resp  acc    respRT  \\\n",
       "0      1    1      1  12.0018    1.6001  virtualtown    0   NR    0  999.0000   \n",
       "1      2    1      2  13.6022    1.5986  virtualtown    0   NR    0  999.0000   \n",
       "2      3    1      3  15.2010    1.6000  virtualtown    0   NR    0  999.0000   \n",
       "3      4    1      4  16.8012    1.6001  virtualtown    1    1    1    0.5156   \n",
       "4      5    1      5  18.4015    1.5996  virtualtown    0   NR    0  999.0000   \n",
       "\n",
       "  ISIresp  ISIacc  ISIrespRT  subid    group  remove  \n",
       "0      NR       0   999.0000      3  control     NaN  \n",
       "1       0       1     0.0579      3  control     NaN  \n",
       "2       0       1     0.0217      3  control     NaN  \n",
       "3      NR       0   999.0000      3  control     NaN  \n",
       "4       0       1     0.0483      3  control     NaN  "
      ]
     },
     "execution_count": 18,
     "metadata": {},
     "output_type": "execute_result"
    }
   ],
   "source": [
    "dl.head()"
   ]
  },
  {
   "cell_type": "markdown",
   "metadata": {},
   "source": [
    "### Deal with no responses (NR): Set ISI resp as resp"
   ]
  },
  {
   "cell_type": "code",
   "execution_count": 21,
   "metadata": {
    "collapsed": false
   },
   "outputs": [
    {
     "data": {
      "text/plain": [
       "<matplotlib.axes._subplots.AxesSubplot at 0x117361950>"
      ]
     },
     "execution_count": 21,
     "metadata": {},
     "output_type": "execute_result"
    },
    {
     "data": {
      "image/png": "[encoded data removed]",
      "text/plain": [
       "<matplotlib.figure.Figure at 0x116d87a10>"
      ]
     },
     "metadata": {},
     "output_type": "display_data"
    }
   ],
   "source": [
    "dl.loc[(dl.resp == 'NR') & (dl.ISIresp != 'NR'), 'ISIrespRT'].hist()"
   ]
  },
  {
   "cell_type": "code",
   "execution_count": 25,
   "metadata": {
    "collapsed": false
   },
   "outputs": [
    {
     "name": "stderr",
     "output_type": "stream",
     "text": [
      "/Users/sgagnon/anaconda/lib/python2.7/site-packages/ipykernel/__main__.py:1: SettingWithCopyWarning: \n",
      "A value is trying to be set on a copy of a slice from a DataFrame\n",
      "\n",
      "See the caveats in the documentation: http://pandas.pydata.org/pandas-docs/stable/indexing.html#indexing-view-versus-copy\n",
      "  if __name__ == '__main__':\n",
      "/Users/sgagnon/anaconda/lib/python2.7/site-packages/ipykernel/__main__.py:2: SettingWithCopyWarning: \n",
      "A value is trying to be set on a copy of a slice from a DataFrame\n",
      "\n",
      "See the caveats in the documentation: http://pandas.pydata.org/pandas-docs/stable/indexing.html#indexing-view-versus-copy\n",
      "  from ipykernel import kernelapp as app\n",
      "/Users/sgagnon/anaconda/lib/python2.7/site-packages/ipykernel/__main__.py:3: SettingWithCopyWarning: \n",
      "A value is trying to be set on a copy of a slice from a DataFrame\n",
      "\n",
      "See the caveats in the documentation: http://pandas.pydata.org/pandas-docs/stable/indexing.html#indexing-view-versus-copy\n",
      "  app.launch_new_instance()\n"
     ]
    }
   ],
   "source": [
    "dl.respRT[dl.resp == 'NR'] = dl.ISIrespRT[dl.resp == 'NR'] + .6 # adjust for stimTime\n",
    "dl.acc[dl.resp == 'NR'] = dl.ISIacc[dl.resp == 'NR']\n",
    "dl.resp[dl.resp == 'NR'] = dl.ISIresp[dl.resp == 'NR']\n",
    "\n",
    "drop_cols = ['ISIrespRT', 'ISIresp', 'ISIacc', 'remove', 'index']\n",
    "dl.drop(drop_cols, 1, inplace=True)"
   ]
  },
  {
   "cell_type": "code",
   "execution_count": 26,
   "metadata": {
    "collapsed": false
   },
   "outputs": [
    {
     "data": {
      "text/plain": [
       "0     9205\n",
       "1     4290\n",
       "NR    3225\n",
       "Name: resp, dtype: int64"
      ]
     },
     "execution_count": 26,
     "metadata": {},
     "output_type": "execute_result"
    }
   ],
   "source": [
    "dl.resp.value_counts()"
   ]
  },
  {
   "cell_type": "code",
   "execution_count": 28,
   "metadata": {
    "collapsed": false
   },
   "outputs": [
    {
     "name": "stdout",
     "output_type": "stream",
     "text": [
      "count    13480.000000\n",
      "mean         0.489186\n",
      "std          0.149519\n",
      "min          0.022700\n",
      "25%          0.392000\n",
      "50%          0.465000\n",
      "75%          0.553400\n",
      "max          1.554900\n",
      "Name: respRT, dtype: float64\n"
     ]
    },
    {
     "data": {
      "text/plain": [
       "<matplotlib.axes._subplots.AxesSubplot at 0x11284d290>"
      ]
     },
     "execution_count": 28,
     "metadata": {},
     "output_type": "execute_result"
    },
    {
     "data": {
      "image/png": "[encoded data removed]",
      "text/plain": [
       "<matplotlib.figure.Figure at 0x1173abe90>"
      ]
     },
     "metadata": {},
     "output_type": "display_data"
    }
   ],
   "source": [
    "print dl.loc[(dl.resp != 'NR') & (dl.cond != 'rest'), 'respRT'].describe()\n",
    "dl.loc[(dl.resp != 'NR') & (dl.cond != 'rest'), 'respRT'].hist()"
   ]
  },
  {
   "cell_type": "code",
   "execution_count": 29,
   "metadata": {
    "collapsed": true
   },
   "outputs": [],
   "source": [
    "# Correct duration of image trials by subtracting ITI (1s fix)\n",
    "dl['duration_adj'] = dl.duration\n",
    "dl.loc[dl.cond != 'rest', 'duration_adj'] = dl.loc[dl.cond != 'rest', 'duration_adj'] - 1 # subtract ITI"
   ]
  },
  {
   "cell_type": "code",
   "execution_count": 30,
   "metadata": {
    "collapsed": false
   },
   "outputs": [
    {
     "data": {
      "text/html": [
       "<div>\n",
       "<style>\n",
       "    .dataframe thead tr:only-child th {\n",
       "        text-align: right;\n",
       "    }\n",
       "\n",
       "    .dataframe thead th {\n",
       "        text-align: left;\n",
       "    }\n",
       "\n",
       "    .dataframe tbody tr th {\n",
       "        vertical-align: top;\n",
       "    }\n",
       "</style>\n",
       "<table border=\"1\" class=\"dataframe\">\n",
       "  <thead>\n",
       "    <tr style=\"text-align: right;\">\n",
       "      <th></th>\n",
       "      <th>run</th>\n",
       "      <th>trial</th>\n",
       "      <th>onset</th>\n",
       "      <th>duration</th>\n",
       "      <th>cond</th>\n",
       "      <th>rep</th>\n",
       "      <th>resp</th>\n",
       "      <th>acc</th>\n",
       "      <th>respRT</th>\n",
       "      <th>subid</th>\n",
       "      <th>group</th>\n",
       "      <th>duration_adj</th>\n",
       "    </tr>\n",
       "  </thead>\n",
       "  <tbody>\n",
       "    <tr>\n",
       "      <th>0</th>\n",
       "      <td>1</td>\n",
       "      <td>1</td>\n",
       "      <td>12.0018</td>\n",
       "      <td>1.6001</td>\n",
       "      <td>virtualtown</td>\n",
       "      <td>0</td>\n",
       "      <td>NR</td>\n",
       "      <td>0</td>\n",
       "      <td>999.6000</td>\n",
       "      <td>3</td>\n",
       "      <td>control</td>\n",
       "      <td>0.6001</td>\n",
       "    </tr>\n",
       "    <tr>\n",
       "      <th>1</th>\n",
       "      <td>1</td>\n",
       "      <td>2</td>\n",
       "      <td>13.6022</td>\n",
       "      <td>1.5986</td>\n",
       "      <td>virtualtown</td>\n",
       "      <td>0</td>\n",
       "      <td>0</td>\n",
       "      <td>1</td>\n",
       "      <td>0.6579</td>\n",
       "      <td>3</td>\n",
       "      <td>control</td>\n",
       "      <td>0.5986</td>\n",
       "    </tr>\n",
       "    <tr>\n",
       "      <th>2</th>\n",
       "      <td>1</td>\n",
       "      <td>3</td>\n",
       "      <td>15.2010</td>\n",
       "      <td>1.6000</td>\n",
       "      <td>virtualtown</td>\n",
       "      <td>0</td>\n",
       "      <td>0</td>\n",
       "      <td>1</td>\n",
       "      <td>0.6217</td>\n",
       "      <td>3</td>\n",
       "      <td>control</td>\n",
       "      <td>0.6000</td>\n",
       "    </tr>\n",
       "    <tr>\n",
       "      <th>3</th>\n",
       "      <td>1</td>\n",
       "      <td>4</td>\n",
       "      <td>16.8012</td>\n",
       "      <td>1.6001</td>\n",
       "      <td>virtualtown</td>\n",
       "      <td>1</td>\n",
       "      <td>1</td>\n",
       "      <td>1</td>\n",
       "      <td>0.5156</td>\n",
       "      <td>3</td>\n",
       "      <td>control</td>\n",
       "      <td>0.6001</td>\n",
       "    </tr>\n",
       "    <tr>\n",
       "      <th>4</th>\n",
       "      <td>1</td>\n",
       "      <td>5</td>\n",
       "      <td>18.4015</td>\n",
       "      <td>1.5996</td>\n",
       "      <td>virtualtown</td>\n",
       "      <td>0</td>\n",
       "      <td>0</td>\n",
       "      <td>1</td>\n",
       "      <td>0.6483</td>\n",
       "      <td>3</td>\n",
       "      <td>control</td>\n",
       "      <td>0.5996</td>\n",
       "    </tr>\n",
       "  </tbody>\n",
       "</table>\n",
       "</div>"
      ],
      "text/plain": [
       "   run  trial    onset  duration         cond  rep resp  acc    respRT  subid  \\\n",
       "0    1      1  12.0018    1.6001  virtualtown    0   NR    0  999.6000      3   \n",
       "1    1      2  13.6022    1.5986  virtualtown    0    0    1    0.6579      3   \n",
       "2    1      3  15.2010    1.6000  virtualtown    0    0    1    0.6217      3   \n",
       "3    1      4  16.8012    1.6001  virtualtown    1    1    1    0.5156      3   \n",
       "4    1      5  18.4015    1.5996  virtualtown    0    0    1    0.6483      3   \n",
       "\n",
       "     group  duration_adj  \n",
       "0  control        0.6001  \n",
       "1  control        0.5986  \n",
       "2  control        0.6000  \n",
       "3  control        0.6001  \n",
       "4  control        0.5996  "
      ]
     },
     "execution_count": 30,
     "metadata": {},
     "output_type": "execute_result"
    }
   ],
   "source": [
    "dl.head()"
   ]
  },
  {
   "cell_type": "code",
   "execution_count": 33,
   "metadata": {
    "collapsed": false
   },
   "outputs": [
    {
     "data": {
      "text/html": [
       "<div>\n",
       "<style>\n",
       "    .dataframe thead tr:only-child th {\n",
       "        text-align: right;\n",
       "    }\n",
       "\n",
       "    .dataframe thead th {\n",
       "        text-align: left;\n",
       "    }\n",
       "\n",
       "    .dataframe tbody tr th {\n",
       "        vertical-align: top;\n",
       "    }\n",
       "</style>\n",
       "<table border=\"1\" class=\"dataframe\">\n",
       "  <thead>\n",
       "    <tr style=\"text-align: right;\">\n",
       "      <th></th>\n",
       "      <th>run</th>\n",
       "      <th>trial</th>\n",
       "      <th>onset</th>\n",
       "      <th>duration</th>\n",
       "      <th>cond</th>\n",
       "      <th>rep</th>\n",
       "      <th>resp</th>\n",
       "      <th>acc</th>\n",
       "      <th>respRT</th>\n",
       "      <th>subid</th>\n",
       "      <th>group</th>\n",
       "      <th>duration_adj</th>\n",
       "    </tr>\n",
       "  </thead>\n",
       "  <tbody>\n",
       "    <tr>\n",
       "      <th>1723</th>\n",
       "      <td>2</td>\n",
       "      <td>184</td>\n",
       "      <td>440.0266</td>\n",
       "      <td>0.7748</td>\n",
       "      <td>fruitveg</td>\n",
       "      <td>0</td>\n",
       "      <td>NR</td>\n",
       "      <td>0</td>\n",
       "      <td>999.6000</td>\n",
       "      <td>6</td>\n",
       "      <td>control</td>\n",
       "      <td>-0.2252</td>\n",
       "    </tr>\n",
       "    <tr>\n",
       "      <th>3038</th>\n",
       "      <td>2</td>\n",
       "      <td>179</td>\n",
       "      <td>432.0264</td>\n",
       "      <td>0.7748</td>\n",
       "      <td>fruitveg</td>\n",
       "      <td>0</td>\n",
       "      <td>0</td>\n",
       "      <td>1</td>\n",
       "      <td>1.1449</td>\n",
       "      <td>11</td>\n",
       "      <td>control</td>\n",
       "      <td>-0.2252</td>\n",
       "    </tr>\n",
       "    <tr>\n",
       "      <th>6288</th>\n",
       "      <td>1</td>\n",
       "      <td>129</td>\n",
       "      <td>310.0202</td>\n",
       "      <td>0.7809</td>\n",
       "      <td>tool</td>\n",
       "      <td>0</td>\n",
       "      <td>NR</td>\n",
       "      <td>0</td>\n",
       "      <td>999.6000</td>\n",
       "      <td>20</td>\n",
       "      <td>stress</td>\n",
       "      <td>-0.2191</td>\n",
       "    </tr>\n",
       "    <tr>\n",
       "      <th>7081</th>\n",
       "      <td>1</td>\n",
       "      <td>42</td>\n",
       "      <td>104.0113</td>\n",
       "      <td>0.3888</td>\n",
       "      <td>tool</td>\n",
       "      <td>1</td>\n",
       "      <td>NR</td>\n",
       "      <td>0</td>\n",
       "      <td>999.6000</td>\n",
       "      <td>23</td>\n",
       "      <td>control</td>\n",
       "      <td>-0.6112</td>\n",
       "    </tr>\n",
       "    <tr>\n",
       "      <th>15414</th>\n",
       "      <td>1</td>\n",
       "      <td>15</td>\n",
       "      <td>44.0091</td>\n",
       "      <td>0.3916</td>\n",
       "      <td>tool</td>\n",
       "      <td>0</td>\n",
       "      <td>NR</td>\n",
       "      <td>0</td>\n",
       "      <td>999.6000</td>\n",
       "      <td>55</td>\n",
       "      <td>stress</td>\n",
       "      <td>-0.6084</td>\n",
       "    </tr>\n",
       "  </tbody>\n",
       "</table>\n",
       "</div>"
      ],
      "text/plain": [
       "       run  trial     onset  duration      cond  rep resp  acc    respRT  \\\n",
       "1723     2    184  440.0266    0.7748  fruitveg    0   NR    0  999.6000   \n",
       "3038     2    179  432.0264    0.7748  fruitveg    0    0    1    1.1449   \n",
       "6288     1    129  310.0202    0.7809      tool    0   NR    0  999.6000   \n",
       "7081     1     42  104.0113    0.3888      tool    1   NR    0  999.6000   \n",
       "15414    1     15   44.0091    0.3916      tool    0   NR    0  999.6000   \n",
       "\n",
       "       subid    group  duration_adj  \n",
       "1723       6  control       -0.2252  \n",
       "3038      11  control       -0.2252  \n",
       "6288      20   stress       -0.2191  \n",
       "7081      23  control       -0.6112  \n",
       "15414     55   stress       -0.6084  "
      ]
     },
     "execution_count": 33,
     "metadata": {},
     "output_type": "execute_result"
    }
   ],
   "source": [
    "# for some reason these 5 trials have short durations (lag on display? hold down button box?)\n",
    "dl.loc[dl.duration_adj < 0]"
   ]
  },
  {
   "cell_type": "code",
   "execution_count": 32,
   "metadata": {
    "collapsed": false
   },
   "outputs": [
    {
     "data": {
      "text/plain": [
       "<matplotlib.axes._subplots.AxesSubplot at 0x11778f890>"
      ]
     },
     "execution_count": 32,
     "metadata": {},
     "output_type": "execute_result"
    },
    {
     "data": {
      "image/png": "[encoded data removed]",
      "text/plain": [
       "<matplotlib.figure.Figure at 0x1174bd4d0>"
      ]
     },
     "metadata": {},
     "output_type": "display_data"
    }
   ],
   "source": [
    "dl.loc[dl.cond != 'rest', 'duration_adj'].hist()"
   ]
  },
  {
   "cell_type": "markdown",
   "metadata": {},
   "source": [
    "### Remove time for lead-in (8 s)"
   ]
  },
  {
   "cell_type": "code",
   "execution_count": 34,
   "metadata": {
    "collapsed": false
   },
   "outputs": [
    {
     "data": {
      "text/html": [
       "<div>\n",
       "<style>\n",
       "    .dataframe thead tr:only-child th {\n",
       "        text-align: right;\n",
       "    }\n",
       "\n",
       "    .dataframe thead th {\n",
       "        text-align: left;\n",
       "    }\n",
       "\n",
       "    .dataframe tbody tr th {\n",
       "        vertical-align: top;\n",
       "    }\n",
       "</style>\n",
       "<table border=\"1\" class=\"dataframe\">\n",
       "  <thead>\n",
       "    <tr style=\"text-align: right;\">\n",
       "      <th></th>\n",
       "      <th>run</th>\n",
       "      <th>trial</th>\n",
       "      <th>onset</th>\n",
       "      <th>duration</th>\n",
       "      <th>cond</th>\n",
       "      <th>rep</th>\n",
       "      <th>resp</th>\n",
       "      <th>acc</th>\n",
       "      <th>respRT</th>\n",
       "      <th>subid</th>\n",
       "      <th>group</th>\n",
       "      <th>duration_adj</th>\n",
       "      <th>onset_adj</th>\n",
       "    </tr>\n",
       "  </thead>\n",
       "  <tbody>\n",
       "    <tr>\n",
       "      <th>0</th>\n",
       "      <td>1</td>\n",
       "      <td>1</td>\n",
       "      <td>12.0018</td>\n",
       "      <td>1.6001</td>\n",
       "      <td>virtualtown</td>\n",
       "      <td>0</td>\n",
       "      <td>NR</td>\n",
       "      <td>0</td>\n",
       "      <td>999.6000</td>\n",
       "      <td>3</td>\n",
       "      <td>control</td>\n",
       "      <td>0.6001</td>\n",
       "      <td>4.0018</td>\n",
       "    </tr>\n",
       "    <tr>\n",
       "      <th>1</th>\n",
       "      <td>1</td>\n",
       "      <td>2</td>\n",
       "      <td>13.6022</td>\n",
       "      <td>1.5986</td>\n",
       "      <td>virtualtown</td>\n",
       "      <td>0</td>\n",
       "      <td>0</td>\n",
       "      <td>1</td>\n",
       "      <td>0.6579</td>\n",
       "      <td>3</td>\n",
       "      <td>control</td>\n",
       "      <td>0.5986</td>\n",
       "      <td>5.6022</td>\n",
       "    </tr>\n",
       "    <tr>\n",
       "      <th>2</th>\n",
       "      <td>1</td>\n",
       "      <td>3</td>\n",
       "      <td>15.2010</td>\n",
       "      <td>1.6000</td>\n",
       "      <td>virtualtown</td>\n",
       "      <td>0</td>\n",
       "      <td>0</td>\n",
       "      <td>1</td>\n",
       "      <td>0.6217</td>\n",
       "      <td>3</td>\n",
       "      <td>control</td>\n",
       "      <td>0.6000</td>\n",
       "      <td>7.2010</td>\n",
       "    </tr>\n",
       "    <tr>\n",
       "      <th>3</th>\n",
       "      <td>1</td>\n",
       "      <td>4</td>\n",
       "      <td>16.8012</td>\n",
       "      <td>1.6001</td>\n",
       "      <td>virtualtown</td>\n",
       "      <td>1</td>\n",
       "      <td>1</td>\n",
       "      <td>1</td>\n",
       "      <td>0.5156</td>\n",
       "      <td>3</td>\n",
       "      <td>control</td>\n",
       "      <td>0.6001</td>\n",
       "      <td>8.8012</td>\n",
       "    </tr>\n",
       "    <tr>\n",
       "      <th>4</th>\n",
       "      <td>1</td>\n",
       "      <td>5</td>\n",
       "      <td>18.4015</td>\n",
       "      <td>1.5996</td>\n",
       "      <td>virtualtown</td>\n",
       "      <td>0</td>\n",
       "      <td>0</td>\n",
       "      <td>1</td>\n",
       "      <td>0.6483</td>\n",
       "      <td>3</td>\n",
       "      <td>control</td>\n",
       "      <td>0.5996</td>\n",
       "      <td>10.4015</td>\n",
       "    </tr>\n",
       "  </tbody>\n",
       "</table>\n",
       "</div>"
      ],
      "text/plain": [
       "   run  trial    onset  duration         cond  rep resp  acc    respRT  subid  \\\n",
       "0    1      1  12.0018    1.6001  virtualtown    0   NR    0  999.6000      3   \n",
       "1    1      2  13.6022    1.5986  virtualtown    0    0    1    0.6579      3   \n",
       "2    1      3  15.2010    1.6000  virtualtown    0    0    1    0.6217      3   \n",
       "3    1      4  16.8012    1.6001  virtualtown    1    1    1    0.5156      3   \n",
       "4    1      5  18.4015    1.5996  virtualtown    0    0    1    0.6483      3   \n",
       "\n",
       "     group  duration_adj  onset_adj  \n",
       "0  control        0.6001     4.0018  \n",
       "1  control        0.5986     5.6022  \n",
       "2  control        0.6000     7.2010  \n",
       "3  control        0.6001     8.8012  \n",
       "4  control        0.5996    10.4015  "
      ]
     },
     "execution_count": 34,
     "metadata": {},
     "output_type": "execute_result"
    }
   ],
   "source": [
    "dl['onset_adj'] = dl.onset - 8 # (only remove 8s, even though have 12s could drop, since nav drop 4)\n",
    "dl.head()"
   ]
  },
  {
   "cell_type": "code",
   "execution_count": 35,
   "metadata": {
    "collapsed": false
   },
   "outputs": [
    {
     "data": {
      "text/plain": [
       "<matplotlib.axes._subplots.AxesSubplot at 0x117be7e10>"
      ]
     },
     "execution_count": 35,
     "metadata": {},
     "output_type": "execute_result"
    },
    {
     "data": {
      "image/png": "[encoded data removed]",
      "text/plain": [
       "<matplotlib.figure.Figure at 0x117f64750>"
      ]
     },
     "metadata": {},
     "output_type": "display_data"
    }
   ],
   "source": [
    "f = plt.figure(figsize=(10,3))\n",
    "ax = f.add_subplot(111)\n",
    "sns.distplot(dl[dl.duration_adj < 5].duration_adj, ax=ax)"
   ]
  },
  {
   "cell_type": "code",
   "execution_count": 36,
   "metadata": {
    "collapsed": false
   },
   "outputs": [
    {
     "data": {
      "text/plain": [
       "<matplotlib.axes._subplots.AxesSubplot at 0x117be7e50>"
      ]
     },
     "execution_count": 36,
     "metadata": {},
     "output_type": "execute_result"
    },
    {
     "data": {
      "image/png": "[encoded data removed]",
      "text/plain": [
       "<matplotlib.figure.Figure at 0x11842ff10>"
      ]
     },
     "metadata": {},
     "output_type": "display_data"
    }
   ],
   "source": [
    "f = plt.figure(figsize=(10,3))\n",
    "ax = f.add_subplot(111)\n",
    "sns.distplot(dl[dl.duration_adj > 5].duration, ax=ax)"
   ]
  },
  {
   "cell_type": "markdown",
   "metadata": {},
   "source": [
    "## Analyze RTs (for correct responses)"
   ]
  },
  {
   "cell_type": "code",
   "execution_count": 137,
   "metadata": {
    "collapsed": false
   },
   "outputs": [
    {
     "data": {
      "text/plain": [
       "<seaborn.axisgrid.FacetGrid at 0x119145350>"
      ]
     },
     "execution_count": 137,
     "metadata": {},
     "output_type": "execute_result"
    },
    {
     "data": {
      "image/png": "[encoded data removed]",
      "text/plain": [
       "<matplotlib.figure.Figure at 0x119119b10>"
      ]
     },
     "metadata": {},
     "output_type": "display_data"
    }
   ],
   "source": [
    "dl_resp = dl[(dl.resp != 'NR') & (dl.cond != 'rest')]\n",
    "medians = dl_resp.groupby(['subid', 'group', 'cond', 'rep', 'resp', 'acc']).median().reset_index()\n",
    "\n",
    "sns.factorplot(x='cond', hue='group', y='respRT',\n",
    "               col='resp',\n",
    "               units='subid', ci=68, dodge=.1,\n",
    "               data=medians.loc[dl.acc == 1], aspect=2)"
   ]
  },
  {
   "cell_type": "code",
   "execution_count": 152,
   "metadata": {
    "collapsed": false
   },
   "outputs": [
    {
     "data": {
      "text/plain": [
       "count    642.000000\n",
       "mean       0.491247\n",
       "std        0.128503\n",
       "min        0.022700\n",
       "25%        0.414475\n",
       "50%        0.460950\n",
       "75%        0.538687\n",
       "max        1.396400\n",
       "Name: respRT, dtype: float64"
      ]
     },
     "execution_count": 152,
     "metadata": {},
     "output_type": "execute_result"
    }
   ],
   "source": [
    "medians.respRT.describe()"
   ]
  },
  {
   "cell_type": "code",
   "execution_count": 138,
   "metadata": {
    "collapsed": false
   },
   "outputs": [
    {
     "data": {
      "text/html": [
       "<div>\n",
       "<style>\n",
       "    .dataframe thead tr:only-child th {\n",
       "        text-align: right;\n",
       "    }\n",
       "\n",
       "    .dataframe thead th {\n",
       "        text-align: left;\n",
       "    }\n",
       "\n",
       "    .dataframe tbody tr th {\n",
       "        vertical-align: top;\n",
       "    }\n",
       "</style>\n",
       "<table border=\"1\" class=\"dataframe\">\n",
       "  <thead>\n",
       "    <tr style=\"text-align: right;\">\n",
       "      <th></th>\n",
       "      <th>subid</th>\n",
       "      <th>group</th>\n",
       "      <th>cond</th>\n",
       "      <th>rep</th>\n",
       "      <th>resp</th>\n",
       "      <th>acc</th>\n",
       "      <th>run</th>\n",
       "      <th>trial</th>\n",
       "      <th>onset</th>\n",
       "      <th>duration</th>\n",
       "      <th>respRT</th>\n",
       "      <th>duration_adj</th>\n",
       "      <th>onset_adj</th>\n",
       "    </tr>\n",
       "  </thead>\n",
       "  <tbody>\n",
       "    <tr>\n",
       "      <th>0</th>\n",
       "      <td>3</td>\n",
       "      <td>control</td>\n",
       "      <td>animal</td>\n",
       "      <td>0</td>\n",
       "      <td>0</td>\n",
       "      <td>1</td>\n",
       "      <td>2.0</td>\n",
       "      <td>78.0</td>\n",
       "      <td>194.00070</td>\n",
       "      <td>1.5998</td>\n",
       "      <td>0.53610</td>\n",
       "      <td>0.5998</td>\n",
       "      <td>186.00070</td>\n",
       "    </tr>\n",
       "    <tr>\n",
       "      <th>1</th>\n",
       "      <td>3</td>\n",
       "      <td>control</td>\n",
       "      <td>animal</td>\n",
       "      <td>1</td>\n",
       "      <td>0</td>\n",
       "      <td>0</td>\n",
       "      <td>2.0</td>\n",
       "      <td>87.0</td>\n",
       "      <td>208.40030</td>\n",
       "      <td>1.6008</td>\n",
       "      <td>0.47100</td>\n",
       "      <td>0.6008</td>\n",
       "      <td>200.40030</td>\n",
       "    </tr>\n",
       "    <tr>\n",
       "      <th>2</th>\n",
       "      <td>3</td>\n",
       "      <td>control</td>\n",
       "      <td>animal</td>\n",
       "      <td>1</td>\n",
       "      <td>1</td>\n",
       "      <td>1</td>\n",
       "      <td>1.0</td>\n",
       "      <td>76.0</td>\n",
       "      <td>182.40110</td>\n",
       "      <td>1.5996</td>\n",
       "      <td>0.45870</td>\n",
       "      <td>0.5996</td>\n",
       "      <td>174.40110</td>\n",
       "    </tr>\n",
       "    <tr>\n",
       "      <th>3</th>\n",
       "      <td>3</td>\n",
       "      <td>control</td>\n",
       "      <td>face</td>\n",
       "      <td>0</td>\n",
       "      <td>0</td>\n",
       "      <td>1</td>\n",
       "      <td>1.0</td>\n",
       "      <td>89.5</td>\n",
       "      <td>220.80100</td>\n",
       "      <td>1.5998</td>\n",
       "      <td>0.56030</td>\n",
       "      <td>0.5998</td>\n",
       "      <td>212.80100</td>\n",
       "    </tr>\n",
       "    <tr>\n",
       "      <th>4</th>\n",
       "      <td>3</td>\n",
       "      <td>control</td>\n",
       "      <td>face</td>\n",
       "      <td>0</td>\n",
       "      <td>1</td>\n",
       "      <td>0</td>\n",
       "      <td>1.5</td>\n",
       "      <td>56.5</td>\n",
       "      <td>142.80115</td>\n",
       "      <td>1.5996</td>\n",
       "      <td>0.91205</td>\n",
       "      <td>0.5996</td>\n",
       "      <td>134.80115</td>\n",
       "    </tr>\n",
       "  </tbody>\n",
       "</table>\n",
       "</div>"
      ],
      "text/plain": [
       "   subid    group    cond  rep resp  acc  run  trial      onset  duration  \\\n",
       "0      3  control  animal    0    0    1  2.0   78.0  194.00070    1.5998   \n",
       "1      3  control  animal    1    0    0  2.0   87.0  208.40030    1.6008   \n",
       "2      3  control  animal    1    1    1  1.0   76.0  182.40110    1.5996   \n",
       "3      3  control    face    0    0    1  1.0   89.5  220.80100    1.5998   \n",
       "4      3  control    face    0    1    0  1.5   56.5  142.80115    1.5996   \n",
       "\n",
       "    respRT  duration_adj  onset_adj  \n",
       "0  0.53610        0.5998  186.00070  \n",
       "1  0.47100        0.6008  200.40030  \n",
       "2  0.45870        0.5996  174.40110  \n",
       "3  0.56030        0.5998  212.80100  \n",
       "4  0.91205        0.5996  134.80115  "
      ]
     },
     "execution_count": 138,
     "metadata": {},
     "output_type": "execute_result"
    }
   ],
   "source": [
    "medians.head()"
   ]
  },
  {
   "cell_type": "code",
   "execution_count": 139,
   "metadata": {
    "collapsed": true
   },
   "outputs": [],
   "source": [
    "medians.to_csv('/Volumes/group/awagner/sgagnon/SST/analysis/behav/localizer_medianrt.csv')"
   ]
  },
  {
   "cell_type": "markdown",
   "metadata": {},
   "source": [
    "## Analyze Accuracy"
   ]
  },
  {
   "cell_type": "markdown",
   "metadata": {},
   "source": [
    "#### Calculate dprimes"
   ]
  },
  {
   "cell_type": "code",
   "execution_count": 122,
   "metadata": {
    "collapsed": false
   },
   "outputs": [
    {
     "data": {
      "text/html": [
       "<div>\n",
       "<style>\n",
       "    .dataframe thead tr:only-child th {\n",
       "        text-align: right;\n",
       "    }\n",
       "\n",
       "    .dataframe thead th {\n",
       "        text-align: left;\n",
       "    }\n",
       "\n",
       "    .dataframe tbody tr th {\n",
       "        vertical-align: top;\n",
       "    }\n",
       "</style>\n",
       "<table border=\"1\" class=\"dataframe\">\n",
       "  <thead>\n",
       "    <tr>\n",
       "      <th>resp</th>\n",
       "      <th colspan=\"8\" halign=\"left\">d</th>\n",
       "      <th colspan=\"2\" halign=\"left\">fa_rate</th>\n",
       "      <th>...</th>\n",
       "      <th colspan=\"2\" halign=\"left\">hit_rate</th>\n",
       "      <th colspan=\"8\" halign=\"left\">subid</th>\n",
       "    </tr>\n",
       "    <tr>\n",
       "      <th></th>\n",
       "      <th>count</th>\n",
       "      <th>mean</th>\n",
       "      <th>std</th>\n",
       "      <th>min</th>\n",
       "      <th>25%</th>\n",
       "      <th>50%</th>\n",
       "      <th>75%</th>\n",
       "      <th>max</th>\n",
       "      <th>count</th>\n",
       "      <th>mean</th>\n",
       "      <th>...</th>\n",
       "      <th>75%</th>\n",
       "      <th>max</th>\n",
       "      <th>count</th>\n",
       "      <th>mean</th>\n",
       "      <th>std</th>\n",
       "      <th>min</th>\n",
       "      <th>25%</th>\n",
       "      <th>50%</th>\n",
       "      <th>75%</th>\n",
       "      <th>max</th>\n",
       "    </tr>\n",
       "    <tr>\n",
       "      <th>cond</th>\n",
       "      <th></th>\n",
       "      <th></th>\n",
       "      <th></th>\n",
       "      <th></th>\n",
       "      <th></th>\n",
       "      <th></th>\n",
       "      <th></th>\n",
       "      <th></th>\n",
       "      <th></th>\n",
       "      <th></th>\n",
       "      <th></th>\n",
       "      <th></th>\n",
       "      <th></th>\n",
       "      <th></th>\n",
       "      <th></th>\n",
       "      <th></th>\n",
       "      <th></th>\n",
       "      <th></th>\n",
       "      <th></th>\n",
       "      <th></th>\n",
       "      <th></th>\n",
       "    </tr>\n",
       "  </thead>\n",
       "  <tbody>\n",
       "    <tr>\n",
       "      <th>animal</th>\n",
       "      <td>38.0</td>\n",
       "      <td>3.102217</td>\n",
       "      <td>1.298400</td>\n",
       "      <td>-3.028361</td>\n",
       "      <td>2.963360</td>\n",
       "      <td>3.335989</td>\n",
       "      <td>3.811763</td>\n",
       "      <td>4.137000</td>\n",
       "      <td>38.0</td>\n",
       "      <td>0.050987</td>\n",
       "      <td>...</td>\n",
       "      <td>0.947917</td>\n",
       "      <td>0.979167</td>\n",
       "      <td>38.0</td>\n",
       "      <td>28.736842</td>\n",
       "      <td>16.89504</td>\n",
       "      <td>3.0</td>\n",
       "      <td>14.25</td>\n",
       "      <td>27.5</td>\n",
       "      <td>43.75</td>\n",
       "      <td>57.0</td>\n",
       "    </tr>\n",
       "    <tr>\n",
       "      <th>face</th>\n",
       "      <td>38.0</td>\n",
       "      <td>3.132077</td>\n",
       "      <td>1.249122</td>\n",
       "      <td>-2.723191</td>\n",
       "      <td>2.922561</td>\n",
       "      <td>3.483160</td>\n",
       "      <td>3.751561</td>\n",
       "      <td>4.405401</td>\n",
       "      <td>38.0</td>\n",
       "      <td>0.049107</td>\n",
       "      <td>...</td>\n",
       "      <td>0.916667</td>\n",
       "      <td>0.979167</td>\n",
       "      <td>38.0</td>\n",
       "      <td>28.736842</td>\n",
       "      <td>16.89504</td>\n",
       "      <td>3.0</td>\n",
       "      <td>14.25</td>\n",
       "      <td>27.5</td>\n",
       "      <td>43.75</td>\n",
       "      <td>57.0</td>\n",
       "    </tr>\n",
       "    <tr>\n",
       "      <th>fruitveg</th>\n",
       "      <td>38.0</td>\n",
       "      <td>3.087784</td>\n",
       "      <td>1.266482</td>\n",
       "      <td>-2.799235</td>\n",
       "      <td>2.913560</td>\n",
       "      <td>3.250515</td>\n",
       "      <td>3.751561</td>\n",
       "      <td>4.405401</td>\n",
       "      <td>38.0</td>\n",
       "      <td>0.050047</td>\n",
       "      <td>...</td>\n",
       "      <td>0.947917</td>\n",
       "      <td>0.979167</td>\n",
       "      <td>38.0</td>\n",
       "      <td>28.736842</td>\n",
       "      <td>16.89504</td>\n",
       "      <td>3.0</td>\n",
       "      <td>14.25</td>\n",
       "      <td>27.5</td>\n",
       "      <td>43.75</td>\n",
       "      <td>57.0</td>\n",
       "    </tr>\n",
       "    <tr>\n",
       "      <th>tool</th>\n",
       "      <td>38.0</td>\n",
       "      <td>3.163207</td>\n",
       "      <td>1.213686</td>\n",
       "      <td>-2.374521</td>\n",
       "      <td>3.067587</td>\n",
       "      <td>3.293252</td>\n",
       "      <td>3.751561</td>\n",
       "      <td>4.405401</td>\n",
       "      <td>38.0</td>\n",
       "      <td>0.050517</td>\n",
       "      <td>...</td>\n",
       "      <td>0.947917</td>\n",
       "      <td>0.979167</td>\n",
       "      <td>38.0</td>\n",
       "      <td>28.736842</td>\n",
       "      <td>16.89504</td>\n",
       "      <td>3.0</td>\n",
       "      <td>14.25</td>\n",
       "      <td>27.5</td>\n",
       "      <td>43.75</td>\n",
       "      <td>57.0</td>\n",
       "    </tr>\n",
       "    <tr>\n",
       "      <th>virtualtown</th>\n",
       "      <td>38.0</td>\n",
       "      <td>2.685892</td>\n",
       "      <td>1.198407</td>\n",
       "      <td>-2.828473</td>\n",
       "      <td>2.436848</td>\n",
       "      <td>2.809196</td>\n",
       "      <td>3.237111</td>\n",
       "      <td>4.405401</td>\n",
       "      <td>38.0</td>\n",
       "      <td>0.068844</td>\n",
       "      <td>...</td>\n",
       "      <td>0.916667</td>\n",
       "      <td>0.979167</td>\n",
       "      <td>38.0</td>\n",
       "      <td>28.736842</td>\n",
       "      <td>16.89504</td>\n",
       "      <td>3.0</td>\n",
       "      <td>14.25</td>\n",
       "      <td>27.5</td>\n",
       "      <td>43.75</td>\n",
       "      <td>57.0</td>\n",
       "    </tr>\n",
       "  </tbody>\n",
       "</table>\n",
       "<p>5 rows × 32 columns</p>\n",
       "</div>"
      ],
      "text/plain": [
       "resp            d                                                              \\\n",
       "            count      mean       std       min       25%       50%       75%   \n",
       "cond                                                                            \n",
       "animal       38.0  3.102217  1.298400 -3.028361  2.963360  3.335989  3.811763   \n",
       "face         38.0  3.132077  1.249122 -2.723191  2.922561  3.483160  3.751561   \n",
       "fruitveg     38.0  3.087784  1.266482 -2.799235  2.913560  3.250515  3.751561   \n",
       "tool         38.0  3.163207  1.213686 -2.374521  3.067587  3.293252  3.751561   \n",
       "virtualtown  38.0  2.685892  1.198407 -2.828473  2.436848  2.809196  3.237111   \n",
       "\n",
       "resp                  fa_rate            ...   hit_rate           subid  \\\n",
       "                  max   count      mean  ...        75%       max count   \n",
       "cond                                     ...                              \n",
       "animal       4.137000    38.0  0.050987  ...   0.947917  0.979167  38.0   \n",
       "face         4.405401    38.0  0.049107  ...   0.916667  0.979167  38.0   \n",
       "fruitveg     4.405401    38.0  0.050047  ...   0.947917  0.979167  38.0   \n",
       "tool         4.405401    38.0  0.050517  ...   0.947917  0.979167  38.0   \n",
       "virtualtown  4.405401    38.0  0.068844  ...   0.916667  0.979167  38.0   \n",
       "\n",
       "resp                                                             \n",
       "                  mean       std  min    25%   50%    75%   max  \n",
       "cond                                                             \n",
       "animal       28.736842  16.89504  3.0  14.25  27.5  43.75  57.0  \n",
       "face         28.736842  16.89504  3.0  14.25  27.5  43.75  57.0  \n",
       "fruitveg     28.736842  16.89504  3.0  14.25  27.5  43.75  57.0  \n",
       "tool         28.736842  16.89504  3.0  14.25  27.5  43.75  57.0  \n",
       "virtualtown  28.736842  16.89504  3.0  14.25  27.5  43.75  57.0  \n",
       "\n",
       "[5 rows x 32 columns]"
      ]
     },
     "execution_count": 122,
     "metadata": {},
     "output_type": "execute_result"
    }
   ],
   "source": [
    "# get counts for condition/response mappings\n",
    "dl_counts = dl.loc[dl.cond != 'rest'].pivot_table(index=['subid', 'group', 'rep', 'cond'], \n",
    "                           columns='resp', values='acc', \n",
    "                           aggfunc='count', fill_value=0).reset_index()\n",
    "\n",
    "# get totals per rep type (1-back:1, other:0)\n",
    "dl_counts['total'] = dl_counts[['0', '1', 'NR']].sum(axis=1)\n",
    "\n",
    "# get counts per type\n",
    "dl_counts['diff_rate'] = dl_counts['0'] / dl_counts.total\n",
    "dl_counts['repeat_rate'] = dl_counts['1'] / dl_counts.total\n",
    "dl_counts['NR_rate'] = dl_counts['NR'] / dl_counts.total\n",
    "\n",
    "hit_rates = dl_counts.loc[dl_counts.rep == 1, ['subid', 'group', 'cond', 'repeat_rate']]\n",
    "fa_rates = dl_counts.loc[dl_counts.rep == 0, ['subid', 'group', 'cond', 'repeat_rate']]\n",
    "\n",
    "hit_rates.rename(columns={'repeat_rate':'hit_rate'}, inplace=True)\n",
    "fa_rates.rename(columns={'repeat_rate':'fa_rate'}, inplace=True)\n",
    "\n",
    "rates = hit_rates.merge(fa_rates)\n",
    "\n",
    "# replace 0/1 rates:\n",
    "rates.loc[rates.fa_rate == 0, 'fa_rate'] = .5/56\n",
    "rates.loc[rates.fa_rate == 1, 'fa_rate'] = 1-.5/56\n",
    "\n",
    "rates.loc[rates.hit_rate == 0, 'hit_rate'] = .5/24\n",
    "rates.loc[rates.hit_rate == 1, 'hit_rate'] = 1-.5/24\n",
    "\n",
    "rates['d'] = Z(rates.hit_rate) - Z(rates.fa_rate)\n",
    "\n",
    "rates.groupby('cond').describe()"
   ]
  },
  {
   "cell_type": "code",
   "execution_count": 121,
   "metadata": {
    "collapsed": false
   },
   "outputs": [
    {
     "data": {
      "text/plain": [
       "resp\n",
       "subid       27.500000\n",
       "hit_rate     0.875000\n",
       "fa_rate      0.017857\n",
       "d            3.250515\n",
       "dtype: float64"
      ]
     },
     "execution_count": 121,
     "metadata": {},
     "output_type": "execute_result"
    }
   ],
   "source": [
    "rates.median()"
   ]
  },
  {
   "cell_type": "code",
   "execution_count": 151,
   "metadata": {
    "collapsed": false
   },
   "outputs": [
    {
     "data": {
      "image/png": "[encoded data removed]",
      "text/plain": [
       "<matplotlib.figure.Figure at 0x12a49bd50>"
      ]
     },
     "metadata": {},
     "output_type": "display_data"
    }
   ],
   "source": [
    "g = sns.factorplot(x='cond', y='d', hue='subid', col='group', size=6,\n",
    "              data=rates, alpha=.5, legend=False)"
   ]
  },
  {
   "cell_type": "code",
   "execution_count": 123,
   "metadata": {
    "collapsed": false
   },
   "outputs": [
    {
     "data": {
      "image/png": "[encoded data removed]",
      "text/plain": [
       "<matplotlib.figure.Figure at 0x11b87f410>"
      ]
     },
     "metadata": {},
     "output_type": "display_data"
    }
   ],
   "source": [
    "f, ax = plt.subplots()\n",
    "sns.despine(bottom=True, left=True)\n",
    "\n",
    "sns.swarmplot(x='cond', y='d', hue='group', split=True,\n",
    "              data=rates, alpha=.5, size=8,\n",
    "              palette=['dodgerblue', 'orange'])\n",
    "\n",
    "sns.pointplot(x='cond', y='d', hue='group',\n",
    "              data=rates, alpha=.25, dodge=.4,\n",
    "              join=False,\n",
    "              markers=\"d\", scale=1, ci=None,\n",
    "              palette=['dodgerblue', 'orange'])\n",
    "\n",
    "# Improve the legend \n",
    "ax.legend_.remove()"
   ]
  },
  {
   "cell_type": "code",
   "execution_count": 125,
   "metadata": {
    "collapsed": false
   },
   "outputs": [
    {
     "name": "stdout",
     "output_type": "stream",
     "text": [
      "resp  subid    group         cond  hit_rate   fa_rate         d\n",
      "40       13  control       animal  0.500000  0.410714  0.225708\n",
      "41       13  control         face  0.541667  0.410714  0.330341\n",
      "42       13  control     fruitveg  0.458333  0.392857  0.167247\n",
      "43       13  control         tool  0.458333  0.410714  0.121074\n",
      "44       13  control  virtualtown  0.416667  0.357143  0.155678\n",
      "125      40   stress       animal  0.020833  0.839286 -3.028361\n",
      "126      40   stress         face  0.041667  0.839286 -2.723191\n",
      "127      40   stress     fruitveg  0.041667  0.857143 -2.799235\n",
      "128      40   stress         tool  0.083333  0.839286 -2.374521\n",
      "129      40   stress  virtualtown  0.020833  0.785714 -2.828473\n"
     ]
    },
    {
     "data": {
      "text/html": [
       "<div>\n",
       "<style>\n",
       "    .dataframe thead tr:only-child th {\n",
       "        text-align: right;\n",
       "    }\n",
       "\n",
       "    .dataframe thead th {\n",
       "        text-align: left;\n",
       "    }\n",
       "\n",
       "    .dataframe tbody tr th {\n",
       "        vertical-align: top;\n",
       "    }\n",
       "</style>\n",
       "<table border=\"1\" class=\"dataframe\">\n",
       "  <thead>\n",
       "    <tr style=\"text-align: right;\">\n",
       "      <th>resp</th>\n",
       "      <th>subid</th>\n",
       "      <th>group</th>\n",
       "      <th>rep</th>\n",
       "      <th>cond</th>\n",
       "      <th>0</th>\n",
       "      <th>1</th>\n",
       "      <th>NR</th>\n",
       "      <th>total</th>\n",
       "      <th>diff_rate</th>\n",
       "      <th>repeat_rate</th>\n",
       "      <th>NR_rate</th>\n",
       "    </tr>\n",
       "  </thead>\n",
       "  <tbody>\n",
       "    <tr>\n",
       "      <th>80</th>\n",
       "      <td>13</td>\n",
       "      <td>control</td>\n",
       "      <td>0</td>\n",
       "      <td>animal</td>\n",
       "      <td>24</td>\n",
       "      <td>23</td>\n",
       "      <td>9</td>\n",
       "      <td>56</td>\n",
       "      <td>0.428571</td>\n",
       "      <td>0.410714</td>\n",
       "      <td>0.160714</td>\n",
       "    </tr>\n",
       "    <tr>\n",
       "      <th>81</th>\n",
       "      <td>13</td>\n",
       "      <td>control</td>\n",
       "      <td>0</td>\n",
       "      <td>face</td>\n",
       "      <td>25</td>\n",
       "      <td>23</td>\n",
       "      <td>8</td>\n",
       "      <td>56</td>\n",
       "      <td>0.446429</td>\n",
       "      <td>0.410714</td>\n",
       "      <td>0.142857</td>\n",
       "    </tr>\n",
       "    <tr>\n",
       "      <th>82</th>\n",
       "      <td>13</td>\n",
       "      <td>control</td>\n",
       "      <td>0</td>\n",
       "      <td>fruitveg</td>\n",
       "      <td>26</td>\n",
       "      <td>22</td>\n",
       "      <td>8</td>\n",
       "      <td>56</td>\n",
       "      <td>0.464286</td>\n",
       "      <td>0.392857</td>\n",
       "      <td>0.142857</td>\n",
       "    </tr>\n",
       "    <tr>\n",
       "      <th>83</th>\n",
       "      <td>13</td>\n",
       "      <td>control</td>\n",
       "      <td>0</td>\n",
       "      <td>tool</td>\n",
       "      <td>25</td>\n",
       "      <td>23</td>\n",
       "      <td>8</td>\n",
       "      <td>56</td>\n",
       "      <td>0.446429</td>\n",
       "      <td>0.410714</td>\n",
       "      <td>0.142857</td>\n",
       "    </tr>\n",
       "    <tr>\n",
       "      <th>84</th>\n",
       "      <td>13</td>\n",
       "      <td>control</td>\n",
       "      <td>0</td>\n",
       "      <td>virtualtown</td>\n",
       "      <td>26</td>\n",
       "      <td>20</td>\n",
       "      <td>10</td>\n",
       "      <td>56</td>\n",
       "      <td>0.464286</td>\n",
       "      <td>0.357143</td>\n",
       "      <td>0.178571</td>\n",
       "    </tr>\n",
       "    <tr>\n",
       "      <th>85</th>\n",
       "      <td>13</td>\n",
       "      <td>control</td>\n",
       "      <td>1</td>\n",
       "      <td>animal</td>\n",
       "      <td>10</td>\n",
       "      <td>12</td>\n",
       "      <td>2</td>\n",
       "      <td>24</td>\n",
       "      <td>0.416667</td>\n",
       "      <td>0.500000</td>\n",
       "      <td>0.083333</td>\n",
       "    </tr>\n",
       "    <tr>\n",
       "      <th>86</th>\n",
       "      <td>13</td>\n",
       "      <td>control</td>\n",
       "      <td>1</td>\n",
       "      <td>face</td>\n",
       "      <td>11</td>\n",
       "      <td>13</td>\n",
       "      <td>0</td>\n",
       "      <td>24</td>\n",
       "      <td>0.458333</td>\n",
       "      <td>0.541667</td>\n",
       "      <td>0.000000</td>\n",
       "    </tr>\n",
       "    <tr>\n",
       "      <th>87</th>\n",
       "      <td>13</td>\n",
       "      <td>control</td>\n",
       "      <td>1</td>\n",
       "      <td>fruitveg</td>\n",
       "      <td>13</td>\n",
       "      <td>11</td>\n",
       "      <td>0</td>\n",
       "      <td>24</td>\n",
       "      <td>0.541667</td>\n",
       "      <td>0.458333</td>\n",
       "      <td>0.000000</td>\n",
       "    </tr>\n",
       "    <tr>\n",
       "      <th>88</th>\n",
       "      <td>13</td>\n",
       "      <td>control</td>\n",
       "      <td>1</td>\n",
       "      <td>tool</td>\n",
       "      <td>12</td>\n",
       "      <td>11</td>\n",
       "      <td>1</td>\n",
       "      <td>24</td>\n",
       "      <td>0.500000</td>\n",
       "      <td>0.458333</td>\n",
       "      <td>0.041667</td>\n",
       "    </tr>\n",
       "    <tr>\n",
       "      <th>89</th>\n",
       "      <td>13</td>\n",
       "      <td>control</td>\n",
       "      <td>1</td>\n",
       "      <td>virtualtown</td>\n",
       "      <td>14</td>\n",
       "      <td>10</td>\n",
       "      <td>0</td>\n",
       "      <td>24</td>\n",
       "      <td>0.583333</td>\n",
       "      <td>0.416667</td>\n",
       "      <td>0.000000</td>\n",
       "    </tr>\n",
       "    <tr>\n",
       "      <th>250</th>\n",
       "      <td>40</td>\n",
       "      <td>stress</td>\n",
       "      <td>0</td>\n",
       "      <td>animal</td>\n",
       "      <td>0</td>\n",
       "      <td>47</td>\n",
       "      <td>9</td>\n",
       "      <td>56</td>\n",
       "      <td>0.000000</td>\n",
       "      <td>0.839286</td>\n",
       "      <td>0.160714</td>\n",
       "    </tr>\n",
       "    <tr>\n",
       "      <th>251</th>\n",
       "      <td>40</td>\n",
       "      <td>stress</td>\n",
       "      <td>0</td>\n",
       "      <td>face</td>\n",
       "      <td>0</td>\n",
       "      <td>47</td>\n",
       "      <td>9</td>\n",
       "      <td>56</td>\n",
       "      <td>0.000000</td>\n",
       "      <td>0.839286</td>\n",
       "      <td>0.160714</td>\n",
       "    </tr>\n",
       "    <tr>\n",
       "      <th>252</th>\n",
       "      <td>40</td>\n",
       "      <td>stress</td>\n",
       "      <td>0</td>\n",
       "      <td>fruitveg</td>\n",
       "      <td>0</td>\n",
       "      <td>48</td>\n",
       "      <td>8</td>\n",
       "      <td>56</td>\n",
       "      <td>0.000000</td>\n",
       "      <td>0.857143</td>\n",
       "      <td>0.142857</td>\n",
       "    </tr>\n",
       "    <tr>\n",
       "      <th>253</th>\n",
       "      <td>40</td>\n",
       "      <td>stress</td>\n",
       "      <td>0</td>\n",
       "      <td>tool</td>\n",
       "      <td>0</td>\n",
       "      <td>47</td>\n",
       "      <td>9</td>\n",
       "      <td>56</td>\n",
       "      <td>0.000000</td>\n",
       "      <td>0.839286</td>\n",
       "      <td>0.160714</td>\n",
       "    </tr>\n",
       "    <tr>\n",
       "      <th>254</th>\n",
       "      <td>40</td>\n",
       "      <td>stress</td>\n",
       "      <td>0</td>\n",
       "      <td>virtualtown</td>\n",
       "      <td>0</td>\n",
       "      <td>44</td>\n",
       "      <td>12</td>\n",
       "      <td>56</td>\n",
       "      <td>0.000000</td>\n",
       "      <td>0.785714</td>\n",
       "      <td>0.214286</td>\n",
       "    </tr>\n",
       "    <tr>\n",
       "      <th>255</th>\n",
       "      <td>40</td>\n",
       "      <td>stress</td>\n",
       "      <td>1</td>\n",
       "      <td>animal</td>\n",
       "      <td>0</td>\n",
       "      <td>0</td>\n",
       "      <td>24</td>\n",
       "      <td>24</td>\n",
       "      <td>0.000000</td>\n",
       "      <td>0.000000</td>\n",
       "      <td>1.000000</td>\n",
       "    </tr>\n",
       "    <tr>\n",
       "      <th>256</th>\n",
       "      <td>40</td>\n",
       "      <td>stress</td>\n",
       "      <td>1</td>\n",
       "      <td>face</td>\n",
       "      <td>0</td>\n",
       "      <td>1</td>\n",
       "      <td>23</td>\n",
       "      <td>24</td>\n",
       "      <td>0.000000</td>\n",
       "      <td>0.041667</td>\n",
       "      <td>0.958333</td>\n",
       "    </tr>\n",
       "    <tr>\n",
       "      <th>257</th>\n",
       "      <td>40</td>\n",
       "      <td>stress</td>\n",
       "      <td>1</td>\n",
       "      <td>fruitveg</td>\n",
       "      <td>0</td>\n",
       "      <td>1</td>\n",
       "      <td>23</td>\n",
       "      <td>24</td>\n",
       "      <td>0.000000</td>\n",
       "      <td>0.041667</td>\n",
       "      <td>0.958333</td>\n",
       "    </tr>\n",
       "    <tr>\n",
       "      <th>258</th>\n",
       "      <td>40</td>\n",
       "      <td>stress</td>\n",
       "      <td>1</td>\n",
       "      <td>tool</td>\n",
       "      <td>0</td>\n",
       "      <td>2</td>\n",
       "      <td>22</td>\n",
       "      <td>24</td>\n",
       "      <td>0.000000</td>\n",
       "      <td>0.083333</td>\n",
       "      <td>0.916667</td>\n",
       "    </tr>\n",
       "    <tr>\n",
       "      <th>259</th>\n",
       "      <td>40</td>\n",
       "      <td>stress</td>\n",
       "      <td>1</td>\n",
       "      <td>virtualtown</td>\n",
       "      <td>0</td>\n",
       "      <td>0</td>\n",
       "      <td>24</td>\n",
       "      <td>24</td>\n",
       "      <td>0.000000</td>\n",
       "      <td>0.000000</td>\n",
       "      <td>1.000000</td>\n",
       "    </tr>\n",
       "  </tbody>\n",
       "</table>\n",
       "</div>"
      ],
      "text/plain": [
       "resp  subid    group  rep         cond   0   1  NR  total  diff_rate  \\\n",
       "80       13  control    0       animal  24  23   9     56   0.428571   \n",
       "81       13  control    0         face  25  23   8     56   0.446429   \n",
       "82       13  control    0     fruitveg  26  22   8     56   0.464286   \n",
       "83       13  control    0         tool  25  23   8     56   0.446429   \n",
       "84       13  control    0  virtualtown  26  20  10     56   0.464286   \n",
       "85       13  control    1       animal  10  12   2     24   0.416667   \n",
       "86       13  control    1         face  11  13   0     24   0.458333   \n",
       "87       13  control    1     fruitveg  13  11   0     24   0.541667   \n",
       "88       13  control    1         tool  12  11   1     24   0.500000   \n",
       "89       13  control    1  virtualtown  14  10   0     24   0.583333   \n",
       "250      40   stress    0       animal   0  47   9     56   0.000000   \n",
       "251      40   stress    0         face   0  47   9     56   0.000000   \n",
       "252      40   stress    0     fruitveg   0  48   8     56   0.000000   \n",
       "253      40   stress    0         tool   0  47   9     56   0.000000   \n",
       "254      40   stress    0  virtualtown   0  44  12     56   0.000000   \n",
       "255      40   stress    1       animal   0   0  24     24   0.000000   \n",
       "256      40   stress    1         face   0   1  23     24   0.000000   \n",
       "257      40   stress    1     fruitveg   0   1  23     24   0.000000   \n",
       "258      40   stress    1         tool   0   2  22     24   0.000000   \n",
       "259      40   stress    1  virtualtown   0   0  24     24   0.000000   \n",
       "\n",
       "resp  repeat_rate   NR_rate  \n",
       "80       0.410714  0.160714  \n",
       "81       0.410714  0.142857  \n",
       "82       0.392857  0.142857  \n",
       "83       0.410714  0.142857  \n",
       "84       0.357143  0.178571  \n",
       "85       0.500000  0.083333  \n",
       "86       0.541667  0.000000  \n",
       "87       0.458333  0.000000  \n",
       "88       0.458333  0.041667  \n",
       "89       0.416667  0.000000  \n",
       "250      0.839286  0.160714  \n",
       "251      0.839286  0.160714  \n",
       "252      0.857143  0.142857  \n",
       "253      0.839286  0.160714  \n",
       "254      0.785714  0.214286  \n",
       "255      0.000000  1.000000  \n",
       "256      0.041667  0.958333  \n",
       "257      0.041667  0.958333  \n",
       "258      0.083333  0.916667  \n",
       "259      0.000000  1.000000  "
      ]
     },
     "execution_count": 125,
     "metadata": {},
     "output_type": "execute_result"
    }
   ],
   "source": [
    "print rates.loc[rates.d < 1]\n",
    "dl_counts.loc[dl_counts.subid.isin([13, 40])]"
   ]
  },
  {
   "cell_type": "code",
   "execution_count": 140,
   "metadata": {
    "collapsed": true
   },
   "outputs": [],
   "source": [
    "rates.to_csv('/Volumes/group/awagner/sgagnon/SST/analysis/behav/localizer_dprime.csv')"
   ]
  },
  {
   "cell_type": "markdown",
   "metadata": {},
   "source": [
    "## Generate onset files"
   ]
  },
  {
   "cell_type": "markdown",
   "metadata": {},
   "source": [
    "Each csv file must have a column for `run`, `condition`, `onset`, `duration`, and `value`"
   ]
  },
  {
   "cell_type": "code",
   "execution_count": 16,
   "metadata": {
    "collapsed": false
   },
   "outputs": [
    {
     "data": {
      "text/plain": [
       "-0.61119999999999997"
      ]
     },
     "execution_count": 16,
     "metadata": {},
     "output_type": "execute_result"
    }
   ],
   "source": [
    "dl.loc[dl.cond != 'rest', 'duration_adj'].min()"
   ]
  },
  {
   "cell_type": "code",
   "execution_count": 17,
   "metadata": {
    "collapsed": false
   },
   "outputs": [
    {
     "data": {
      "text/plain": [
       "<matplotlib.axes._subplots.AxesSubplot at 0x120a9dd10>"
      ]
     },
     "execution_count": 17,
     "metadata": {},
     "output_type": "execute_result"
    },
    {
     "data": {
      "image/png": "[encoded data removed]",
      "text/plain": [
       "<matplotlib.figure.Figure at 0x1169a9a50>"
      ]
     },
     "metadata": {},
     "output_type": "display_data"
    }
   ],
   "source": [
    "dl.loc[(dl.cond != 'rest'), 'duration_adj'].hist(bins=20)"
   ]
  },
  {
   "cell_type": "code",
   "execution_count": 18,
   "metadata": {
    "collapsed": false
   },
   "outputs": [
    {
     "data": {
      "text/html": [
       "<div>\n",
       "<table border=\"1\" class=\"dataframe\">\n",
       "  <thead>\n",
       "    <tr style=\"text-align: right;\">\n",
       "      <th></th>\n",
       "      <th>run</th>\n",
       "      <th>trial</th>\n",
       "      <th>onset</th>\n",
       "      <th>duration</th>\n",
       "      <th>cond</th>\n",
       "      <th>rep</th>\n",
       "      <th>resp</th>\n",
       "      <th>acc</th>\n",
       "      <th>respRT</th>\n",
       "      <th>subid</th>\n",
       "      <th>group</th>\n",
       "      <th>duration_adj</th>\n",
       "      <th>onset_adj</th>\n",
       "    </tr>\n",
       "  </thead>\n",
       "  <tbody>\n",
       "    <tr>\n",
       "      <th>1723</th>\n",
       "      <td>2</td>\n",
       "      <td>184</td>\n",
       "      <td>440.0266</td>\n",
       "      <td>0.7748</td>\n",
       "      <td>fruitveg</td>\n",
       "      <td>0</td>\n",
       "      <td>NR</td>\n",
       "      <td>0</td>\n",
       "      <td>999.6000</td>\n",
       "      <td>6</td>\n",
       "      <td>control</td>\n",
       "      <td>-0.2252</td>\n",
       "      <td>432.0266</td>\n",
       "    </tr>\n",
       "    <tr>\n",
       "      <th>3478</th>\n",
       "      <td>2</td>\n",
       "      <td>179</td>\n",
       "      <td>432.0264</td>\n",
       "      <td>0.7748</td>\n",
       "      <td>fruitveg</td>\n",
       "      <td>0</td>\n",
       "      <td>0</td>\n",
       "      <td>1</td>\n",
       "      <td>1.1449</td>\n",
       "      <td>11</td>\n",
       "      <td>control</td>\n",
       "      <td>-0.2252</td>\n",
       "      <td>424.0264</td>\n",
       "    </tr>\n",
       "    <tr>\n",
       "      <th>6728</th>\n",
       "      <td>1</td>\n",
       "      <td>129</td>\n",
       "      <td>310.0202</td>\n",
       "      <td>0.7809</td>\n",
       "      <td>tool</td>\n",
       "      <td>0</td>\n",
       "      <td>NR</td>\n",
       "      <td>0</td>\n",
       "      <td>999.6000</td>\n",
       "      <td>20</td>\n",
       "      <td>stress</td>\n",
       "      <td>-0.2191</td>\n",
       "      <td>302.0202</td>\n",
       "    </tr>\n",
       "    <tr>\n",
       "      <th>7961</th>\n",
       "      <td>1</td>\n",
       "      <td>42</td>\n",
       "      <td>104.0113</td>\n",
       "      <td>0.3888</td>\n",
       "      <td>tool</td>\n",
       "      <td>1</td>\n",
       "      <td>NR</td>\n",
       "      <td>0</td>\n",
       "      <td>999.6000</td>\n",
       "      <td>23</td>\n",
       "      <td>control</td>\n",
       "      <td>-0.6112</td>\n",
       "      <td>96.0113</td>\n",
       "    </tr>\n",
       "    <tr>\n",
       "      <th>16294</th>\n",
       "      <td>1</td>\n",
       "      <td>15</td>\n",
       "      <td>44.0091</td>\n",
       "      <td>0.3916</td>\n",
       "      <td>tool</td>\n",
       "      <td>0</td>\n",
       "      <td>NR</td>\n",
       "      <td>0</td>\n",
       "      <td>999.6000</td>\n",
       "      <td>55</td>\n",
       "      <td>stress</td>\n",
       "      <td>-0.6084</td>\n",
       "      <td>36.0091</td>\n",
       "    </tr>\n",
       "  </tbody>\n",
       "</table>\n",
       "</div>"
      ],
      "text/plain": [
       "       run  trial     onset  duration      cond  rep resp  acc    respRT  \\\n",
       "1723     2    184  440.0266    0.7748  fruitveg    0   NR    0  999.6000   \n",
       "3478     2    179  432.0264    0.7748  fruitveg    0    0    1    1.1449   \n",
       "6728     1    129  310.0202    0.7809      tool    0   NR    0  999.6000   \n",
       "7961     1     42  104.0113    0.3888      tool    1   NR    0  999.6000   \n",
       "16294    1     15   44.0091    0.3916      tool    0   NR    0  999.6000   \n",
       "\n",
       "       subid    group  duration_adj  onset_adj  \n",
       "1723       6  control       -0.2252   432.0266  \n",
       "3478      11  control       -0.2252   424.0264  \n",
       "6728      20   stress       -0.2191   302.0202  \n",
       "7961      23  control       -0.6112    96.0113  \n",
       "16294     55   stress       -0.6084    36.0091  "
      ]
     },
     "execution_count": 18,
     "metadata": {},
     "output_type": "execute_result"
    }
   ],
   "source": [
    "dl.loc[dl.duration_adj < .5]"
   ]
  },
  {
   "cell_type": "code",
   "execution_count": 19,
   "metadata": {
    "collapsed": false
   },
   "outputs": [
    {
     "name": "stdout",
     "output_type": "stream",
     "text": [
      "3\n",
      "4\n",
      "5\n",
      "6\n",
      "7\n",
      "9\n",
      "10\n",
      "11\n",
      "12\n",
      "13\n",
      "14\n",
      "15\n",
      "16\n",
      "18\n",
      "19\n",
      "20\n",
      "21\n",
      "22\n",
      "23\n",
      "24\n",
      "26\n",
      "29\n",
      "30\n",
      "31\n",
      "34\n",
      "35\n",
      "38\n",
      "40\n",
      "41\n",
      "43\n",
      "44\n",
      "45\n",
      "46\n",
      "48\n",
      "49\n",
      "50\n",
      "54\n",
      "55\n",
      "56\n",
      "57\n"
     ]
    }
   ],
   "source": [
    "output_filename = 'localizer_cond.csv'\n",
    "output_dir = '/Volumes/group/awagner/sgagnon/SST/data'\n",
    "\n",
    "for subid in subj_info.subid:\n",
    "    print subid\n",
    "    \n",
    "    dsub = dl[(dl.subid == subid) & (dl.cond != 'rest')]\n",
    "    ddesign = pd.DataFrame({'run': dsub.run,\n",
    "                            'condition': dsub.cond,\n",
    "                            'onset': dsub.onset_adj,\n",
    "                            'duration': .6,\n",
    "                            'value': 1})\n",
    "    if subid < 10:\n",
    "        subname='sst0'+str(subid)\n",
    "    else:\n",
    "        subname='sst'+str(subid)\n",
    "    \n",
    "    sub_output_dir = op.join(output_dir, subname, 'design')\n",
    "    if not os.path.exists(sub_output_dir):\n",
    "        os.makedirs(sub_output_dir)\n",
    "    \n",
    "    ddesign.to_csv(op.join(sub_output_dir, output_filename), index=False)"
   ]
  },
  {
   "cell_type": "code",
   "execution_count": 20,
   "metadata": {
    "collapsed": false
   },
   "outputs": [
    {
     "name": "stdout",
     "output_type": "stream",
     "text": [
      "3\n",
      "4\n",
      "5\n",
      "6\n",
      "7\n",
      "9\n",
      "10\n",
      "11\n",
      "12\n",
      "13\n",
      "14\n",
      "15\n",
      "16\n",
      "18\n",
      "19\n",
      "20\n",
      "21\n",
      "22\n",
      "23\n",
      "24\n",
      "26\n",
      "29\n",
      "30\n",
      "31\n",
      "34\n",
      "35\n",
      "38\n",
      "40\n",
      "41\n",
      "43\n",
      "44\n",
      "45\n",
      "46\n",
      "48\n",
      "49\n",
      "50\n",
      "54\n",
      "55\n",
      "56\n",
      "57\n"
     ]
    }
   ],
   "source": [
    "output_filename = 'localizer_cond_mvpa.csv'\n",
    "output_dir = '/Volumes/group/awagner/sgagnon/SST/data'\n",
    "\n",
    "# for subid in subj_info.subid:\n",
    "for subid in subj_info.subid:\n",
    "    print subid\n",
    "    dsub = dl[(dl.subid == subid)] # & (dl.cond != 'rest')\n",
    "    ddesign = pd.DataFrame({'run': dsub.run + 12, #update w/nav runs\n",
    "                            'condition': dsub.cond,\n",
    "                            'onset': dsub.onset_adj,\n",
    "                            'duration': .6,\n",
    "                            'value': 1})\n",
    "    \n",
    "    if subid < 10:\n",
    "        subname='sst0'+str(subid)\n",
    "    else:\n",
    "        subname='sst'+str(subid)\n",
    "        \n",
    "    ddesign.to_csv(op.join(output_dir, subname,\n",
    "                           'design', output_filename), index=False)"
   ]
  },
  {
   "cell_type": "code",
   "execution_count": 19,
   "metadata": {
    "collapsed": false
   },
   "outputs": [
    {
     "data": {
      "text/html": [
       "<div>\n",
       "<table border=\"1\" class=\"dataframe\">\n",
       "  <thead>\n",
       "    <tr style=\"text-align: right;\">\n",
       "      <th></th>\n",
       "      <th>run</th>\n",
       "      <th>trial</th>\n",
       "      <th>onset</th>\n",
       "      <th>duration</th>\n",
       "      <th>cond</th>\n",
       "      <th>rep</th>\n",
       "      <th>resp</th>\n",
       "      <th>acc</th>\n",
       "      <th>respRT</th>\n",
       "      <th>subid</th>\n",
       "      <th>group</th>\n",
       "      <th>duration_adj</th>\n",
       "      <th>onset_adj</th>\n",
       "    </tr>\n",
       "  </thead>\n",
       "  <tbody>\n",
       "    <tr>\n",
       "      <th>0</th>\n",
       "      <td>1</td>\n",
       "      <td>1</td>\n",
       "      <td>12.0018</td>\n",
       "      <td>1.6001</td>\n",
       "      <td>virtualtown</td>\n",
       "      <td>0</td>\n",
       "      <td>NR</td>\n",
       "      <td>0</td>\n",
       "      <td>999.6000</td>\n",
       "      <td>3</td>\n",
       "      <td>control</td>\n",
       "      <td>0.6001</td>\n",
       "      <td>4.0018</td>\n",
       "    </tr>\n",
       "    <tr>\n",
       "      <th>1</th>\n",
       "      <td>1</td>\n",
       "      <td>2</td>\n",
       "      <td>13.6022</td>\n",
       "      <td>1.5986</td>\n",
       "      <td>virtualtown</td>\n",
       "      <td>0</td>\n",
       "      <td>0</td>\n",
       "      <td>1</td>\n",
       "      <td>0.6579</td>\n",
       "      <td>3</td>\n",
       "      <td>control</td>\n",
       "      <td>0.5986</td>\n",
       "      <td>5.6022</td>\n",
       "    </tr>\n",
       "    <tr>\n",
       "      <th>2</th>\n",
       "      <td>1</td>\n",
       "      <td>3</td>\n",
       "      <td>15.2010</td>\n",
       "      <td>1.6000</td>\n",
       "      <td>virtualtown</td>\n",
       "      <td>0</td>\n",
       "      <td>0</td>\n",
       "      <td>1</td>\n",
       "      <td>0.6217</td>\n",
       "      <td>3</td>\n",
       "      <td>control</td>\n",
       "      <td>0.6000</td>\n",
       "      <td>7.2010</td>\n",
       "    </tr>\n",
       "    <tr>\n",
       "      <th>3</th>\n",
       "      <td>1</td>\n",
       "      <td>4</td>\n",
       "      <td>16.8012</td>\n",
       "      <td>1.6001</td>\n",
       "      <td>virtualtown</td>\n",
       "      <td>1</td>\n",
       "      <td>1</td>\n",
       "      <td>1</td>\n",
       "      <td>0.5156</td>\n",
       "      <td>3</td>\n",
       "      <td>control</td>\n",
       "      <td>0.6001</td>\n",
       "      <td>8.8012</td>\n",
       "    </tr>\n",
       "    <tr>\n",
       "      <th>4</th>\n",
       "      <td>1</td>\n",
       "      <td>5</td>\n",
       "      <td>18.4015</td>\n",
       "      <td>1.5996</td>\n",
       "      <td>virtualtown</td>\n",
       "      <td>0</td>\n",
       "      <td>0</td>\n",
       "      <td>1</td>\n",
       "      <td>0.6483</td>\n",
       "      <td>3</td>\n",
       "      <td>control</td>\n",
       "      <td>0.5996</td>\n",
       "      <td>10.4015</td>\n",
       "    </tr>\n",
       "  </tbody>\n",
       "</table>\n",
       "</div>"
      ],
      "text/plain": [
       "   run  trial    onset  duration         cond  rep resp  acc    respRT  subid  \\\n",
       "0    1      1  12.0018    1.6001  virtualtown    0   NR    0  999.6000      3   \n",
       "1    1      2  13.6022    1.5986  virtualtown    0    0    1    0.6579      3   \n",
       "2    1      3  15.2010    1.6000  virtualtown    0    0    1    0.6217      3   \n",
       "3    1      4  16.8012    1.6001  virtualtown    1    1    1    0.5156      3   \n",
       "4    1      5  18.4015    1.5996  virtualtown    0    0    1    0.6483      3   \n",
       "\n",
       "     group  duration_adj  onset_adj  \n",
       "0  control        0.6001     4.0018  \n",
       "1  control        0.5986     5.6022  \n",
       "2  control        0.6000     7.2010  \n",
       "3  control        0.6001     8.8012  \n",
       "4  control        0.5996    10.4015  "
      ]
     },
     "execution_count": 19,
     "metadata": {},
     "output_type": "execute_result"
    }
   ],
   "source": [
    "dl.head()"
   ]
  },
  {
   "cell_type": "code",
   "execution_count": 20,
   "metadata": {
    "collapsed": false
   },
   "outputs": [
    {
     "data": {
      "text/plain": [
       "array(['virtualtown', 'rest', 'tool', 'animal', 'fruitveg', 'face'], dtype=object)"
      ]
     },
     "execution_count": 20,
     "metadata": {},
     "output_type": "execute_result"
    }
   ],
   "source": [
    "dl.cond.unique()"
   ]
  },
  {
   "cell_type": "code",
   "execution_count": 24,
   "metadata": {
    "collapsed": false
   },
   "outputs": [
    {
     "data": {
      "text/plain": [
       "array(['virtualtown', 'rest', 'object', 'animal', 'face'], dtype=object)"
      ]
     },
     "execution_count": 24,
     "metadata": {},
     "output_type": "execute_result"
    }
   ],
   "source": [
    "dl['cond_merge'] = dl.cond\n",
    "dl.loc[dl.cond_merge.isin(['fruitveg', 'tool']), 'cond_merge'] = 'object'\n",
    "dl.cond_merge.unique()"
   ]
  },
  {
   "cell_type": "code",
   "execution_count": 27,
   "metadata": {
    "collapsed": false
   },
   "outputs": [
    {
     "name": "stdout",
     "output_type": "stream",
     "text": [
      "3\n",
      "4\n",
      "5\n",
      "6\n",
      "7\n",
      "9\n",
      "10\n",
      "11\n",
      "12\n",
      "13\n",
      "14\n",
      "15\n",
      "16\n",
      "18\n",
      "19\n",
      "20\n",
      "21\n",
      "22\n",
      "23\n",
      "24\n",
      "26\n",
      "29\n",
      "30\n",
      "31\n",
      "34\n",
      "35\n",
      "38\n",
      "40\n",
      "41\n",
      "43\n",
      "44\n",
      "45\n",
      "46\n",
      "48\n",
      "49\n",
      "50\n",
      "54\n",
      "55\n",
      "56\n",
      "57\n"
     ]
    }
   ],
   "source": [
    "output_filename = 'localizer_cond_mergeobj_mvpa.csv'\n",
    "output_dir = '/Volumes/group/awagner/sgagnon/SST/data'\n",
    "\n",
    "# for subid in subj_info.subid:\n",
    "for subid in subj_info.subid:\n",
    "    \n",
    "    print subid\n",
    "    \n",
    "    # deal with crash subjs\n",
    "    if subid in [40, 46, 48, 54]:\n",
    "        run_shift = 13\n",
    "    else:\n",
    "        run_shift = 12\n",
    "    \n",
    "    dsub = dl[(dl.subid == subid)] # & (dl.cond != 'rest')\n",
    "    ddesign = pd.DataFrame({'run': dsub.run + run_shift, #update w/nav runs\n",
    "                            'condition': dsub.cond_merge,\n",
    "                            'onset': dsub.onset_adj,\n",
    "                            'duration': .6,\n",
    "                            'value': 1})\n",
    "    \n",
    "    if subid < 10:\n",
    "        subname='sst0'+str(subid)\n",
    "    else:\n",
    "        subname='sst'+str(subid)\n",
    "        \n",
    "    ddesign.to_csv(op.join(output_dir, subname,\n",
    "                           'design', output_filename), index=False)"
   ]
  },
  {
   "cell_type": "code",
   "execution_count": null,
   "metadata": {
    "collapsed": false
   },
   "outputs": [],
   "source": []
  },
  {
   "cell_type": "code",
   "execution_count": null,
   "metadata": {
    "collapsed": true
   },
   "outputs": [],
   "source": []
  },
  {
   "cell_type": "code",
   "execution_count": null,
   "metadata": {
    "collapsed": true
   },
   "outputs": [],
   "source": []
  }
 ],
 "metadata": {
  "kernelspec": {
   "display_name": "Python 2",
   "language": "python",
   "name": "python2"
  },
  "language_info": {
   "codemirror_mode": {
    "name": "ipython",
    "version": 2
   },
   "file_extension": ".py",
   "mimetype": "text/x-python",
   "name": "python",
   "nbconvert_exporter": "python",
   "pygments_lexer": "ipython2",
   "version": "2.7.12"
  }
 },
 "nbformat": 4,
 "nbformat_minor": 0
}
